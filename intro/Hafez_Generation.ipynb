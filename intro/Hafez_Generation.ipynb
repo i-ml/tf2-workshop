{
  "nbformat": 4,
  "nbformat_minor": 0,
  "metadata": {
    "colab": {
      "name": "Hafez Generation.ipynb",
      "version": "0.3.2",
      "provenance": [],
      "collapsed_sections": []
    },
    "kernelspec": {
      "name": "python3",
      "display_name": "Python 3"
    },
    "accelerator": "GPU"
  },
  "cells": [
    {
      "cell_type": "markdown",
      "metadata": {
        "id": "0t44yXsqkVPd",
        "colab_type": "text"
      },
      "source": [
        "# Initialization"
      ]
    },
    {
      "cell_type": "code",
      "metadata": {
        "id": "_tov6lY_kQHc",
        "colab_type": "code",
        "outputId": "9da17687-548b-4cc3-a6fb-be776e16bff9",
        "colab": {
          "base_uri": "https://localhost:8080/",
          "height": 34
        }
      },
      "source": [
        "#@title Mounting Gdrive\n",
        "\n",
        "USE_G_COLAB = True #@param {type:\"boolean\"}\n",
        "\n",
        "if USE_G_COLAB:\n",
        "    from google.colab import drive\n",
        "\n",
        "    \n",
        "    drive.mount('/content/drive', force_remount=True)   "
      ],
      "execution_count": 25,
      "outputs": [
        {
          "output_type": "stream",
          "text": [
            "Mounted at /content/drive\n"
          ],
          "name": "stdout"
        }
      ]
    },
    {
      "cell_type": "code",
      "metadata": {
        "id": "JIXSLhrIkaRQ",
        "colab_type": "code",
        "colab": {}
      },
      "source": [
        "#@title Project Root\n",
        "\n",
        "root_dir = ''\n",
        "\n",
        "if USE_G_COLAB:\n",
        "    root_dir = '/content/drive/My Drive/Colab Notebooks/playground/hafez/' #@param {type:\"string\"}"
      ],
      "execution_count": 0,
      "outputs": []
    },
    {
      "cell_type": "code",
      "metadata": {
        "id": "JhXpe5QpkqsN",
        "colab_type": "code",
        "colab": {}
      },
      "source": [
        "#@title Installing requried packages\n",
        "\n",
        "!pip install -q tensorflow-gpu==2.0.0-beta1\n",
        "!pip install -qU Unidecode\n",
        "!pip install -qU watermark"
      ],
      "execution_count": 0,
      "outputs": []
    },
    {
      "cell_type": "code",
      "metadata": {
        "id": "ybhCKIV18sQk",
        "colab_type": "code",
        "colab": {}
      },
      "source": [
        "#@title Custom Matplotlib Style\n",
        "mpl_style = \"https://gist.githubusercontent.com/m3hrdadfi/af8aca01094afb7d3e5b46de9ad8d509/raw/871ec5d721a3b438c3c896718ea4aafc91ea9744/gadfly.mplstyle\" #@param {type:\"string\"}\n",
        "\n",
        "!wget -q $mpl_style -O /root/.config/matplotlib/matplotlibrc"
      ],
      "execution_count": 0,
      "outputs": []
    },
    {
      "cell_type": "code",
      "metadata": {
        "id": "OiQUIAmQkzNF",
        "colab_type": "code",
        "colab": {}
      },
      "source": [
        "from __future__ import absolute_import, division, print_function, unicode_literals\n",
        "\n",
        "import tensorflow as tf\n",
        "\n",
        "import numpy as np\n",
        "import pandas as pd\n",
        "\n",
        "import matplotlib as mpl\n",
        "import matplotlib.pyplot as plt\n",
        "\n",
        "import random\n",
        "import sys\n",
        "import io\n",
        "import re\n",
        "import time\n",
        "import datetime\n",
        "import os\n",
        "\n",
        "from unidecode import unidecode\n",
        "from pprint import pprint\n",
        "\n",
        "\n",
        "%matplotlib inline\n",
        "mpl.rc_file(mpl.matplotlib_fname())"
      ],
      "execution_count": 0,
      "outputs": []
    },
    {
      "cell_type": "code",
      "metadata": {
        "id": "wJXr_b5887l6",
        "colab_type": "code",
        "colab": {}
      },
      "source": [
        "%reload_ext watermark\n",
        "%watermark -m -n -p tensorflow,numpy,matplotlib,sklearn -g"
      ],
      "execution_count": 0,
      "outputs": []
    },
    {
      "cell_type": "markdown",
      "metadata": {
        "id": "QoHmNSvYk_cL",
        "colab_type": "text"
      },
      "source": [
        "# Preparing the dataset"
      ]
    },
    {
      "cell_type": "code",
      "metadata": {
        "id": "QcIOTnz6k-GU",
        "colab_type": "code",
        "colab": {}
      },
      "source": [
        "#@title Dataset/Outputs directory\n",
        "\n",
        "dataset_dir = 'dataset' #@param {type:\"string\"}\n",
        "dataset_dir = os.path.join(root_dir, dataset_dir)\n",
        "\n",
        "output_dir = 'outputs'  #@param {type:\"string\"}\n",
        "output_dir = os.path.join(root_dir, output_dir)\n",
        "\n",
        "os.makedirs(dataset_dir, exist_ok=True)\n",
        "os.makedirs(output_dir, exist_ok=True)"
      ],
      "execution_count": 0,
      "outputs": []
    },
    {
      "cell_type": "code",
      "metadata": {
        "id": "XyG1nIphlHEL",
        "colab_type": "code",
        "colab": {}
      },
      "source": [
        "texts = ''\n",
        "identifier = 'غزل   ' #@param {type:\"string\"}\n",
        "poem_file = 'hafez.txt' #@param {type:\"string\"}\n",
        "\n",
        "with open(os.path.join(dataset_dir, poem_file), encoding='utf-8-sig') as f:\n",
        "    for line in f.readlines():\n",
        "        line = line.strip()\n",
        "        \n",
        "        if not identifier in line and line:\n",
        "            texts += line\n",
        "            \n",
        "print(texts[:100])"
      ],
      "execution_count": 0,
      "outputs": []
    },
    {
      "cell_type": "markdown",
      "metadata": {
        "id": "FUlzKfH1uXkP",
        "colab_type": "text"
      },
      "source": [
        "# Preprocessing"
      ]
    },
    {
      "cell_type": "code",
      "metadata": {
        "id": "nX2leNcXgzB_",
        "colab_type": "code",
        "colab": {}
      },
      "source": [
        "def text2idx(text, char2idx):\n",
        "    return np.array([char2idx[c] for c in text])\n",
        "\n",
        "\n",
        "def build_vocab(text, verbose=True):\n",
        "    vocab = sorted(set(text))\n",
        "    \n",
        "    char2idx = {u:i for i, u in enumerate(vocab)}\n",
        "    idx2char = np.array(vocab)\n",
        "    \n",
        "    if verbose:\n",
        "        print('{} unique characters\\n'.format(len(vocab)))\n",
        "        \n",
        "    return vocab, char2idx, idx2char"
      ],
      "execution_count": 0,
      "outputs": []
    },
    {
      "cell_type": "code",
      "metadata": {
        "id": "Jpj54yWilktt",
        "colab_type": "code",
        "colab": {}
      },
      "source": [
        "vocab, char2idx, idx2char = build_vocab(texts)\n",
        "sequences = text2idx(texts, char2idx)\n",
        "\n",
        "print ('{}\\n mapped to integers:\\n {}'.format(repr(texts[:10]), sequences[:10]))"
      ],
      "execution_count": 0,
      "outputs": []
    },
    {
      "cell_type": "code",
      "metadata": {
        "id": "EyC-3g2XwmPh",
        "colab_type": "code",
        "colab": {}
      },
      "source": [
        "#@title Train-Validating Split\n",
        "\n",
        "valid_rate = 0.2 #@param {type:\"number\"}\n",
        "valid_splitter = int(len(sequences) - len(sequences) * valid_rate)\n",
        "\n",
        "train_seq = sequences[:valid_splitter]\n",
        "valid_seq = sequences[valid_splitter:]\n",
        "\n",
        "\n",
        "NUM_TRAIN = len(train_seq)\n",
        "NUM_VALID = len(valid_seq)\n",
        "\n",
        "print('Total: %s\\nTrain: %s\\nValidating: %s' %(sequences.shape, train_seq.shape, valid_seq.shape))"
      ],
      "execution_count": 0,
      "outputs": []
    },
    {
      "cell_type": "code",
      "metadata": {
        "id": "TqrjExjr1lGO",
        "colab_type": "code",
        "colab": {}
      },
      "source": [
        "def split_xy(chunk):\n",
        "    x = chunk[:-1]\n",
        "    y = chunk[1:]\n",
        "    return x, y"
      ],
      "execution_count": 0,
      "outputs": []
    },
    {
      "cell_type": "code",
      "metadata": {
        "id": "VsxCNTUMikj2",
        "colab_type": "code",
        "outputId": "ce4a6979-7bcc-4e12-a6ca-5aaae07ddf36",
        "colab": {
          "base_uri": "https://localhost:8080/",
          "height": 493
        }
      },
      "source": [
        "#@title Preparing the dataset\n",
        "\n",
        "SEQ_LENGTH = 50 #@param {type:\"integer\"}\n",
        "BATCH_SIZE = 32 #@param {type:\"integer\"}\n",
        "BUFFER_SIZE = 10000 #@param {type:\"integer\"}\n",
        "\n",
        "train_char_dataset = tf.data.Dataset.from_tensor_slices(train_seq)\n",
        "valid_char_dataset = tf.data.Dataset.from_tensor_slices(valid_seq)\n",
        "\n",
        "print('Train char:')\n",
        "for i in train_char_dataset.take(5):\n",
        "    print(idx2char[i.numpy()])\n",
        "\n",
        "print('Valid char:')\n",
        "for i in valid_char_dataset.take(5):\n",
        "    print(idx2char[i.numpy()])\n",
        "\n",
        "\n",
        "train_sequences = train_char_dataset.batch(SEQ_LENGTH + 1, drop_remainder=True)\n",
        "valid_sequences = valid_char_dataset.batch(SEQ_LENGTH + 1, drop_remainder=True)\n",
        "\n",
        "print()\n",
        "print('Train sequences:')\n",
        "for item in train_sequences.take(5):\n",
        "    print(repr(''.join(idx2char[item.numpy()])))\n",
        "\n",
        "print('Valid sequences:')\n",
        "for item in valid_sequences.take(5):\n",
        "    print(repr(''.join(idx2char[item.numpy()])))\n",
        "\n",
        "train_dataset = train_sequences.map(split_xy)\n",
        "valid_dataset = valid_sequences.map(split_xy)\n",
        "\n",
        "print()\n",
        "print('Train dataset: %s\\nValidating dataset: %s' %(train_dataset, valid_dataset))"
      ],
      "execution_count": 37,
      "outputs": [
        {
          "output_type": "stream",
          "text": [
            "Train char:\n",
            "ا\n",
            "ل\n",
            "ا\n",
            " \n",
            "ي\n",
            "Valid char:\n",
            "ا\n",
            "ر\n",
            " \n",
            "ن\n",
            "ص\n",
            "\n",
            "Train sequences:\n",
            "'الا يا ايها الساقی ادر کاسا و ناولهاکه عشق آسان نمو'\n",
            "'د اول ولی افتاد مشکل\\u200cهابه بوی نافه\\u200cای کاخر صبا زان '\n",
            "'طره بگشايدز تاب جعد مشکينش چه خون افتاد در دل\\u200cهامرا'\n",
            "' در منزل جانان چه امن عيش چون هر دمجرس فرياد می\\u200cدار'\n",
            "'د که بربنديد محمل\\u200cهابه می سجاده رنگين کن گرت پير مغ'\n",
            "Valid sequences:\n",
            "'ار نصيحت نيوش کنساقی که جامت از می صافی تهی مبادچشم'\n",
            "' عنايتی به من دردنوش کنسرمست در قبای زرافشان چو بگذ'\n",
            "'ریيک بوسه نذر حافظ پشمينه پوش کنکرشمه\\u200cای کن و بازار'\n",
            "' ساحری بشکنبه غمزه رونق و ناموس سامری بشکنبه باد ده'\n",
            "' سر و دستار عالمی يعنیکلاه گوشه به آيين سروری بشکنب'\n",
            "\n",
            "Train dataset: <MapDataset shapes: ((50,), (50,)), types: (tf.int64, tf.int64)>\n",
            "Validating dataset: <MapDataset shapes: ((50,), (50,)), types: (tf.int64, tf.int64)>\n"
          ],
          "name": "stdout"
        }
      ]
    },
    {
      "cell_type": "code",
      "metadata": {
        "id": "exYJuYOa0Xcc",
        "colab_type": "code",
        "outputId": "604a5a56-fb2c-464c-ee31-9141a3a79268",
        "colab": {
          "base_uri": "https://localhost:8080/",
          "height": 595
        }
      },
      "source": [
        "for x_et, y_et in train_dataset.take(1):\n",
        "    print('Input data: ', repr(''.join(idx2char[x_et.numpy()])))\n",
        "    print('Target data:', repr(''.join(idx2char[y_et.numpy()])))\n",
        "    \n",
        "    \n",
        "for i, (x_t, y_t) in enumerate(zip(x_et[:5], y_et[:5])):\n",
        "    print(\"Step {:4d}\".format(i))\n",
        "    print(\"  input: {} ({:s})\".format(x_t, repr(idx2char[x_t])))\n",
        "    print(\"  expected output: {} ({:s})\".format(y_t, repr(idx2char[y_t])))\n",
        "    \n",
        "    \n",
        "for x_ev, y_ev in valid_dataset.take(1):\n",
        "    print('Input data: ', repr(''.join(idx2char[x_ev.numpy()])))\n",
        "    print('Target data:', repr(''.join(idx2char[y_ev.numpy()])))\n",
        "    \n",
        "    \n",
        "for i, (x_v, y_v) in enumerate(zip(x_ev[:5], y_ev[:5])):\n",
        "    print(\"Step {:4d}\".format(i))\n",
        "    print(\"  input: {} ({:s})\".format(x_v, repr(idx2char[x_v])))\n",
        "    print(\"  expected output: {} ({:s})\".format(y_v, repr(idx2char[y_v])))"
      ],
      "execution_count": 38,
      "outputs": [
        {
          "output_type": "stream",
          "text": [
            "Input data:  'الا يا ايها الساقی ادر کاسا و ناولهاکه عشق آسان نم'\n",
            "Target data: 'لا يا ايها الساقی ادر کاسا و ناولهاکه عشق آسان نمو'\n",
            "Step    0\n",
            "  input: 2 ('ا')\n",
            "  expected output: 23 ('ل')\n",
            "Step    1\n",
            "  input: 23 ('ل')\n",
            "  expected output: 2 ('ا')\n",
            "Step    2\n",
            "  input: 2 ('ا')\n",
            "  expected output: 0 (' ')\n",
            "Step    3\n",
            "  input: 0 (' ')\n",
            "  expected output: 28 ('ي')\n",
            "Step    4\n",
            "  input: 28 ('ي')\n",
            "  expected output: 2 ('ا')\n",
            "Input data:  'ار نصيحت نيوش کنساقی که جامت از می صافی تهی مبادچش'\n",
            "Target data: 'ر نصيحت نيوش کنساقی که جامت از می صافی تهی مبادچشم'\n",
            "Step    0\n",
            "  input: 2 ('ا')\n",
            "  expected output: 11 ('ر')\n",
            "Step    1\n",
            "  input: 11 ('ر')\n",
            "  expected output: 0 (' ')\n",
            "Step    2\n",
            "  input: 0 (' ')\n",
            "  expected output: 25 ('ن')\n",
            "Step    3\n",
            "  input: 25 ('ن')\n",
            "  expected output: 15 ('ص')\n",
            "Step    4\n",
            "  input: 15 ('ص')\n",
            "  expected output: 28 ('ي')\n"
          ],
          "name": "stdout"
        }
      ]
    },
    {
      "cell_type": "markdown",
      "metadata": {
        "id": "R-d90DPDy1yv",
        "colab_type": "text"
      },
      "source": [
        "# Arch"
      ]
    },
    {
      "cell_type": "code",
      "metadata": {
        "id": "frlj9znaySQY",
        "colab_type": "code",
        "colab": {}
      },
      "source": [
        "#@title Parameters Setup\n",
        "\n",
        "# Length of the vocabulary in chars\n",
        "VOCAB_SIZE = len(vocab)\n",
        "\n",
        "# The embedding dimension\n",
        "EMBEDDING_DIM = 100 #@param {type:\"integer\"}\n",
        "\n",
        "# Number of RNN units\n",
        "RNN_UNITS = 300 #@param {type:\"integer\"}\n",
        "\n",
        "# Dropout rate\n",
        "DROPOUT_RATE = 0.2 #@param {type:\"number\"}\n",
        "\n",
        "# Epochs\n",
        "EPOCHS = 10 #@param {type:\"integer\"}\n",
        "\n",
        "# Learning rate\n",
        "LR = 0.0005 #@param {type:\"number\"}\n",
        "\n",
        "# Output every\n",
        "EVERY_BATCH = 20 #@param {type:\"integer\"}\n",
        "EVERY_EPOCH = 5 #@param {type:\"integer\"}"
      ],
      "execution_count": 0,
      "outputs": []
    },
    {
      "cell_type": "code",
      "metadata": {
        "id": "XvkjkWA33-Gi",
        "colab_type": "code",
        "outputId": "8682d5fa-2054-4aab-f5bd-927255b5fd36",
        "colab": {
          "base_uri": "https://localhost:8080/",
          "height": 51
        }
      },
      "source": [
        "train_dataset = train_dataset.shuffle(BUFFER_SIZE).batch(BATCH_SIZE, drop_remainder=True)\n",
        "valid_dataset = valid_dataset.shuffle(BUFFER_SIZE).batch(BATCH_SIZE, drop_remainder=True)\n",
        "\n",
        "print('Train dataset: %s\\nValidating dataset: %s' %(train_dataset, valid_dataset))"
      ],
      "execution_count": 40,
      "outputs": [
        {
          "output_type": "stream",
          "text": [
            "Train dataset: <BatchDataset shapes: ((32, 50), (32, 50)), types: (tf.int64, tf.int64)>\n",
            "Validating dataset: <BatchDataset shapes: ((32, 50), (32, 50)), types: (tf.int64, tf.int64)>\n"
          ],
          "name": "stdout"
        }
      ]
    },
    {
      "cell_type": "code",
      "metadata": {
        "id": "02gDA62-1Df7",
        "colab_type": "code",
        "colab": {}
      },
      "source": [
        "def generate_text(seed_text, next_words, model):\n",
        "    # Converting our start string to numbers (vectorizing)\n",
        "    x_eval = [char2idx[s] for s in seed_text]\n",
        "    x_eval = tf.expand_dims(x_eval, 0)\n",
        "    \n",
        "    # Empty string to store our results\n",
        "    text_generated = []\n",
        "    \n",
        "    # Low temperatures results in more predictable text.\n",
        "    # Higher temperatures results in more surprising text.\n",
        "    # Experiment to find the best setting.\n",
        "    temperature = 1.0\n",
        "    \n",
        "    # Here batch size == 1\n",
        "    model.reset_states()\n",
        "    for i in range(next_words):\n",
        "        predictions = model(x_eval)\n",
        "        \n",
        "        # remove the batch dimension\n",
        "        predictions = tf.squeeze(predictions, 0)\n",
        "\n",
        "        # using a categorical distribution to predict the word returned by the model\n",
        "        predictions = predictions / temperature\n",
        "        predicted_id = tf.random.categorical(predictions, num_samples=1)[-1,0].numpy()\n",
        "\n",
        "        # We pass the predicted word as the next input to the model\n",
        "        # along with the previous hidden state\n",
        "        x_eval = tf.expand_dims([predicted_id], 0)\n",
        "\n",
        "        text_generated.append(idx2char[predicted_id])\n",
        "        \n",
        "    \n",
        "    return seed_text + ''.join(text_generated)\n",
        "\n",
        "def scc_loss(labels, logits):\n",
        "    return tf.keras.losses.sparse_categorical_crossentropy(labels, logits, from_logits=True)\n",
        "\n",
        "\n",
        "def build_model(vocab_size, embedding_dim, rnn_units, batch_size, dropout_rate):\n",
        "    \n",
        "    model = tf.keras.Sequential([\n",
        "        tf.keras.layers.Embedding(input_dim=vocab_size, output_dim=embedding_dim, batch_input_shape=[batch_size, None]),\n",
        "        tf.keras.layers.Dropout(dropout_rate),\n",
        "        tf.keras.layers.LSTM(rnn_units, return_sequences=True, stateful=True, recurrent_initializer='glorot_uniform'),\n",
        "        tf.keras.layers.Dropout(dropout_rate),\n",
        "        tf.keras.layers.LSTM(rnn_units, return_sequences=True, stateful=True, recurrent_initializer='glorot_uniform'),\n",
        "        tf.keras.layers.Dropout(dropout_rate),\n",
        "        tf.keras.layers.Dense(vocab_size)\n",
        "    ])\n",
        "    \n",
        "    return model"
      ],
      "execution_count": 0,
      "outputs": []
    },
    {
      "cell_type": "code",
      "metadata": {
        "id": "75W7QwQv1rQq",
        "colab_type": "code",
        "outputId": "4d064f33-918f-4fd4-b3c2-c90eee1a693f",
        "colab": {
          "base_uri": "https://localhost:8080/",
          "height": 391
        }
      },
      "source": [
        "model = build_model(vocab_size=VOCAB_SIZE, \n",
        "                    embedding_dim=EMBEDDING_DIM, \n",
        "                    rnn_units=RNN_UNITS, \n",
        "                    batch_size=BATCH_SIZE, \n",
        "                    dropout_rate=DROPOUT_RATE)\n",
        "model.summary()"
      ],
      "execution_count": 42,
      "outputs": [
        {
          "output_type": "stream",
          "text": [
            "Model: \"sequential_4\"\n",
            "_________________________________________________________________\n",
            "Layer (type)                 Output Shape              Param #   \n",
            "=================================================================\n",
            "embedding_4 (Embedding)      (32, None, 100)           3600      \n",
            "_________________________________________________________________\n",
            "dropout_12 (Dropout)         (32, None, 100)           0         \n",
            "_________________________________________________________________\n",
            "lstm_8 (LSTM)                (32, None, 300)           481200    \n",
            "_________________________________________________________________\n",
            "dropout_13 (Dropout)         (32, None, 300)           0         \n",
            "_________________________________________________________________\n",
            "lstm_9 (LSTM)                (32, None, 300)           721200    \n",
            "_________________________________________________________________\n",
            "dropout_14 (Dropout)         (32, None, 300)           0         \n",
            "_________________________________________________________________\n",
            "dense_4 (Dense)              (32, None, 36)            10836     \n",
            "=================================================================\n",
            "Total params: 1,216,836\n",
            "Trainable params: 1,216,836\n",
            "Non-trainable params: 0\n",
            "_________________________________________________________________\n"
          ],
          "name": "stdout"
        }
      ]
    },
    {
      "cell_type": "markdown",
      "metadata": {
        "id": "lk48RV1RrncL",
        "colab_type": "text"
      },
      "source": [
        "# Generating Text before Training"
      ]
    },
    {
      "cell_type": "code",
      "metadata": {
        "id": "Hy8IIyHK2sgP",
        "colab_type": "code",
        "outputId": "75d85ace-9744-4136-ec59-dbdc97a20fb8",
        "colab": {
          "base_uri": "https://localhost:8080/",
          "height": 34
        }
      },
      "source": [
        "#@title Text Generating [before training]\n",
        "# Sample seed text\n",
        "SEED_TEXT = 'تو ترحم نکنی بر من مخلص گفتم' #@param {type:\"string\"}\n",
        "# Next words\n",
        "NEXT_WORDS = 10 #@param {type:\"integer\"}\n",
        "\n",
        "\n",
        "model_before_training = build_model(\n",
        "    vocab_size=VOCAB_SIZE, \n",
        "    embedding_dim=EMBEDDING_DIM, \n",
        "    rnn_units=RNN_UNITS, \n",
        "    batch_size=1, \n",
        "    dropout_rate=DROPOUT_RATE)\n",
        "\n",
        "model_before_training.build(tf.TensorShape([1, None]))\n",
        "\n",
        "og = generate_text(SEED_TEXT, NEXT_WORDS, model_before_training)\n",
        "print(og)"
      ],
      "execution_count": 43,
      "outputs": [
        {
          "output_type": "stream",
          "text": [
            "تو ترحم نکنی بر من مخلص گفتمفمهشثذاسنن\n"
          ],
          "name": "stdout"
        }
      ]
    },
    {
      "cell_type": "code",
      "metadata": {
        "id": "rgd1-kJ72IKK",
        "colab_type": "code",
        "outputId": "c0ad5581-f5f8-41c0-f019-5543630f16dd",
        "colab": {
          "base_uri": "https://localhost:8080/",
          "height": 34
        }
      },
      "source": [
        "#@title Callbacks Setup\n",
        "\n",
        "checkpoints = 'checkpoints' #@param {type: \"string\"}\n",
        "checkpoints = os.path.join(output_dir, checkpoints)\n",
        "checkpoint_dir = checkpoints + datetime.datetime.now().strftime(\"_%Y_%m_%d_%H_%M_%S\")\n",
        "checkpoint_prefix = os.path.join(checkpoint_dir, \"ckpt_{epoch}\")\n",
        "\n",
        "os.makedirs(os.path.dirname(checkpoint_prefix), exist_ok=True)\n",
        "checkpoint_prefix"
      ],
      "execution_count": 44,
      "outputs": [
        {
          "output_type": "execute_result",
          "data": {
            "text/plain": [
              "'/content/drive/My Drive/Colab Notebooks/playground/hafez/outputs/checkpoints_2019_07_06_12_39_16/ckpt_{epoch}'"
            ]
          },
          "metadata": {
            "tags": []
          },
          "execution_count": 44
        }
      ]
    },
    {
      "cell_type": "code",
      "metadata": {
        "id": "3FWR3w-a8d5g",
        "colab_type": "code",
        "outputId": "ae9cd8ce-41c1-4c77-f6c7-4c942e479246",
        "colab": {
          "base_uri": "https://localhost:8080/",
          "height": 1000
        }
      },
      "source": [
        "optimizer = tf.keras.optimizers.Adam(learning_rate=LR)\n",
        "\n",
        "model = build_model(\n",
        "    vocab_size=VOCAB_SIZE, \n",
        "    embedding_dim=EMBEDDING_DIM, \n",
        "    rnn_units=RNN_UNITS, \n",
        "    batch_size=BATCH_SIZE, \n",
        "    dropout_rate=DROPOUT_RATE)\n",
        "\n",
        "\n",
        "@tf.function\n",
        "def train_step(x, y):\n",
        "    with tf.GradientTape() as tape:\n",
        "        predictions = model(x)\n",
        "        loss = tf.reduce_mean(scc_loss(y, predictions))\n",
        "    \n",
        "    grads = tape.gradient(loss, model.trainable_variables)\n",
        "    optimizer.apply_gradients(zip(grads, model.trainable_variables))\n",
        "    \n",
        "    return loss\n",
        "\n",
        "\n",
        "\n",
        "r_loss = []\n",
        "r_val_loss = []\n",
        "\n",
        "for epoch in range(EPOCHS):\n",
        "    start = time.time()\n",
        "    \n",
        "    # initializing the hidden state at the start of every epoch\n",
        "    # initally hidden is None\n",
        "    hidden = model.reset_states()\n",
        "    \n",
        "    print('=' * 100)\n",
        "    print('Epoch: %04d' % (epoch + 1))\n",
        "    \n",
        "    train_loss = 0\n",
        "    num_train = 1\n",
        "    for (batch_n, (x, y)) in enumerate(train_dataset):\n",
        "        train_loss += train_step(x, y)        \n",
        "        num_train += 1\n",
        "    \n",
        "    train_loss /= num_train\n",
        "    r_loss.append(train_loss.numpy())\n",
        "    print('-' * 100)\n",
        "    print('Training Loss: %2.4f' % train_loss)\n",
        "    \n",
        "    # Run a validation loop at the end of each epoch.\n",
        "    val_loss = 0\n",
        "    num_val = 1\n",
        "    for x_val, y_val in valid_dataset:\n",
        "        y_val_pred = model(x_val)\n",
        "        val_loss += tf.reduce_mean(scc_loss(y_val, y_val_pred))\n",
        "        num_val += 1\n",
        "    \n",
        "    val_loss /= num_val\n",
        "    r_val_loss.append(val_loss.numpy())\n",
        "    print('-' * 100)\n",
        "    print('Validation Loss: %2.4f' % val_loss)\n",
        "    \n",
        "    print('-' * 100)\n",
        "    print('Time taken for 1 epoch %s sec' % (time.time() - start))\n",
        "    print('=' * 100)\n",
        "    print()\n",
        "    \n",
        "    # saving (checkpoint) the model every 5 epochs\n",
        "    if (epoch + 1) % EVERY_EPOCH == 0:\n",
        "        model.save_weights(checkpoint_prefix.format(epoch=epoch))\n",
        "    \n",
        "model.save_weights(checkpoint_prefix.format(epoch=epoch))"
      ],
      "execution_count": 45,
      "outputs": [
        {
          "output_type": "stream",
          "text": [
            "====================================================================================================\n",
            "Epoch: 0001\n",
            "----------------------------------------------------------------------------------------------------\n",
            "Training Loss: 2.9915\n",
            "----------------------------------------------------------------------------------------------------\n",
            "Validation Loss: 2.8949\n",
            "----------------------------------------------------------------------------------------------------\n",
            "Time taken for 1 epoch 6.853866100311279 sec\n",
            "====================================================================================================\n",
            "\n",
            "====================================================================================================\n",
            "Epoch: 0002\n",
            "----------------------------------------------------------------------------------------------------\n",
            "Training Loss: 2.7760\n",
            "----------------------------------------------------------------------------------------------------\n",
            "Validation Loss: 2.6565\n",
            "----------------------------------------------------------------------------------------------------\n",
            "Time taken for 1 epoch 2.2430481910705566 sec\n",
            "====================================================================================================\n",
            "\n",
            "====================================================================================================\n",
            "Epoch: 0003\n",
            "----------------------------------------------------------------------------------------------------\n",
            "Training Loss: 2.6123\n",
            "----------------------------------------------------------------------------------------------------\n",
            "Validation Loss: 2.5545\n",
            "----------------------------------------------------------------------------------------------------\n",
            "Time taken for 1 epoch 2.243574857711792 sec\n",
            "====================================================================================================\n",
            "\n",
            "====================================================================================================\n",
            "Epoch: 0004\n",
            "----------------------------------------------------------------------------------------------------\n",
            "Training Loss: 2.5021\n",
            "----------------------------------------------------------------------------------------------------\n",
            "Validation Loss: 2.4753\n",
            "----------------------------------------------------------------------------------------------------\n",
            "Time taken for 1 epoch 2.232617139816284 sec\n",
            "====================================================================================================\n",
            "\n",
            "====================================================================================================\n",
            "Epoch: 0005\n",
            "----------------------------------------------------------------------------------------------------\n",
            "Training Loss: 2.4213\n",
            "----------------------------------------------------------------------------------------------------\n",
            "Validation Loss: 2.4087\n",
            "----------------------------------------------------------------------------------------------------\n",
            "Time taken for 1 epoch 2.2534124851226807 sec\n",
            "====================================================================================================\n",
            "\n",
            "====================================================================================================\n",
            "Epoch: 0006\n",
            "----------------------------------------------------------------------------------------------------\n",
            "Training Loss: 2.3548\n",
            "----------------------------------------------------------------------------------------------------\n",
            "Validation Loss: 2.3567\n",
            "----------------------------------------------------------------------------------------------------\n",
            "Time taken for 1 epoch 2.173063278198242 sec\n",
            "====================================================================================================\n",
            "\n",
            "====================================================================================================\n",
            "Epoch: 0007\n",
            "----------------------------------------------------------------------------------------------------\n",
            "Training Loss: 2.3005\n",
            "----------------------------------------------------------------------------------------------------\n",
            "Validation Loss: 2.3181\n",
            "----------------------------------------------------------------------------------------------------\n",
            "Time taken for 1 epoch 2.1546401977539062 sec\n",
            "====================================================================================================\n",
            "\n",
            "====================================================================================================\n",
            "Epoch: 0008\n",
            "----------------------------------------------------------------------------------------------------\n",
            "Training Loss: 2.2547\n",
            "----------------------------------------------------------------------------------------------------\n",
            "Validation Loss: 2.2846\n",
            "----------------------------------------------------------------------------------------------------\n",
            "Time taken for 1 epoch 2.155247449874878 sec\n",
            "====================================================================================================\n",
            "\n",
            "====================================================================================================\n",
            "Epoch: 0009\n",
            "----------------------------------------------------------------------------------------------------\n",
            "Training Loss: 2.2132\n",
            "----------------------------------------------------------------------------------------------------\n",
            "Validation Loss: 2.2551\n",
            "----------------------------------------------------------------------------------------------------\n",
            "Time taken for 1 epoch 2.2000060081481934 sec\n",
            "====================================================================================================\n",
            "\n",
            "====================================================================================================\n",
            "Epoch: 0010\n",
            "----------------------------------------------------------------------------------------------------\n",
            "Training Loss: 2.1742\n",
            "----------------------------------------------------------------------------------------------------\n",
            "Validation Loss: 2.2286\n",
            "----------------------------------------------------------------------------------------------------\n",
            "Time taken for 1 epoch 2.2461464405059814 sec\n",
            "====================================================================================================\n",
            "\n"
          ],
          "name": "stdout"
        }
      ]
    },
    {
      "cell_type": "code",
      "metadata": {
        "id": "tOXQUgeB9Mdl",
        "colab_type": "code",
        "outputId": "fd90d8f0-44fb-47eb-b2c1-64a4e45bd774",
        "colab": {
          "base_uri": "https://localhost:8080/",
          "height": 486
        }
      },
      "source": [
        "epochs = range(1, len(r_loss) + 1)\n",
        "\n",
        "# plt.figure(figsize=(11.7, 8.27))\n",
        "plt.plot(epochs, r_loss, 'r', label='Training loss')\n",
        "plt.plot(epochs, r_val_loss, 'g', label='Validation loss')\n",
        "plt.title('Training and validation loss')\n",
        "plt.xlabel('Epochs')\n",
        "plt.ylabel('Loss')\n",
        "plt.legend()\n",
        "\n",
        "plt.show()"
      ],
      "execution_count": 46,
      "outputs": [
        {
          "output_type": "display_data",
          "data": {
            "image/png": "[encoded data removed]",
            "text/plain": [
              "<Figure size 640x480 with 1 Axes>"
            ]
          },
          "metadata": {
            "tags": []
          }
        }
      ]
    },
    {
      "cell_type": "code",
      "metadata": {
        "id": "TLcfJPnYC0KE",
        "colab_type": "code",
        "outputId": "523a68fe-9736-42b6-8495-9bdb4982f92a",
        "colab": {
          "base_uri": "https://localhost:8080/",
          "height": 34
        }
      },
      "source": [
        "tf.train.latest_checkpoint(checkpoint_dir)"
      ],
      "execution_count": 47,
      "outputs": [
        {
          "output_type": "execute_result",
          "data": {
            "text/plain": [
              "'/content/drive/My Drive/Colab Notebooks/playground/hafez/outputs/checkpoints_2019_07_06_12_39_16/ckpt_9'"
            ]
          },
          "metadata": {
            "tags": []
          },
          "execution_count": 47
        }
      ]
    },
    {
      "cell_type": "markdown",
      "metadata": {
        "id": "PsX7nPNLJ_nY",
        "colab_type": "text"
      },
      "source": [
        "# Generating Text after Training"
      ]
    },
    {
      "cell_type": "code",
      "metadata": {
        "id": "y8COH-7Q9hQS",
        "colab_type": "code",
        "outputId": "58619e82-f2d1-4580-afb6-f38d3c5d08da",
        "colab": {
          "base_uri": "https://localhost:8080/",
          "height": 34
        }
      },
      "source": [
        "#@title Text Generating [after training]\n",
        "# Sample seed text\n",
        "SEED_TEXT = 'تو ترحم نکنی بر من مخلص گفتم' #@param {type:\"string\"}\n",
        "# Next words\n",
        "NEXT_WORDS = 50 #@param {type:\"integer\"}\n",
        "\n",
        "model_after_training = build_model(\n",
        "    vocab_size=VOCAB_SIZE, \n",
        "    embedding_dim=EMBEDDING_DIM, \n",
        "    rnn_units=RNN_UNITS, \n",
        "    batch_size=1, \n",
        "    dropout_rate=DROPOUT_RATE)\n",
        "model_after_training.load_weights(tf.train.latest_checkpoint(checkpoint_dir)) \n",
        "model_after_training.build(tf.TensorShape([1, None]))\n",
        "\n",
        "og = generate_text(SEED_TEXT, NEXT_WORDS, model_after_training)\n",
        "print(og)"
      ],
      "execution_count": 48,
      "outputs": [
        {
          "output_type": "stream",
          "text": [
            "تو ترحم نکنی بر من مخلص گفتم طره‌اک و شبرخواهد مگل جسوتانم عدم پيشا کاروستگست \n"
          ],
          "name": "stdout"
        }
      ]
    },
    {
      "cell_type": "code",
      "metadata": {
        "id": "ZGYVadaA-Ioo",
        "colab_type": "code",
        "colab": {}
      },
      "source": [
        ""
      ],
      "execution_count": 0,
      "outputs": []
    }
  ]
}