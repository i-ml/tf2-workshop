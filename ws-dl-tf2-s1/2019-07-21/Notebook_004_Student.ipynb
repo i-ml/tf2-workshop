{
  "nbformat": 4,
  "nbformat_minor": 0,
  "metadata": {
    "colab": {
      "name": "Notebook 004-Student.ipynb",
      "version": "0.3.2",
      "provenance": [],
      "collapsed_sections": []
    },
    "kernelspec": {
      "name": "python3",
      "display_name": "Python 3"
    },
    "accelerator": "GPU"
  },
  "cells": [
    {
      "cell_type": "markdown",
      "metadata": {
        "id": "l2n5l7QL5zW0",
        "colab_type": "text"
      },
      "source": [
        "# Preparation"
      ]
    },
    {
      "cell_type": "markdown",
      "metadata": {
        "id": "3_zhW32C5gRN",
        "colab_type": "text"
      },
      "source": [
        "## Install Requirement"
      ]
    },
    {
      "cell_type": "code",
      "metadata": {
        "id": "EuXREc03fZjA",
        "colab_type": "code",
        "colab": {}
      },
      "source": [
        "!pip install -q tensorflow-gpu==2.0.0-beta1\n",
        "!pip install -qU watermark"
      ],
      "execution_count": 0,
      "outputs": []
    },
    {
      "cell_type": "markdown",
      "metadata": {
        "id": "bJOwLdNe5j7G",
        "colab_type": "text"
      },
      "source": [
        "## Custom Matplotlib Style"
      ]
    },
    {
      "cell_type": "code",
      "metadata": {
        "id": "SqkBeO_Sfssf",
        "colab_type": "code",
        "colab": {}
      },
      "source": [
        "mpl_style = \"https://gist.githubusercontent.com/m3hrdadfi/af8aca01094afb7d3e5b46de9ad8d509/raw/871ec5d721a3b438c3c896718ea4aafc91ea9744/gadfly.mplstyle\"\n",
        "!wget -q $mpl_style -O /root/.config/matplotlib/matplotlibrc"
      ],
      "execution_count": 0,
      "outputs": []
    },
    {
      "cell_type": "markdown",
      "metadata": {
        "id": "OCLrpt-95pJi",
        "colab_type": "text"
      },
      "source": [
        "## General Paramas"
      ]
    },
    {
      "cell_type": "markdown",
      "metadata": {
        "id": "OI7WdZQw5uXP",
        "colab_type": "text"
      },
      "source": [
        "A random seed is a number used to initialize a pseudorandom number generator. For a seed to be used in a pseudorandom number generator, it does not need to be random"
      ]
    },
    {
      "cell_type": "code",
      "metadata": {
        "id": "Fbt1O1P5ftEe",
        "colab_type": "code",
        "colab": {}
      },
      "source": [
        "RANDOM_SEED = 141"
      ],
      "execution_count": 0,
      "outputs": []
    },
    {
      "cell_type": "markdown",
      "metadata": {
        "id": "2Qm9fdLf55le",
        "colab_type": "text"
      },
      "source": [
        "## Import requried packages"
      ]
    },
    {
      "cell_type": "code",
      "metadata": {
        "id": "k10ebwbfLsk_",
        "colab_type": "code",
        "colab": {}
      },
      "source": [
        "import tensorflow as tf\n",
        "\n",
        "import requests\n",
        "import numpy as np\n",
        "import pandas as pd\n",
        "\n",
        "from sklearn.model_selection import train_test_split\n",
        "from sklearn.preprocessing import StandardScaler\n",
        "from sklearn.metrics import classification_report, confusion_matrix\n",
        "\n",
        "import matplotlib as mpl\n",
        "import matplotlib.pyplot as plt\n",
        "\n",
        "import cv2\n",
        "\n",
        "from sklearn.utils import shuffle\n",
        "\n",
        "import random\n",
        "import sys\n",
        "import io\n",
        "import re\n",
        "import time\n",
        "from datetime import datetime\n",
        "import os\n",
        "import struct\n",
        "from tqdm import tqdm\n",
        "\n",
        "from pprint import pprint\n",
        "\n",
        "\n",
        "%matplotlib inline\n",
        "mpl.rc_file(mpl.matplotlib_fname())"
      ],
      "execution_count": 0,
      "outputs": []
    },
    {
      "cell_type": "markdown",
      "metadata": {
        "id": "gQmQF9D_HIdR",
        "colab_type": "text"
      },
      "source": [
        "# Persian MNIST\n",
        "\n",
        "Data Set Information:\n",
        "\n",
        "\n",
        "Attribute Information:\n",
        "1. pixels\n",
        "2. class: \n",
        "    - 0\n",
        "    - 1\n",
        "    - 2\n",
        "    - 3\n",
        "    - 4\n",
        "    - 5\n",
        "    - 6\n",
        "    - 7\n",
        "    - 8\n",
        "    - 9"
      ]
    },
    {
      "cell_type": "code",
      "metadata": {
        "id": "qHIWbXjoRV4k",
        "colab_type": "code",
        "outputId": "87e0e029-342c-4c06-8c13-0fc696e7d948",
        "colab": {
          "base_uri": "https://localhost:8080/",
          "height": 547
        }
      },
      "source": [
        "!wget https://www.dropbox.com/s/op3ht07lfou9lbz/DigitDB.zip\n",
        "!unzip DigitDB.zip\n",
        "!ls "
      ],
      "execution_count": 0,
      "outputs": [
        {
          "output_type": "stream",
          "text": [
            "--2019-07-23 09:59:46--  https://www.dropbox.com/s/op3ht07lfou9lbz/DigitDB.zip\n",
            "Resolving www.dropbox.com (www.dropbox.com)... 162.125.3.1, 2620:100:601b:1::a27d:801\n",
            "Connecting to www.dropbox.com (www.dropbox.com)|162.125.3.1|:443... connected.\n",
            "HTTP request sent, awaiting response... 301 Moved Permanently\n",
            "Location: /s/raw/op3ht07lfou9lbz/DigitDB.zip [following]\n",
            "--2019-07-23 09:59:46--  https://www.dropbox.com/s/raw/op3ht07lfou9lbz/DigitDB.zip\n",
            "Reusing existing connection to www.dropbox.com:443.\n",
            "HTTP request sent, awaiting response... 302 Found\n",
            "Location: https://uc83511e18f0438b066dc0e4fa81.dl.dropboxusercontent.com/cd/0/inline/AlPUbcmsENel95x_YhWnlxSWbaiWs7ZpEmMak5aL6ZcKo2jkmy7Gf6haODyFRw8ZHQv6wA3fnYJbLIK_m2wo361VIyNd48-MsZsJw3DE3Y-uEg/file# [following]\n",
            "--2019-07-23 09:59:47--  https://uc83511e18f0438b066dc0e4fa81.dl.dropboxusercontent.com/cd/0/inline/AlPUbcmsENel95x_YhWnlxSWbaiWs7ZpEmMak5aL6ZcKo2jkmy7Gf6haODyFRw8ZHQv6wA3fnYJbLIK_m2wo361VIyNd48-MsZsJw3DE3Y-uEg/file\n",
            "Resolving uc83511e18f0438b066dc0e4fa81.dl.dropboxusercontent.com (uc83511e18f0438b066dc0e4fa81.dl.dropboxusercontent.com)... 162.125.8.6, 2620:100:601b:6::a27d:806\n",
            "Connecting to uc83511e18f0438b066dc0e4fa81.dl.dropboxusercontent.com (uc83511e18f0438b066dc0e4fa81.dl.dropboxusercontent.com)|162.125.8.6|:443... connected.\n",
            "HTTP request sent, awaiting response... 302 FOUND\n",
            "Location: /cd/0/inline2/AlMfMy6aveJweM0XhUIzEJLWp2QFAGsQHilMTwHwUFsoaH9P4M3hJ3viIrCL_kgAhzqyXfirbz3U09xU5PYw4PrKNqwvvtTSTf-B2m2nBwXlaZAwXQ3ZOS1aw6oINTY1z13c6DnJdOw5fbFnbumad4DjSfFl-ZxA6oWX9IljUsk39OQx988X8a10CaIXsTssi1GkB0xut3FYVaAwYAxDRc1hLouZmUlDtjZ6As2U_JFlrk-9a-INDFBJ2YQhAkL_H6mnnj1UaUmseXa8UnfDsoKrxb-DS36Rr3HnTpR1RSTJd0oktQqwbY0oGsBQjUP0CtlkUsaYKrQclxJGl-eVSTk6/file [following]\n",
            "--2019-07-23 09:59:47--  https://uc83511e18f0438b066dc0e4fa81.dl.dropboxusercontent.com/cd/0/inline2/AlMfMy6aveJweM0XhUIzEJLWp2QFAGsQHilMTwHwUFsoaH9P4M3hJ3viIrCL_kgAhzqyXfirbz3U09xU5PYw4PrKNqwvvtTSTf-B2m2nBwXlaZAwXQ3ZOS1aw6oINTY1z13c6DnJdOw5fbFnbumad4DjSfFl-ZxA6oWX9IljUsk39OQx988X8a10CaIXsTssi1GkB0xut3FYVaAwYAxDRc1hLouZmUlDtjZ6As2U_JFlrk-9a-INDFBJ2YQhAkL_H6mnnj1UaUmseXa8UnfDsoKrxb-DS36Rr3HnTpR1RSTJd0oktQqwbY0oGsBQjUP0CtlkUsaYKrQclxJGl-eVSTk6/file\n",
            "Reusing existing connection to uc83511e18f0438b066dc0e4fa81.dl.dropboxusercontent.com:443.\n",
            "HTTP request sent, awaiting response... 200 OK\n",
            "Length: 5290356 (5.0M) [application/zip]\n",
            "Saving to: ‘DigitDB.zip’\n",
            "\n",
            "DigitDB.zip         100%[===================>]   5.04M  25.2MB/s    in 0.2s    \n",
            "\n",
            "2019-07-23 09:59:48 (25.2 MB/s) - ‘DigitDB.zip’ saved [5290356/5290356]\n",
            "\n",
            "Archive:  DigitDB.zip\n",
            "  inflating: Train 60000.cdb         \n",
            "  inflating: RemainingSamples.cdb    \n",
            "  inflating: Test 20000.cdb          \n",
            " DigitDB.zip   logs\t\t      sample_data      'Train 60000.cdb'\n",
            " iris.csv      RemainingSamples.cdb  'Test 20000.cdb'\n"
          ],
          "name": "stdout"
        }
      ]
    },
    {
      "cell_type": "code",
      "metadata": {
        "id": "7d_pHghhGzi7",
        "colab_type": "code",
        "colab": {}
      },
      "source": [
        "def resize_image(src_image, dst_image_height, dst_image_width):\n",
        "    src_image_height = src_image.shape[0]\n",
        "    src_image_width = src_image.shape[1]\n",
        "\n",
        "    if src_image_height > dst_image_height or src_image_width > dst_image_width:\n",
        "        height_scale = dst_image_height / src_image_height\n",
        "        width_scale = dst_image_width / src_image_width\n",
        "        scale = min(height_scale, width_scale)\n",
        "        img = cv2.resize(src=src_image, dsize=(0, 0), fx=scale, fy=scale, interpolation=cv2.INTER_CUBIC)\n",
        "    else:\n",
        "        img = src_image\n",
        "\n",
        "    img_height = img.shape[0]\n",
        "    img_width = img.shape[1]\n",
        "\n",
        "    dst_image = np.zeros(shape=[dst_image_height, dst_image_width], dtype=np.uint8)\n",
        "\n",
        "    y_offset = (dst_image_height - img_height) // 2\n",
        "    x_offset = (dst_image_width - img_width) // 2\n",
        "\n",
        "    dst_image[y_offset:y_offset + img_height, x_offset:x_offset + img_width] = img\n",
        "\n",
        "    return dst_image\n",
        "\n",
        "\n",
        "def read_cdb(filepath):\n",
        "    with open(filepath, 'rb') as f:\n",
        "        data = f.read()\n",
        "        offset = 0\n",
        "\n",
        "        # read private header\n",
        "        yy = struct.unpack_from('H', data, offset)[0]\n",
        "        offset += 2\n",
        "\n",
        "        m = struct.unpack_from('B', data, offset)[0]\n",
        "        offset += 1\n",
        "\n",
        "        d = struct.unpack_from('B', data, offset)[0]\n",
        "        offset += 1\n",
        "\n",
        "        h = struct.unpack_from('B', data, offset)[0]\n",
        "        offset += 1\n",
        "\n",
        "        w = struct.unpack_from('B', data, offset)[0]\n",
        "        offset += 1\n",
        "\n",
        "        total_rec = struct.unpack_from('I', data, offset)[0]\n",
        "        offset += 4\n",
        "\n",
        "        letter_count = struct.unpack_from('128I', data, offset)\n",
        "        offset += 128 * 4\n",
        "\n",
        "        img_type = struct.unpack_from('B', data, offset)[0]  # 0: binary, 1: gray\n",
        "        offset += 1\n",
        "\n",
        "        comments = struct.unpack_from('256c', data, offset)\n",
        "        offset += 256 * 1\n",
        "\n",
        "        reserved = struct.unpack_from('245c', data, offset)\n",
        "        offset += 245 * 1\n",
        "\n",
        "        if (w > 0) and (h > 0):\n",
        "            normal = True\n",
        "        else:\n",
        "            normal = False\n",
        "\n",
        "        images = []\n",
        "        labels = []\n",
        "\n",
        "        for i in tqdm(range(total_rec), position=0):\n",
        "\n",
        "            start_byte = struct.unpack_from('B', data, offset)[0]  # must be 0xff\n",
        "            offset += 1\n",
        "\n",
        "            label = struct.unpack_from('B', data, offset)[0]\n",
        "            offset += 1\n",
        "\n",
        "            if not normal:\n",
        "                w = struct.unpack_from('B', data, offset)[0]\n",
        "                offset += 1\n",
        "\n",
        "                h = struct.unpack_from('B', data, offset)[0]\n",
        "                offset += 1\n",
        "\n",
        "            byte_count = struct.unpack_from('H', data, offset)[0]\n",
        "            offset += 2\n",
        "\n",
        "            image = np.zeros(shape=[h, w], dtype=np.uint8)\n",
        "\n",
        "            if img_type == 0:\n",
        "                # Binary\n",
        "                for y in range(h):\n",
        "                    b_white = True\n",
        "                    counter = 0\n",
        "                    while counter < w:\n",
        "                        wb_count = struct.unpack_from('B', data, offset)[0]\n",
        "                        offset += 1\n",
        "                        \n",
        "                        if b_white:\n",
        "                            image[y, counter:counter + wb_count] = 0  # Background\n",
        "                        else:\n",
        "                            image[y, counter:counter + wb_count] = 255  # ForeGround\n",
        "                        b_white = not b_white  # black white black white ...\n",
        "                        counter += wb_count\n",
        "            else:\n",
        "                # GrayScale mode\n",
        "                data = struct.unpack_from('{}B'.format(w * h), data, offset)\n",
        "                offset += w * h\n",
        "                image = np.asarray(data, dtype=np.uint8).reshape([w, h]).T\n",
        "\n",
        "            images.append(image)\n",
        "            labels.append(label)\n",
        "\n",
        "        return images, labels\n",
        "    \n",
        "\n",
        "def load_data(datapath, img_height=32, img_width=32):\n",
        "    images, labels = read_cdb(datapath)\n",
        "    assert len(images) == len(labels)\n",
        "    \n",
        "    x = np.zeros(shape=[len(images), img_height, img_width], dtype=np.float32)\n",
        "    y = np.zeros(shape=[len(labels)], dtype=np.int)\n",
        "    \n",
        "    for i in tqdm(range(len(images)), position=0):\n",
        "        image = images[i]\n",
        "        image = resize_image(src_image=image, dst_image_height=img_height, dst_image_width=img_width)\n",
        "        image = image / 255\n",
        "        image = np.where(image >= 0.5, 1, 0)\n",
        "        \n",
        "        x[i] = image\n",
        "        y[i] = labels[i]\n",
        "    \n",
        "    x, y = shuffle(x, y, random_state=0)\n",
        "    \n",
        "    return x, y"
      ],
      "execution_count": 0,
      "outputs": []
    },
    {
      "cell_type": "markdown",
      "metadata": {
        "id": "sxMnvLkcJxEX",
        "colab_type": "text"
      },
      "source": [
        "# Load the data"
      ]
    },
    {
      "cell_type": "code",
      "metadata": {
        "id": "Zk1hzQHIIV1J",
        "colab_type": "code",
        "outputId": "fe27213d-a12a-4bee-8a06-cac7557ed146",
        "colab": {
          "base_uri": "https://localhost:8080/",
          "height": 119
        }
      },
      "source": [
        "trainset_dir = 'Train 60000.cdb'\n",
        "testset_dir = 'Test 20000.cdb'\n",
        "\n",
        "x_train, y_train = load_data(trainset_dir)\n",
        "x_test, y_test = load_data(testset_dir)\n",
        "\n",
        "print('Train: %s, Labels: #%s' %(x_train.shape, len(y_train)))\n",
        "print('Test: %s, Labels: #%s' %(x_test.shape, len(y_test)))"
      ],
      "execution_count": 0,
      "outputs": [
        {
          "output_type": "stream",
          "text": [
            "100%|██████████| 60000/60000 [00:06<00:00, 9117.65it/s]\n",
            "100%|██████████| 60000/60000 [00:00<00:00, 61187.13it/s]\n",
            "100%|██████████| 20000/20000 [00:02<00:00, 8462.24it/s]\n",
            "100%|██████████| 20000/20000 [00:00<00:00, 54550.40it/s]\n"
          ],
          "name": "stderr"
        },
        {
          "output_type": "stream",
          "text": [
            "Train: (60000, 32, 32), Labels: #60000\n",
            "Test: (20000, 32, 32), Labels: #20000\n"
          ],
          "name": "stdout"
        }
      ]
    },
    {
      "cell_type": "markdown",
      "metadata": {
        "id": "TFu5YtCiJvUu",
        "colab_type": "text"
      },
      "source": [
        "# Visualize the data"
      ]
    },
    {
      "cell_type": "code",
      "metadata": {
        "id": "z0l28ah0IYxc",
        "colab_type": "code",
        "outputId": "4c05c56f-6687-4afa-ee13-a16517a78824",
        "colab": {
          "base_uri": "https://localhost:8080/",
          "height": 835
        }
      },
      "source": [
        "plt.figure(figsize=(10, 10))\n",
        "for i in range(25):\n",
        "    plt.subplot(5, 5, i+1)\n",
        "    plt.xticks([])\n",
        "    plt.yticks([])\n",
        "    plt.grid(False)\n",
        "    plt.imshow(x_train[i], cmap=plt.cm.binary)\n",
        "    plt.xlabel(str(y_train[i]))\n",
        "plt.show()"
      ],
      "execution_count": 0,
      "outputs": [
        {
          "output_type": "display_data",
          "data": {
            "image/png": "[encoded data removed]",
            "text/plain": [
              "<Figure size 1000x1000 with 25 Axes>"
            ]
          },
          "metadata": {
            "tags": []
          }
        }
      ]
    },
    {
      "cell_type": "code",
      "metadata": {
        "id": "Dt8YXwp_S6Fd",
        "colab_type": "code",
        "outputId": "b08a3ca5-28fe-4701-a9c8-0b5d18461374",
        "colab": {
          "base_uri": "https://localhost:8080/",
          "height": 835
        }
      },
      "source": [
        "plt.figure(figsize=(10, 10))\n",
        "for i in range(25):\n",
        "    plt.subplot(5, 5, i+1)\n",
        "    plt.xticks([])\n",
        "    plt.yticks([])\n",
        "    plt.grid(False)\n",
        "    plt.imshow(x_test[i], cmap=plt.cm.binary)\n",
        "    plt.xlabel(str(y_test[i]))\n",
        "plt.show()"
      ],
      "execution_count": 0,
      "outputs": [
        {
          "output_type": "display_data",
          "data": {
            "image/png": "[encoded data removed]",
            "text/plain": [
              "<Figure size 1000x1000 with 25 Axes>"
            ]
          },
          "metadata": {
            "tags": []
          }
        }
      ]
    },
    {
      "cell_type": "markdown",
      "metadata": {
        "id": "aBLQEplaehuo",
        "colab_type": "text"
      },
      "source": [
        "# Preprocessing"
      ]
    },
    {
      "cell_type": "code",
      "metadata": {
        "id": "adkQXPpfLoYn",
        "colab_type": "code",
        "colab": {}
      },
      "source": [
        "# "
      ],
      "execution_count": 0,
      "outputs": []
    },
    {
      "cell_type": "markdown",
      "metadata": {
        "id": "ohnHDrWNfJcy",
        "colab_type": "text"
      },
      "source": [
        "# Configure Neural Network Models"
      ]
    },
    {
      "cell_type": "markdown",
      "metadata": {
        "id": "CFTbmnoU8TNQ",
        "colab_type": "text"
      },
      "source": [
        "## Create non-linear model"
      ]
    },
    {
      "cell_type": "code",
      "metadata": {
        "id": "GzhqGtb1Wvqf",
        "colab_type": "code",
        "colab": {}
      },
      "source": [
        ""
      ],
      "execution_count": 0,
      "outputs": []
    },
    {
      "cell_type": "markdown",
      "metadata": {
        "id": "kdwNHthF8V83",
        "colab_type": "text"
      },
      "source": [
        "## Summary of the model"
      ]
    },
    {
      "cell_type": "code",
      "metadata": {
        "id": "tG8-zxs6hTMN",
        "colab_type": "code",
        "colab": {}
      },
      "source": [
        ""
      ],
      "execution_count": 0,
      "outputs": []
    },
    {
      "cell_type": "markdown",
      "metadata": {
        "id": "asRwJ-jB9cJe",
        "colab_type": "text"
      },
      "source": [
        "## Plotting"
      ]
    },
    {
      "cell_type": "code",
      "metadata": {
        "id": "6Qb6mqaUW4Uz",
        "colab_type": "code",
        "colab": {}
      },
      "source": [
        ""
      ],
      "execution_count": 0,
      "outputs": []
    },
    {
      "cell_type": "markdown",
      "metadata": {
        "id": "XHKWBMJM-Fxz",
        "colab_type": "text"
      },
      "source": [
        "## Evaluation"
      ]
    },
    {
      "cell_type": "code",
      "metadata": {
        "id": "I29AmZPDjJJ1",
        "colab_type": "code",
        "colab": {}
      },
      "source": [
        "\n",
        "def plot_image(i, predictions_array, true_label, img):\n",
        "    predictions_array, true_label, img = predictions_array[i], true_label[i], img[i]\n",
        "    plt.grid(False)\n",
        "    plt.xticks([])\n",
        "    plt.yticks([])\n",
        "\n",
        "    plt.imshow(img, cmap=plt.cm.binary)\n",
        "\n",
        "    predicted_label = np.argmax(predictions_array)\n",
        "    if predicted_label == true_label:\n",
        "        color = 'blue'\n",
        "    else:\n",
        "        color = 'red'\n",
        "\n",
        "    plt.xlabel(\"{} {:2.0f}% ({})\".format(str(predicted_label),\n",
        "                                         100 * np.max(predictions_array),\n",
        "                                         str(true_label)), color=color)\n",
        "\n",
        "\n",
        "def plot_value_array(i, predictions_array, true_label):\n",
        "    predictions_array, true_label = predictions_array[i], true_label[i]\n",
        "    plt.grid(False)\n",
        "    plt.xticks([])\n",
        "    plt.yticks([])\n",
        "    thisplot = plt.bar(range(10), predictions_array, color=\"#777777\")\n",
        "    plt.ylim([0, 1])\n",
        "    predicted_label = np.argmax(predictions_array)\n",
        "\n",
        "    thisplot[predicted_label].set_color('red')\n",
        "    thisplot[true_label].set_color('blue')"
      ],
      "execution_count": 0,
      "outputs": []
    },
    {
      "cell_type": "code",
      "metadata": {
        "id": "y1rg1XGpW6x2",
        "colab_type": "code",
        "colab": {}
      },
      "source": [
        ""
      ],
      "execution_count": 0,
      "outputs": []
    },
    {
      "cell_type": "code",
      "metadata": {
        "id": "aRBTCwrhrPHf",
        "colab_type": "code",
        "colab": {}
      },
      "source": [
        ""
      ],
      "execution_count": 0,
      "outputs": []
    },
    {
      "cell_type": "code",
      "metadata": {
        "id": "xEa3cd6QURdU",
        "colab_type": "code",
        "colab": {}
      },
      "source": [
        ""
      ],
      "execution_count": 0,
      "outputs": []
    }
  ]
}