{
 "cells": [
  {
   "cell_type": "markdown",
   "metadata": {
    "colab_type": "text",
    "id": "o-IN_hcu5h2V"
   },
   "source": [
    "# Information"
   ]
  },
  {
   "cell_type": "markdown",
   "metadata": {
    "colab_type": "text",
    "id": "mEHb98SX5m0M"
   },
   "source": [
    "## RAM Info"
   ]
  },
  {
   "cell_type": "code",
   "execution_count": 0,
   "metadata": {
    "colab": {
     "base_uri": "https://localhost:8080/",
     "height": 782
    },
    "colab_type": "code",
    "id": "JaarGPzR5jrZ",
    "outputId": "831ce07c-3465-4808-e134-05bfdb343d30"
   },
   "outputs": [
    {
     "name": "stdout",
     "output_type": "stream",
     "text": [
      "MemTotal:       13335276 kB\n",
      "MemFree:         4100312 kB\n",
      "MemAvailable:   11245716 kB\n",
      "Buffers:           99588 kB\n",
      "Cached:          6936900 kB\n",
      "SwapCached:            0 kB\n",
      "Active:          1691180 kB\n",
      "Inactive:        6867788 kB\n",
      "Active(anon):    1370056 kB\n",
      "Inactive(anon):    12648 kB\n",
      "Active(file):     321124 kB\n",
      "Inactive(file):  6855140 kB\n",
      "Unevictable:           0 kB\n",
      "Mlocked:               0 kB\n",
      "SwapTotal:             0 kB\n",
      "SwapFree:              0 kB\n",
      "Dirty:               308 kB\n",
      "Writeback:             4 kB\n",
      "AnonPages:       1522444 kB\n",
      "Mapped:           983000 kB\n",
      "Shmem:             13204 kB\n",
      "Slab:             342624 kB\n",
      "SReclaimable:     294580 kB\n",
      "SUnreclaim:        48044 kB\n",
      "KernelStack:        4656 kB\n",
      "PageTables:        12836 kB\n",
      "NFS_Unstable:          0 kB\n",
      "Bounce:                0 kB\n",
      "WritebackTmp:          0 kB\n",
      "CommitLimit:     6667636 kB\n",
      "Committed_AS:    3580880 kB\n",
      "VmallocTotal:   34359738367 kB\n",
      "VmallocUsed:           0 kB\n",
      "VmallocChunk:          0 kB\n",
      "AnonHugePages:         0 kB\n",
      "ShmemHugePages:        0 kB\n",
      "ShmemPmdMapped:        0 kB\n",
      "HugePages_Total:       0\n",
      "HugePages_Free:        0\n",
      "HugePages_Rsvd:        0\n",
      "HugePages_Surp:        0\n",
      "Hugepagesize:       2048 kB\n",
      "DirectMap4k:      280564 kB\n",
      "DirectMap2M:     7059456 kB\n",
      "DirectMap1G:     8388608 kB\n"
     ]
    }
   ],
   "source": [
    "!cat /proc/meminfo"
   ]
  },
  {
   "cell_type": "code",
   "execution_count": 0,
   "metadata": {
    "colab": {},
    "colab_type": "code",
    "id": "QFGcxfIH5kIq"
   },
   "outputs": [],
   "source": []
  },
  {
   "cell_type": "markdown",
   "metadata": {
    "colab_type": "text",
    "id": "gL2E2DzU5tCE"
   },
   "source": [
    "## CPU Info"
   ]
  },
  {
   "cell_type": "code",
   "execution_count": 0,
   "metadata": {
    "colab": {
     "base_uri": "https://localhost:8080/",
     "height": 955
    },
    "colab_type": "code",
    "id": "JE93ZtHj5xbI",
    "outputId": "4402db3d-05df-4962-bdd5-f949a6257890"
   },
   "outputs": [
    {
     "name": "stdout",
     "output_type": "stream",
     "text": [
      "processor\t: 0\n",
      "vendor_id\t: GenuineIntel\n",
      "cpu family\t: 6\n",
      "model\t\t: 79\n",
      "model name\t: Intel(R) Xeon(R) CPU @ 2.20GHz\n",
      "stepping\t: 0\n",
      "microcode\t: 0x1\n",
      "cpu MHz\t\t: 2200.000\n",
      "cache size\t: 56320 KB\n",
      "physical id\t: 0\n",
      "siblings\t: 2\n",
      "core id\t\t: 0\n",
      "cpu cores\t: 1\n",
      "apicid\t\t: 0\n",
      "initial apicid\t: 0\n",
      "fpu\t\t: yes\n",
      "fpu_exception\t: yes\n",
      "cpuid level\t: 13\n",
      "wp\t\t: yes\n",
      "flags\t\t: fpu vme de pse tsc msr pae mce cx8 apic sep mtrr pge mca cmov pat pse36 clflush mmx fxsr sse sse2 ss ht syscall nx pdpe1gb rdtscp lm constant_tsc rep_good nopl xtopology nonstop_tsc cpuid tsc_known_freq pni pclmulqdq ssse3 fma cx16 pcid sse4_1 sse4_2 x2apic movbe popcnt aes xsave avx f16c rdrand hypervisor lahf_lm abm 3dnowprefetch invpcid_single pti ssbd ibrs ibpb stibp fsgsbase tsc_adjust bmi1 hle avx2 smep bmi2 erms invpcid rtm rdseed adx smap xsaveopt arat arch_capabilities\n",
      "bugs\t\t: cpu_meltdown spectre_v1 spectre_v2 spec_store_bypass l1tf\n",
      "bogomips\t: 4400.00\n",
      "clflush size\t: 64\n",
      "cache_alignment\t: 64\n",
      "address sizes\t: 46 bits physical, 48 bits virtual\n",
      "power management:\n",
      "\n",
      "processor\t: 1\n",
      "vendor_id\t: GenuineIntel\n",
      "cpu family\t: 6\n",
      "model\t\t: 79\n",
      "model name\t: Intel(R) Xeon(R) CPU @ 2.20GHz\n",
      "stepping\t: 0\n",
      "microcode\t: 0x1\n",
      "cpu MHz\t\t: 2200.000\n",
      "cache size\t: 56320 KB\n",
      "physical id\t: 0\n",
      "siblings\t: 2\n",
      "core id\t\t: 0\n",
      "cpu cores\t: 1\n",
      "apicid\t\t: 1\n",
      "initial apicid\t: 1\n",
      "fpu\t\t: yes\n",
      "fpu_exception\t: yes\n",
      "cpuid level\t: 13\n",
      "wp\t\t: yes\n",
      "flags\t\t: fpu vme de pse tsc msr pae mce cx8 apic sep mtrr pge mca cmov pat pse36 clflush mmx fxsr sse sse2 ss ht syscall nx pdpe1gb rdtscp lm constant_tsc rep_good nopl xtopology nonstop_tsc cpuid tsc_known_freq pni pclmulqdq ssse3 fma cx16 pcid sse4_1 sse4_2 x2apic movbe popcnt aes xsave avx f16c rdrand hypervisor lahf_lm abm 3dnowprefetch invpcid_single pti ssbd ibrs ibpb stibp fsgsbase tsc_adjust bmi1 hle avx2 smep bmi2 erms invpcid rtm rdseed adx smap xsaveopt arat arch_capabilities\n",
      "bugs\t\t: cpu_meltdown spectre_v1 spectre_v2 spec_store_bypass l1tf\n",
      "bogomips\t: 4400.00\n",
      "clflush size\t: 64\n",
      "cache_alignment\t: 64\n",
      "address sizes\t: 46 bits physical, 48 bits virtual\n",
      "power management:\n",
      "\n"
     ]
    }
   ],
   "source": [
    "!cat /proc/cpuinfo"
   ]
  },
  {
   "cell_type": "markdown",
   "metadata": {
    "colab_type": "text",
    "id": "MP8qzIrx6AKd"
   },
   "source": [
    "# GPU Info"
   ]
  },
  {
   "cell_type": "code",
   "execution_count": 0,
   "metadata": {
    "colab": {
     "base_uri": "https://localhost:8080/",
     "height": 289
    },
    "colab_type": "code",
    "id": "qKxJeojq5zKo",
    "outputId": "04af536e-dc12-423f-971c-88eb188fa20f"
   },
   "outputs": [
    {
     "name": "stdout",
     "output_type": "stream",
     "text": [
      "Sat Jul 20 10:23:39 2019       \n",
      "+-----------------------------------------------------------------------------+\n",
      "| NVIDIA-SMI 418.67       Driver Version: 410.79       CUDA Version: 10.0     |\n",
      "|-------------------------------+----------------------+----------------------+\n",
      "| GPU  Name        Persistence-M| Bus-Id        Disp.A | Volatile Uncorr. ECC |\n",
      "| Fan  Temp  Perf  Pwr:Usage/Cap|         Memory-Usage | GPU-Util  Compute M. |\n",
      "|===============================+======================+======================|\n",
      "|   0  Tesla T4            Off  | 00000000:00:04.0 Off |                    0 |\n",
      "| N/A   68C    P0    31W /  70W |    464MiB / 15079MiB |      0%      Default |\n",
      "+-------------------------------+----------------------+----------------------+\n",
      "                                                                               \n",
      "+-----------------------------------------------------------------------------+\n",
      "| Processes:                                                       GPU Memory |\n",
      "|  GPU       PID   Type   Process name                             Usage      |\n",
      "|=============================================================================|\n",
      "+-----------------------------------------------------------------------------+\n"
     ]
    }
   ],
   "source": [
    "!nvidia-smi"
   ]
  },
  {
   "cell_type": "markdown",
   "metadata": {
    "colab_type": "text",
    "id": "wY5V0LmJ7Baj"
   },
   "source": [
    "# Current Directory"
   ]
  },
  {
   "cell_type": "code",
   "execution_count": 0,
   "metadata": {
    "colab": {
     "base_uri": "https://localhost:8080/",
     "height": 34
    },
    "colab_type": "code",
    "id": "QJhFcSVQ7EFi",
    "outputId": "8b2e724f-d9ea-4bdb-f2e8-55962b8811a3"
   },
   "outputs": [
    {
     "name": "stdout",
     "output_type": "stream",
     "text": [
      "/content\n"
     ]
    }
   ],
   "source": [
    "!pwd"
   ]
  },
  {
   "cell_type": "markdown",
   "metadata": {
    "colab_type": "text",
    "id": "nHgt5Ebu8WMq"
   },
   "source": [
    "# Download A File"
   ]
  },
  {
   "cell_type": "code",
   "execution_count": 0,
   "metadata": {
    "colab": {
     "base_uri": "https://localhost:8080/",
     "height": 357
    },
    "colab_type": "code",
    "id": "BzrmixpK8btx",
    "outputId": "1f89f375-ab14-4668-de96-a54e407274a3"
   },
   "outputs": [
    {
     "name": "stdout",
     "output_type": "stream",
     "text": [
      "--2019-07-20 10:33:46--  http://nlp.stanford.edu/data/glove.6B.zip\n",
      "Resolving nlp.stanford.edu (nlp.stanford.edu)... 171.64.67.140\n",
      "Connecting to nlp.stanford.edu (nlp.stanford.edu)|171.64.67.140|:80... connected.\n",
      "HTTP request sent, awaiting response... 302 Found\n",
      "Location: https://nlp.stanford.edu/data/glove.6B.zip [following]\n",
      "--2019-07-20 10:33:46--  https://nlp.stanford.edu/data/glove.6B.zip\n",
      "Connecting to nlp.stanford.edu (nlp.stanford.edu)|171.64.67.140|:443... connected.\n",
      "HTTP request sent, awaiting response... 301 Moved Permanently\n",
      "Location: http://downloads.cs.stanford.edu/nlp/data/glove.6B.zip [following]\n",
      "--2019-07-20 10:33:47--  http://downloads.cs.stanford.edu/nlp/data/glove.6B.zip\n",
      "Resolving downloads.cs.stanford.edu (downloads.cs.stanford.edu)... 171.64.64.22\n",
      "Connecting to downloads.cs.stanford.edu (downloads.cs.stanford.edu)|171.64.64.22|:80... connected.\n",
      "HTTP request sent, awaiting response... 200 OK\n",
      "Length: 862182613 (822M) [application/zip]\n",
      "Saving to: ‘glove.6B.zip’\n",
      "\n",
      "glove.6B.zip        100%[===================>] 822.24M  25.4MB/s    in 33s     \n",
      "\n",
      "2019-07-20 10:34:20 (24.9 MB/s) - ‘glove.6B.zip’ saved [862182613/862182613]\n",
      "\n"
     ]
    }
   ],
   "source": [
    "!wget http://nlp.stanford.edu/data/glove.6B.zip"
   ]
  },
  {
   "cell_type": "markdown",
   "metadata": {
    "colab_type": "text",
    "id": "1KIF4SIR9qiz"
   },
   "source": [
    "# Git"
   ]
  },
  {
   "cell_type": "code",
   "execution_count": 0,
   "metadata": {
    "colab": {},
    "colab_type": "code",
    "id": "e2U5ujqa9-AE"
   },
   "outputs": [],
   "source": [
    "!rm -rf /content/docs"
   ]
  },
  {
   "cell_type": "code",
   "execution_count": 0,
   "metadata": {
    "colab": {
     "base_uri": "https://localhost:8080/",
     "height": 187
    },
    "colab_type": "code",
    "id": "wSKgZw-09p-s",
    "outputId": "4f88352f-446e-4492-8ccc-35115418eee3"
   },
   "outputs": [
    {
     "name": "stdout",
     "output_type": "stream",
     "text": [
      "Cloning into 'docs'...\n",
      "remote: Enumerating objects: 37, done.\u001b[K\n",
      "remote: Counting objects: 100% (37/37), done.\u001b[K\n",
      "remote: Compressing objects: 100% (25/25), done.\u001b[K\n",
      "remote: Total 86773 (delta 19), reused 21 (delta 12), pack-reused 86736\u001b[K\n",
      "Receiving objects: 100% (86773/86773), 64.93 MiB | 15.80 MiB/s, done.\n",
      "Resolving deltas: 100% (65423/65423), done.\n",
      "/root/docs\n",
      "AUTHORS  CODEOWNERS  CONTRIBUTING.md  LICENSE  README.md  setup.py  site  tools\n",
      "/root\n"
     ]
    }
   ],
   "source": [
    "!git clone https://github.com/tensorflow/docs.git\n",
    "%cd docs\n",
    "!ls\n",
    "\n",
    "%cd"
   ]
  },
  {
   "cell_type": "markdown",
   "metadata": {
    "colab_type": "text",
    "id": "PFrzVv9Y9ttx"
   },
   "source": [
    "# Markdown\n",
    "\n",
    "\n",
    "#Heading 1\n",
    "##Heading 2\n",
    "###Heading 3\n",
    "####Heading 4\n",
    "#####Heading 5\n",
    "######Heading 6\t\n",
    "\n",
    "---\n",
    "\n",
    "Paragraph\n",
    "text `Inline Code` text\t\t\n",
    "~~Mistaken text.~~\t\n",
    "*Italics*\t\n",
    "**Bold**\t\n",
    "\n",
    "---\n",
    "\n",
    "Tasks\n",
    "- [ ] a task list item\n",
    "- [ ] list syntax required\n",
    "- [ ] normal **formatting**\n",
    "- [ ] incomplete\n",
    "- [x] completed\n",
    "\n",
    "---\n",
    "\n",
    "Code Blocks\n",
    "\n",
    "    4 space indention\n",
    "    makes full-width\n",
    "    standard code blocks\n",
    "\n",
    "```js\n",
    "var now = new Date();\n",
    "\n",
    "var days = new Array('Sunday','Monday','Tuesday','Wednesday','Thursday','Friday','Saturday');\n",
    "\n",
    "var months = new Array('January','February','March','April','May','June','July','August','September','October','November','December');\n",
    "\n",
    "var date = ((now.getDate()<10) ? \"0\" : \"\")+ now.getDate();\n",
    "\n",
    "function fourdigits(number)\t{\n",
    "\treturn (number < 1000) ? number + 1900 : number;\n",
    "\t\t\t\t\t\t\t\t}\n",
    "today =  days[now.getDay()] + \", \" +\n",
    "         months[now.getMonth()] + \" \" +\n",
    "         date + \", \" +\n",
    "         (fourdigits(now.getYear())) ;\n",
    "\n",
    "document.write(today);\n",
    "```\n",
    "\n",
    "```css\n",
    "#sc_drag_area {\n",
    "  height:100px;\n",
    "  left:150px;\n",
    "  position: absolute;\n",
    "  top:100px;\n",
    "  width:250px;\n",
    "  z-index: 9999;\n",
    "}\n",
    "```\n",
    "\n",
    "---\n",
    "\n",
    "* List item one\n",
    "* List item two\n",
    "    * A nested item\n",
    "\n",
    "---\n",
    "\n",
    "1. Number list item one\t\t\n",
    "\t1.1. A nested item\n",
    "2. Number list item two\n",
    "3. Number list item three\n",
    "\n",
    "---\n",
    "\n",
    "> Quote\n",
    "> \n",
    "> Second line Quote\n",
    "\n",
    "---\n",
    "\n",
    "Standard link =  http://ghost.org\t\n",
    "[Custom Text Link](http://ghost.org)\n",
    "\n",
    "---\n",
    "\n",
    "![Image](https://res.cloudinary.com/dltf2/image/upload/v1563619535/workshops/dl_tf2_2019_07_21/tensorflow-2_swlp0s.png)\n",
    "\n",
    "---\n",
    "\n",
    "# Table\n",
    "\n",
    "| Left-Aligned  | Center Aligned  | Right Aligned |\n",
    "| :------------ |:---------------:| -----:|\n",
    "| col 3 is      | some wordy text | \\$1600 |\n",
    "| col 2 is      | centered        |   \\$12 |\n",
    "| zebra stripes | are neat        |    \\$1 |\n",
    "\n",
    "\n",
    "# Equations\n",
    "\n",
    "$$\n",
    "\\begin{array}{c}\n",
    "y_1 \\\\\\\n",
    "y_2 \\mathtt{t}_i \\\\\\\n",
    "z_{3,4}\n",
    "\\end{array}\n",
    "$$\n",
    "\n",
    "$$\n",
    "\\begin{array}{c}\n",
    "y_1 \\cr\n",
    "y_2 \\mathtt{t}_i \\cr\n",
    "y_{3}\n",
    "\\end{array}\n",
    "$$\n",
    "\n",
    "$$\\begin{eqnarray}\n",
    "x' &=& &x \\sin\\phi &+& z \\cos\\phi \\\\\n",
    "z' &=& - &x \\cos\\phi &+& z \\sin\\phi \\\\\n",
    "\\end{eqnarray}$$\n",
    "\n",
    "$$\n",
    "x=4\n",
    "$$\n",
    "\n",
    "\\begin{equation}\n",
    "E = F \\cdot s \n",
    "\\end{equation}"
   ]
  },
  {
   "cell_type": "markdown",
   "metadata": {
    "colab_type": "text",
    "id": "WJOJ-JOH4weJ"
   },
   "source": [
    "# Forms\n",
    "\n",
    "Forms provide an easy way to parameterize code. From a code cell, select **Insert → Add form field**.  When you change the value in a form, the corresponding value in the code will change. "
   ]
  },
  {
   "cell_type": "code",
   "execution_count": 0,
   "metadata": {
    "colab": {
     "base_uri": "https://localhost:8080/",
     "height": 68
    },
    "colab_type": "code",
    "id": "vW9GQvqA4PXH",
    "outputId": "9efdf7f4-0248-46c9-dc59-83f8f604c3ee"
   },
   "outputs": [
    {
     "name": "stdout",
     "output_type": "stream",
     "text": [
      "value\n",
      "1st option\n",
      "value\n"
     ]
    }
   ],
   "source": [
    "#@title String fields\n",
    "\n",
    "text = 'value' #@param {type:\"string\"}\n",
    "dropdown = '1st option' #@param [\"1st option\", \"2nd option\", \"3rd option\"]\n",
    "text_and_dropdown = 'value' #@param [\"1st option\", \"2nd option\", \"3rd option\"] {allow-input: true}\n",
    "\n",
    "print(text)\n",
    "print(dropdown)\n",
    "print(text_and_dropdown)"
   ]
  },
  {
   "cell_type": "code",
   "execution_count": 0,
   "metadata": {
    "colab": {
     "base_uri": "https://localhost:8080/",
     "height": 51
    },
    "colab_type": "code",
    "id": "Ql_NpyxZ5S_c",
    "outputId": "889b4966-ae28-43da-9a4f-66b49eb77567"
   },
   "outputs": [
    {
     "name": "stdout",
     "output_type": "stream",
     "text": [
      "None\n",
      "None\n"
     ]
    }
   ],
   "source": [
    "#@title Raw fields\n",
    "\n",
    "raw_input = None #@param {type:\"raw\"}\n",
    "raw_dropdown = raw_input #@param [1, \"raw_input\", \"False\", \"'string'\"] {type:\"raw\"}\n",
    "\n",
    "print(raw_input)\n",
    "print(raw_dropdown)"
   ]
  },
  {
   "cell_type": "code",
   "execution_count": 0,
   "metadata": {
    "colab": {
     "base_uri": "https://localhost:8080/",
     "height": 34
    },
    "colab_type": "code",
    "id": "bVduEJUSA-aD",
    "outputId": "a6ec3250-26ee-47eb-f798-33fb18a91821"
   },
   "outputs": [
    {
     "name": "stdout",
     "output_type": "stream",
     "text": [
      "2018-03-22\n"
     ]
    }
   ],
   "source": [
    "#@title Date fields\n",
    "date_input = '2018-03-22' #@param {type:\"date\"}\n",
    "\n",
    "print(date_input)"
   ]
  },
  {
   "cell_type": "code",
   "execution_count": 0,
   "metadata": {
    "colab": {
     "base_uri": "https://localhost:8080/",
     "height": 85
    },
    "colab_type": "code",
    "id": "YJymPNvYA_77",
    "outputId": "795523cc-7b43-4a6a-cfa2-6fc78bf49368"
   },
   "outputs": [
    {
     "name": "stdout",
     "output_type": "stream",
     "text": [
      "10.0\n",
      "0\n",
      "10\n",
      "1\n"
     ]
    }
   ],
   "source": [
    "#@title Number fields\n",
    "number_input = 10.0 #@param {type:\"number\"}\n",
    "number_slider = 1 #@param {type:\"slider\", min:-1, max:1, step:0.1}\n",
    "\n",
    "integer_input = 10 #@param {type:\"integer\"}\n",
    "integer_slider = 0 #@param {type:\"slider\", min:0, max:100, step:1}\n",
    "\n",
    "print(number_input)\n",
    "print(number_slider)\n",
    "\n",
    "print(integer_input)\n",
    "print(integer_slider)"
   ]
  },
  {
   "cell_type": "code",
   "execution_count": 0,
   "metadata": {
    "colab": {
     "base_uri": "https://localhost:8080/",
     "height": 51
    },
    "colab_type": "code",
    "id": "dOzuUjX5BBSD",
    "outputId": "3a460d71-fa54-4847-9659-fe046ec6b7ed"
   },
   "outputs": [
    {
     "name": "stdout",
     "output_type": "stream",
     "text": [
      "True\n",
      "True\n"
     ]
    }
   ],
   "source": [
    "#@title Boolean fields\n",
    "boolean_checkbox = True #@param {type:\"boolean\"}\n",
    "boolean_dropdown = True #@param [\"False\", \"True\"] {type:\"raw\"}\n",
    "\n",
    "print(boolean_checkbox)\n",
    "print(boolean_dropdown)"
   ]
  },
  {
   "cell_type": "code",
   "execution_count": 0,
   "metadata": {
    "colab": {},
    "colab_type": "code",
    "id": "8haqTRT8BCtE"
   },
   "outputs": [],
   "source": [
    "#@title ## Markdown\n",
    "#@markdown You can also include Markdown in forms.\n",
    "\n",
    "#@markdown ---\n",
    "#@markdown ### Enter a file path:\n",
    "file_path = \"\" #@param {type:\"string\"}\n",
    "#@markdown ---\n",
    "\n"
   ]
  },
  {
   "cell_type": "markdown",
   "metadata": {
    "colab_type": "text",
    "id": "hVEG5D5TxFKW"
   },
   "source": [
    "# Hiding code\n",
    "\n",
    "You can change the view of the form by selecting **Edit → Show/hide code** or using the toolbar above the selected code cell. You can see both code and the form, just the form, or just the code."
   ]
  },
  {
   "cell_type": "code",
   "execution_count": 0,
   "metadata": {
    "colab": {},
    "colab_type": "code",
    "id": "ad-fjFOQxoFG"
   },
   "outputs": [],
   "source": [
    "#@title Double click on this line in the code cell. { display-mode: \"form\" }\n",
    "\n",
    "option1 = 'A' #@param [\"A\", \"B\", \"C\"]\n",
    "print('You selected', option1)\n"
   ]
  },
  {
   "cell_type": "code",
   "execution_count": 0,
   "metadata": {
    "cellView": "both",
    "colab": {},
    "colab_type": "code",
    "id": "h9aZYKhly2h_"
   },
   "outputs": [],
   "source": [
    "#@title After running this cell manually, it will auto-run if you change the selected value. { run: \"auto\" }\n",
    "\n",
    "option2 = \"A\" #@param [\"A\", \"B\", \"C\"]\n",
    "print('You selected', option2)\n"
   ]
  },
  {
   "cell_type": "markdown",
   "metadata": {
    "colab_type": "text",
    "id": "WWL2x2IfXY4L"
   },
   "source": [
    "# Mounting"
   ]
  },
  {
   "cell_type": "code",
   "execution_count": 0,
   "metadata": {
    "colab": {},
    "colab_type": "code",
    "id": "jdBcuuHfXZeL"
   },
   "outputs": [],
   "source": [
    "#@title ## Mounting Gdrive\n",
    "\n",
    "USE_G_COLAB = True #@param {type:\"boolean\"}\n",
    "\n",
    "if USE_G_COLAB:\n",
    "    from google.colab import drive\n",
    "\n",
    "    \n",
    "    drive.mount('/content/drive', force_remount=True)"
   ]
  },
  {
   "cell_type": "code",
   "execution_count": 0,
   "metadata": {
    "colab": {},
    "colab_type": "code",
    "id": "ETt5BycEXblr"
   },
   "outputs": [],
   "source": [
    "#@title ## Project Root\n",
    "\n",
    "root_dir = ''\n",
    "\n",
    "if USE_G_COLAB:\n",
    "    root_dir = '/content/drive/My Drive/workshops/2019_07_21/sessions_01/' #@param {type:\"string\"}"
   ]
  }
 ],
 "metadata": {
  "accelerator": "GPU",
  "colab": {
   "collapsed_sections": [],
   "name": "Notebook 001.ipynb",
   "provenance": [],
   "version": "0.3.2"
  },
  "kernelspec": {
   "display_name": "Python 3",
   "language": "python",
   "name": "python3"
  },
  "language_info": {
   "codemirror_mode": {
    "name": "ipython",
    "version": 3
   },
   "file_extension": ".py",
   "mimetype": "text/x-python",
   "name": "python",
   "nbconvert_exporter": "python",
   "pygments_lexer": "ipython3",
   "version": "3.7.3"
  }
 },
 "nbformat": 4,
 "nbformat_minor": 1
}
