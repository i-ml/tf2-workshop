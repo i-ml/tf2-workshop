{
 "cells": [
  {
   "cell_type": "markdown",
   "metadata": {
    "colab_type": "text",
    "id": "8JwRonilYEbP"
   },
   "source": [
    "<img alt=\"Platforms\" height=\"45px\" src=\"https://res.cloudinary.com/dltf2/image/upload/v1563482460/workshops/dl_tf2_2019_07_21/logo_chi03g.png\" align=\"left\" hspace=\"10px\" vspace=\"0px\">\n",
    "\n",
    "\n",
    "# Welcome to Session 03 [Long Short-Term Memory (LSTM)]"
   ]
  },
  {
   "cell_type": "markdown",
   "metadata": {
    "colab_type": "text",
    "id": "riDGLISqXW5b"
   },
   "source": [
    "This is a [Google Colaboratory](https://colab.research.google.com/notebooks/welcome.ipynb) notebook file. Python programs are run directly in the browser—a great way to learn and use TensorFlow. To follow this tutorial, run the notebook in Google Colab by clicking the button at the top of this page.\n",
    "\n",
    "1. In Colab, connect to a Python runtime: At the top-right of the menu bar, select *CONNECT*.\n",
    "2. Run all the notebook code cells: Select *Runtime* > *Run all*."
   ]
  },
  {
   "cell_type": "markdown",
   "metadata": {
    "colab_type": "text",
    "id": "LsfhyUBEkrWv"
   },
   "source": [
    "### Mounting"
   ]
  },
  {
   "cell_type": "code",
   "execution_count": 0,
   "metadata": {
    "colab": {
     "base_uri": "https://localhost:8080/",
     "height": 122
    },
    "colab_type": "code",
    "id": "1BxPwj27YIUb",
    "outputId": "00339bad-3e04-4195-b8d9-d9dbb67a5c45"
   },
   "outputs": [
    {
     "name": "stdout",
     "output_type": "stream",
     "text": [
      "Go to this URL in a browser: https://accounts.google.com/o/oauth2/auth?client_id=947318989803-6bn6qk8qdgf4n4g3pfee6491hc0brc4i.apps.googleusercontent.com&redirect_uri=urn%3Aietf%3Awg%3Aoauth%3A2.0%3Aoob&scope=email%20https%3A%2F%2Fwww.googleapis.com%2Fauth%2Fdocs.test%20https%3A%2F%2Fwww.googleapis.com%2Fauth%2Fdrive%20https%3A%2F%2Fwww.googleapis.com%2Fauth%2Fdrive.photos.readonly%20https%3A%2F%2Fwww.googleapis.com%2Fauth%2Fpeopleapi.readonly&response_type=code\n",
      "\n",
      "Enter your authorization code:\n",
      "··········\n",
      "Mounted at /content/drive\n"
     ]
    }
   ],
   "source": [
    "# Mounting Gdrive\n",
    "\n",
    "USE_G_COLAB = True\n",
    "\n",
    "if USE_G_COLAB:\n",
    "    from google.colab import drive\n",
    "\n",
    "    \n",
    "    drive.mount('/content/drive', force_remount=True)"
   ]
  },
  {
   "cell_type": "code",
   "execution_count": 0,
   "metadata": {
    "colab": {},
    "colab_type": "code",
    "id": "-YLgGJSWq7JV"
   },
   "outputs": [],
   "source": [
    "# Project Root\n",
    "\n",
    "root_dir = ''\n",
    "\n",
    "if USE_G_COLAB:\n",
    "    root_dir = '/content/drive/My Drive/workshops/2019_07_21/sessions_01/'"
   ]
  },
  {
   "cell_type": "markdown",
   "metadata": {
    "colab_type": "text",
    "id": "OlHs0uZjktKv"
   },
   "source": [
    "### Install Requirement"
   ]
  },
  {
   "cell_type": "code",
   "execution_count": 0,
   "metadata": {
    "colab": {
     "base_uri": "https://localhost:8080/",
     "height": 34
    },
    "colab_type": "code",
    "id": "eK7oq9t5q9jR",
    "outputId": "27084203-93cb-4b02-f2c1-ce0802b95919"
   },
   "outputs": [
    {
     "name": "stdout",
     "output_type": "stream",
     "text": [
      "\u001b[?25l\r",
      "\u001b[K     |▍                               | 10kB 17.7MB/s eta 0:00:01\r",
      "\u001b[K     |▊                               | 20kB 1.7MB/s eta 0:00:01\r",
      "\u001b[K     |█▏                              | 30kB 2.6MB/s eta 0:00:01\r",
      "\u001b[K     |█▌                              | 40kB 1.7MB/s eta 0:00:01\r",
      "\u001b[K     |█▉                              | 51kB 2.1MB/s eta 0:00:01\r",
      "\u001b[K     |██▎                             | 61kB 2.5MB/s eta 0:00:01\r",
      "\u001b[K     |██▋                             | 71kB 2.9MB/s eta 0:00:01\r",
      "\u001b[K     |███                             | 81kB 3.2MB/s eta 0:00:01\r",
      "\u001b[K     |███▍                            | 92kB 3.6MB/s eta 0:00:01\r",
      "\u001b[K     |███▊                            | 102kB 2.8MB/s eta 0:00:01\r",
      "\u001b[K     |████                            | 112kB 2.8MB/s eta 0:00:01\r",
      "\u001b[K     |████▌                           | 122kB 2.8MB/s eta 0:00:01\r",
      "\u001b[K     |████▉                           | 133kB 2.8MB/s eta 0:00:01\r",
      "\u001b[K     |█████▎                          | 143kB 2.8MB/s eta 0:00:01\r",
      "\u001b[K     |█████▋                          | 153kB 2.8MB/s eta 0:00:01\r",
      "\u001b[K     |██████                          | 163kB 2.8MB/s eta 0:00:01\r",
      "\u001b[K     |██████▍                         | 174kB 2.8MB/s eta 0:00:01\r",
      "\u001b[K     |██████▊                         | 184kB 2.8MB/s eta 0:00:01\r",
      "\u001b[K     |███████                         | 194kB 2.8MB/s eta 0:00:01\r",
      "\u001b[K     |███████▌                        | 204kB 2.8MB/s eta 0:00:01\r",
      "\u001b[K     |███████▉                        | 215kB 2.8MB/s eta 0:00:01\r",
      "\u001b[K     |████████▏                       | 225kB 2.8MB/s eta 0:00:01\r",
      "\u001b[K     |████████▋                       | 235kB 2.8MB/s eta 0:00:01\r",
      "\u001b[K     |█████████                       | 245kB 2.8MB/s eta 0:00:01\r",
      "\u001b[K     |█████████▍                      | 256kB 2.8MB/s eta 0:00:01\r",
      "\u001b[K     |█████████▊                      | 266kB 2.8MB/s eta 0:00:01\r",
      "\u001b[K     |██████████                      | 276kB 2.8MB/s eta 0:00:01\r",
      "\u001b[K     |██████████▌                     | 286kB 2.8MB/s eta 0:00:01\r",
      "\u001b[K     |██████████▉                     | 296kB 2.8MB/s eta 0:00:01\r",
      "\u001b[K     |███████████▏                    | 307kB 2.8MB/s eta 0:00:01\r",
      "\u001b[K     |███████████▋                    | 317kB 2.8MB/s eta 0:00:01\r",
      "\u001b[K     |████████████                    | 327kB 2.8MB/s eta 0:00:01\r",
      "\u001b[K     |████████████▎                   | 337kB 2.8MB/s eta 0:00:01\r",
      "\u001b[K     |████████████▊                   | 348kB 2.8MB/s eta 0:00:01\r",
      "\u001b[K     |█████████████                   | 358kB 2.8MB/s eta 0:00:01\r",
      "\u001b[K     |█████████████▌                  | 368kB 2.8MB/s eta 0:00:01\r",
      "\u001b[K     |█████████████▉                  | 378kB 2.8MB/s eta 0:00:01\r",
      "\u001b[K     |██████████████▏                 | 389kB 2.8MB/s eta 0:00:01\r",
      "\u001b[K     |██████████████▋                 | 399kB 2.8MB/s eta 0:00:01\r",
      "\u001b[K     |███████████████                 | 409kB 2.8MB/s eta 0:00:01\r",
      "\u001b[K     |███████████████▎                | 419kB 2.8MB/s eta 0:00:01\r",
      "\u001b[K     |███████████████▊                | 430kB 2.8MB/s eta 0:00:01\r",
      "\u001b[K     |████████████████                | 440kB 2.8MB/s eta 0:00:01\r",
      "\u001b[K     |████████████████▍               | 450kB 2.8MB/s eta 0:00:01\r",
      "\u001b[K     |████████████████▉               | 460kB 2.8MB/s eta 0:00:01\r",
      "\u001b[K     |█████████████████▏              | 471kB 2.8MB/s eta 0:00:01\r",
      "\u001b[K     |█████████████████▋              | 481kB 2.8MB/s eta 0:00:01\r",
      "\u001b[K     |██████████████████              | 491kB 2.8MB/s eta 0:00:01\r",
      "\u001b[K     |██████████████████▎             | 501kB 2.8MB/s eta 0:00:01\r",
      "\u001b[K     |██████████████████▊             | 512kB 2.8MB/s eta 0:00:01\r",
      "\u001b[K     |███████████████████             | 522kB 2.8MB/s eta 0:00:01\r",
      "\u001b[K     |███████████████████▍            | 532kB 2.8MB/s eta 0:00:01\r",
      "\u001b[K     |███████████████████▉            | 542kB 2.8MB/s eta 0:00:01\r",
      "\u001b[K     |████████████████████▏           | 552kB 2.8MB/s eta 0:00:01\r",
      "\u001b[K     |████████████████████▌           | 563kB 2.8MB/s eta 0:00:01\r",
      "\u001b[K     |█████████████████████           | 573kB 2.8MB/s eta 0:00:01\r",
      "\u001b[K     |█████████████████████▎          | 583kB 2.8MB/s eta 0:00:01\r",
      "\u001b[K     |█████████████████████▋          | 593kB 2.8MB/s eta 0:00:01\r",
      "\u001b[K     |██████████████████████          | 604kB 2.8MB/s eta 0:00:01\r",
      "\u001b[K     |██████████████████████▍         | 614kB 2.8MB/s eta 0:00:01\r",
      "\u001b[K     |██████████████████████▉         | 624kB 2.8MB/s eta 0:00:01\r",
      "\u001b[K     |███████████████████████▏        | 634kB 2.8MB/s eta 0:00:01\r",
      "\u001b[K     |███████████████████████▌        | 645kB 2.8MB/s eta 0:00:01\r",
      "\u001b[K     |████████████████████████        | 655kB 2.8MB/s eta 0:00:01\r",
      "\u001b[K     |████████████████████████▎       | 665kB 2.8MB/s eta 0:00:01\r",
      "\u001b[K     |████████████████████████▋       | 675kB 2.8MB/s eta 0:00:01\r",
      "\u001b[K     |█████████████████████████       | 686kB 2.8MB/s eta 0:00:01\r",
      "\u001b[K     |█████████████████████████▍      | 696kB 2.8MB/s eta 0:00:01\r",
      "\u001b[K     |█████████████████████████▊      | 706kB 2.8MB/s eta 0:00:01\r",
      "\u001b[K     |██████████████████████████▏     | 716kB 2.8MB/s eta 0:00:01\r",
      "\u001b[K     |██████████████████████████▌     | 727kB 2.8MB/s eta 0:00:01\r",
      "\u001b[K     |███████████████████████████     | 737kB 2.8MB/s eta 0:00:01\r",
      "\u001b[K     |███████████████████████████▎    | 747kB 2.8MB/s eta 0:00:01\r",
      "\u001b[K     |███████████████████████████▋    | 757kB 2.8MB/s eta 0:00:01\r",
      "\u001b[K     |████████████████████████████    | 768kB 2.8MB/s eta 0:00:01\r",
      "\u001b[K     |████████████████████████████▍   | 778kB 2.8MB/s eta 0:00:01\r",
      "\u001b[K     |████████████████████████████▊   | 788kB 2.8MB/s eta 0:00:01\r",
      "\u001b[K     |█████████████████████████████▏  | 798kB 2.8MB/s eta 0:00:01\r",
      "\u001b[K     |█████████████████████████████▌  | 808kB 2.8MB/s eta 0:00:01\r",
      "\u001b[K     |█████████████████████████████▉  | 819kB 2.8MB/s eta 0:00:01\r",
      "\u001b[K     |██████████████████████████████▎ | 829kB 2.8MB/s eta 0:00:01\r",
      "\u001b[K     |██████████████████████████████▋ | 839kB 2.8MB/s eta 0:00:01\r",
      "\u001b[K     |███████████████████████████████ | 849kB 2.8MB/s eta 0:00:01\r",
      "\u001b[K     |███████████████████████████████▍| 860kB 2.8MB/s eta 0:00:01\r",
      "\u001b[K     |███████████████████████████████▊| 870kB 2.8MB/s eta 0:00:01\r",
      "\u001b[K     |████████████████████████████████| 880kB 2.8MB/s \n",
      "\u001b[?25h"
     ]
    }
   ],
   "source": [
    "!pip install -q tensorflow-gpu==2.0.0-beta1\n",
    "!pip install -qU watermark"
   ]
  },
  {
   "cell_type": "markdown",
   "metadata": {
    "colab_type": "text",
    "id": "V9ux4CYMk0Ay"
   },
   "source": [
    "### Custom Matplotlib Style"
   ]
  },
  {
   "cell_type": "code",
   "execution_count": 0,
   "metadata": {
    "colab": {},
    "colab_type": "code",
    "id": "rh4MSwC6toZD"
   },
   "outputs": [],
   "source": [
    "mpl_style = \"https://gist.githubusercontent.com/m3hrdadfi/af8aca01094afb7d3e5b46de9ad8d509/raw/871ec5d721a3b438c3c896718ea4aafc91ea9744/gadfly.mplstyle\"\n",
    "\n",
    "!wget -q $mpl_style -O /root/.config/matplotlib/matplotlibrc"
   ]
  },
  {
   "cell_type": "markdown",
   "metadata": {
    "colab_type": "text",
    "id": "3sfTb8Vfk4zU"
   },
   "source": [
    "### General Paramas\n",
    "\n",
    "A random seed is a number used to initialize a pseudorandom number generator. For a seed to be used in a pseudorandom number generator, it does not need to be random"
   ]
  },
  {
   "cell_type": "code",
   "execution_count": 0,
   "metadata": {
    "colab": {},
    "colab_type": "code",
    "id": "_yM29O0kuLHd"
   },
   "outputs": [],
   "source": [
    "RANDOM_SEED = 141"
   ]
  },
  {
   "cell_type": "markdown",
   "metadata": {
    "colab_type": "text",
    "id": "2VMjya4XlEEc"
   },
   "source": [
    "### Import requried packages"
   ]
  },
  {
   "cell_type": "code",
   "execution_count": 0,
   "metadata": {
    "colab": {},
    "colab_type": "code",
    "id": "YsoYus6YlFBQ"
   },
   "outputs": [],
   "source": [
    "import tensorflow as tf\n",
    "\n",
    "import requests\n",
    "import numpy as np\n",
    "import pandas as pd\n",
    "\n",
    "from sklearn.model_selection import train_test_split\n",
    "from sklearn.preprocessing import StandardScaler\n",
    "from sklearn.metrics import classification_report, confusion_matrix\n",
    "from sklearn.utils import shuffle\n",
    "\n",
    "import matplotlib as mpl\n",
    "import matplotlib.pyplot as plt\n",
    "\n",
    "import cv2\n",
    "\n",
    "import random\n",
    "import sys\n",
    "import io\n",
    "import re\n",
    "import time\n",
    "from datetime import date, datetime, time\n",
    "import os\n",
    "import struct\n",
    "import itertools\n",
    "from tqdm import tqdm\n",
    "\n",
    "from pprint import pprint\n",
    "\n",
    "\n",
    "%matplotlib inline\n",
    "mpl.rc_file(mpl.matplotlib_fname())"
   ]
  },
  {
   "cell_type": "markdown",
   "metadata": {
    "colab_type": "text",
    "id": "SN1S_EEGXbj8"
   },
   "source": [
    "# Load the data"
   ]
  },
  {
   "cell_type": "code",
   "execution_count": 0,
   "metadata": {
    "colab": {},
    "colab_type": "code",
    "id": "uIbpGWtDXgje"
   },
   "outputs": [],
   "source": [
    "!wget https://www.dropbox.com/s/4p8v9ua9yjo6stv/sld.zip\n",
    "!unzip sld.zip\n",
    "!ls"
   ]
  },
  {
   "cell_type": "code",
   "execution_count": 5,
   "metadata": {
    "colab": {
     "base_uri": "https://localhost:8080/",
     "height": 51
    },
    "colab_type": "code",
    "id": "_7ZFmT_kQcgB",
    "outputId": "ebdc7ca5-a9bb-4d3f-e922-b095b698c4c2"
   },
   "outputs": [
    {
     "name": "stdout",
     "output_type": "stream",
     "text": [
      "(2062, 64, 64)\n",
      "(2062, 10)\n"
     ]
    }
   ],
   "source": [
    "x = np.load('./sld/X.npy')\n",
    "y = np.load('./sld/Y.npy')\n",
    "\n",
    "print(x.shape)\n",
    "print(y.shape)"
   ]
  },
  {
   "cell_type": "code",
   "execution_count": 0,
   "metadata": {
    "colab": {},
    "colab_type": "code",
    "id": "w9JzEgEXHYmh"
   },
   "outputs": [],
   "source": []
  }
 ],
 "metadata": {
  "accelerator": "GPU",
  "colab": {
   "collapsed_sections": [],
   "name": "Notebook Playground.ipynb",
   "provenance": [],
   "version": "0.3.2"
  },
  "kernelspec": {
   "display_name": "Python 3",
   "language": "python",
   "name": "python3"
  },
  "language_info": {
   "codemirror_mode": {
    "name": "ipython",
    "version": 3
   },
   "file_extension": ".py",
   "mimetype": "text/x-python",
   "name": "python",
   "nbconvert_exporter": "python",
   "pygments_lexer": "ipython3",
   "version": "3.7.3"
  }
 },
 "nbformat": 4,
 "nbformat_minor": 1
}
