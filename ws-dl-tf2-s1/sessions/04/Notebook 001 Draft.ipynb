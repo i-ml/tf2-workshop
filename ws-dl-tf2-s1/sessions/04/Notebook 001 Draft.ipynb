{
  "nbformat": 4,
  "nbformat_minor": 0,
  "metadata": {
    "accelerator": "GPU",
    "colab": {
      "name": "Notebook 001-Student.ipynb",
      "version": "0.3.2",
      "provenance": [],
      "collapsed_sections": []
    },
    "kernelspec": {
      "display_name": "Python 3",
      "language": "python",
      "name": "python3"
    },
    "language_info": {
      "codemirror_mode": {
        "name": "ipython",
        "version": 3
      },
      "file_extension": ".py",
      "mimetype": "text/x-python",
      "name": "python",
      "nbconvert_exporter": "python",
      "pygments_lexer": "ipython3",
      "version": "3.7.3"
    }
  },
  "cells": [
    {
      "cell_type": "markdown",
      "metadata": {
        "colab_type": "text",
        "id": "8JwRonilYEbP"
      },
      "source": [
        "<img alt=\"Platforms\" height=\"45px\" src=\"https://res.cloudinary.com/dltf2/image/upload/v1563482460/workshops/dl_tf2_2019_07_21/logo_chi03g.png\" align=\"left\" hspace=\"10px\" vspace=\"0px\">\n",
        "\n",
        "\n",
        "# Welcome to Session 03 [Long Short-Term Memory (LSTM)]"
      ]
    },
    {
      "cell_type": "markdown",
      "metadata": {
        "colab_type": "text",
        "id": "riDGLISqXW5b"
      },
      "source": [
        "This is a [Google Colaboratory](https://colab.research.google.com/notebooks/welcome.ipynb) notebook file. Python programs are run directly in the browser—a great way to learn and use TensorFlow. To follow this tutorial, run the notebook in Google Colab by clicking the button at the top of this page.\n",
        "\n",
        "1. In Colab, connect to a Python runtime: At the top-right of the menu bar, select *CONNECT*.\n",
        "2. Run all the notebook code cells: Select *Runtime* > *Run all*."
      ]
    },
    {
      "cell_type": "markdown",
      "metadata": {
        "id": "yiHefOVXIC1Q",
        "colab_type": "text"
      },
      "source": [
        "# RNN Model"
      ]
    },
    {
      "cell_type": "markdown",
      "metadata": {
        "id": "KNEIoSlILE_W",
        "colab_type": "text"
      },
      "source": [
        "## Recurrent Neural Networks\n",
        "\n",
        "Humans don’t start their thinking from scratch every second. As you read this essay, you understand each word based on your understanding of previous words. You don’t throw everything away and start thinking from scratch again. Your thoughts have persistence.\n",
        "\n",
        "Traditional neural networks can’t do this, and it seems like a major shortcoming. For example, imagine you want to classify what kind of event is happening at every point in a movie. It’s unclear how a traditional neural network could use its reasoning about previous events in the film to inform later ones.\n",
        "\n",
        "Recurrent neural networks address this issue. They are networks with loops in them, allowing information to persist.\n",
        "<p align=\"center\">\n",
        "<img src=\"https://res.cloudinary.com/dltf2/image/upload/v1564213522/workshops/dl_tf2_2019_07_21/RNN-rolled_rltsdc.png\" height=200>\n",
        "    </p>\n",
        "\n",
        "In the above diagram, a chunk of neural network, $A$ , looks at some input $x_t$ and outputs a value $h_t$ . A loop allows information to be passed from one step of the network to the next.\n",
        "\n",
        "These loops make recurrent neural networks seem kind of mysterious. However, if you think a bit more, it turns out that they aren’t all that different than a normal neural network. A recurrent neural network can be thought of as multiple copies of the same network, each passing a message to a successor. Consider what happens if we unroll the loop:\n",
        "<p align=\"center\">\n",
        "<img src=\"https://res.cloudinary.com/dltf2/image/upload/v1564213887/workshops/dl_tf2_2019_07_21/RNN-unrolled_jj1yez.png\" width=450>\n",
        "    </p>\n",
        "   \n",
        "This chain-like nature reveals that recurrent neural networks are intimately related to sequences and lists. They’re the natural architecture of neural network to use for such data.\n",
        "\n",
        "And they certainly are used! In the last few years, there have been incredible success applying RNNs to a variety of problems: speech recognition, language modeling, translation, image captioning… The list goes on. I’ll leave discussion of the amazing feats one can achieve with RNNs to Andrej Karpathy’s excellent blog post, The Unreasonable Effectiveness of Recurrent Neural Networks. But they really are pretty amazing.\n",
        "\n",
        "Essential to these successes is the use of “LSTMs,” a very special kind of recurrent neural network which works, for many tasks, much much better than the standard version. Almost all exciting results based on recurrent neural networks are achieved with them. It’s these LSTMs that this essay will explore.\n",
        "\n",
        "## The Problem of Long-Term Dependencies\n",
        "One of the appeals of RNNs is the idea that they might be able to connect previous information to the present task, such as using previous video frames might inform the understanding of the present frame. If RNNs could do this, they’d be extremely useful. But can they? It depends.\n",
        "\n",
        "Sometimes, we only need to look at recent information to perform the present task. For example, consider a language model trying to predict the next word based on the previous ones. If we are trying to predict the last word in “the clouds are in the sky,” we don’t need any further context – it’s pretty obvious the next word is going to be sky. In such cases, where the gap between the relevant information and the place that it’s needed is small, RNNs can learn to use the past information.\n",
        "    <p align=\"center\">\n",
        "<img src=\"https://res.cloudinary.com/dltf2/image/upload/v1564214032/workshops/dl_tf2_2019_07_21/RNN-shorttermdepdencies_hn9lu2.png\" width=450>\n",
        "    </p>\n",
        "But there are also cases where we need more context. Consider trying to predict the last word in the text “I grew up in France… I speak fluent French.” Recent information suggests that the next word is probably the name of a language, but if we want to narrow down which language, we need the context of France, from further back. It’s entirely possible for the gap between the relevant information and the point where it is needed to become very large.\n",
        "\n",
        "Unfortunately, as that gap grows, RNNs become unable to learn to connect the information.\n",
        "  <p align=\"center\">\n",
        "<img src=\"https://res.cloudinary.com/dltf2/image/upload/v1564214221/workshops/dl_tf2_2019_07_21/RNN-longtermdependencies_wbhvgx.png\" width=450>\n",
        "    </p>\n",
        "\n",
        "\n",
        "In theory, RNNs are absolutely capable of handling such “long-term dependencies.” A human could carefully pick parameters for them to solve toy problems of this form. Sadly, in practice, RNNs don’t seem to be able to learn them.\n",
        "Thankfully, LSTMs don’t have this problem!\n",
        "\n",
        "## LSTM Networks\n",
        "Long Short Term Memory networks – usually just called “LSTMs” – are a special kind of RNN, capable of learning long-term dependencies.\n",
        "LSTMs are explicitly designed to avoid the long-term dependency problem. Remembering information for long periods of time is practically their default behavior, not something they struggle to learn!\n",
        "\n",
        "All recurrent neural networks have the form of a chain of repeating modules of neural network. In standard RNNs, this repeating module will have a very simple structure, such as a single tanh layer.\n",
        " <p align=\"center\">\n",
        "<img src=\"https://res.cloudinary.com/dltf2/image/upload/v1564214387/workshops/dl_tf2_2019_07_21/LSTM3-SimpleRNN_bp8ds9.png\" width=450>\n",
        "    </p>\n",
        "LSTMs also have this chain like structure, but the repeating module has a different structure. Instead of having a single neural network layer, there are four, interacting in a very special way.\n",
        "\n",
        " <p align=\"center\">\n",
        "<img src=\"https://res.cloudinary.com/dltf2/image/upload/v1564214473/workshops/dl_tf2_2019_07_21/LSTM3-chain_rpqgio.png\" width=450>\n",
        "    </p>\n",
        "    Don’t worry about the details of what’s going on. We’ll walk through the LSTM diagram step by step later. For now, let’s just try to get comfortable with the notation we’ll be using.\n",
        "     <p align=\"center\">\n",
        "<img src=\"https://res.cloudinary.com/dltf2/image/upload/v1564214576/workshops/dl_tf2_2019_07_21/LSTM2-notation_t6g1w1.png\" width=450>\n",
        "    </p>\n",
        "    In the above diagram, each line carries an entire vector, from the output of one node to the inputs of others. The pink circles represent pointwise operations, like vector addition, while the yellow boxes are learned neural network layers. Lines merging denote concatenation, while a line forking denote its content being copied and the copies going to different locations.\n",
        "\n",
        "## The Core Idea Behind LSTMs\n",
        "The key to LSTMs is the cell state, the horizontal line running through the top of the diagram.\n",
        "\n",
        "The cell state is kind of like a conveyor belt. It runs straight down the entire chain, with only some minor linear interactions. It’s very easy for information to just flow along it unchanged.\n",
        "\n",
        "   <p align=\"center\">\n",
        "<img src=\"https://res.cloudinary.com/dltf2/image/upload/v1564214681/workshops/dl_tf2_2019_07_21/LSTM3-C-line_agtxec.png\" width=450>\n",
        "    </p>   \n",
        "The LSTM does have the ability to remove or add information to the cell state, carefully regulated by structures called gates.\n",
        "\n",
        "Gates are a way to optionally let information through. They are composed out of a sigmoid neural net layer and a pointwise multiplication operation.\n",
        " <p align=\"center\">\n",
        "<img src=\"https://res.cloudinary.com/dltf2/image/upload/v1564214798/workshops/dl_tf2_2019_07_21/LSTM3-gate_fonk6f.png\" height=200>\n",
        "    </p>   \n",
        "    The sigmoid layer outputs numbers between zero and one, describing how much of each component should be let through. A value of zero means “let nothing through,” while a value of one means “let everything through!”\n",
        "\n",
        "An LSTM has three of these gates, to protect and control the cell state.\n",
        "\n",
        "## Step-by-Step LSTM Walk Through\n",
        "The first step in our LSTM is to decide what information we’re going to throw away from the cell state. This decision is made by a sigmoid layer called the “forget gate layer.” It looks at $h_{t-1}$ and $x_t$ , and outputs a number between 0 and 1 for each number in the cell state $C_{t-1}$ . A 1 represents “completely keep this” while a 0 represents “completely get rid of this.”\n",
        "Let’s go back to our example of a language model trying to predict the next word based on all the previous ones. In such a problem, the cell state might include the gender of the present subject, so that the correct pronouns can be used. When we see a new subject, we want to forget the gender of the old subject.\n",
        " <p align=\"center\">\n",
        "<img src=\"https://res.cloudinary.com/dltf2/image/upload/v1564215296/workshops/dl_tf2_2019_07_21/LSTM3-focus-f_orjn8p.png\" width=450>\n",
        "    </p>\n",
        "    The next step is to decide what new information we’re going to store in the cell state. This has two parts. First, a sigmoid layer called the “input gate layer” decides which values we’ll update. Next, a tanh layer creates a vector of new candidate values, $\\tilde{C}_t$ , that could be added to the state. In the next step, we’ll combine these two to create an update to the state.\n",
        "\n",
        "In the example of our language model, we’d want to add the gender of the new subject to the cell state, to replace the old one we’re forgetting.\n",
        " <p align=\"center\">\n",
        "<img src=\"https://res.cloudinary.com/dltf2/image/upload/v1564215851/workshops/dl_tf2_2019_07_21/LSTM3-focus-i_rnfnz4.png\" width=450>\n",
        "    </p>\n",
        "    It’s now time to update the old cell state, $C_{t-1}$ , into the new cell state $C_t$ . The previous steps already decided what to do, we just need to actually do it.\n",
        "\n",
        "We multiply the old state by $f_t$ , forgetting the things we decided to forget earlier. Then we add $i_t*\\tilde{C}_t$ This is the new candidate values, scaled by how much we decided to update each state value.\n",
        "\n",
        "In the case of the language model, this is where we’d actually drop the information about the old subject’s gender and add the new information, as we decided in the previous steps.\n",
        "<p align=\"center\">\n",
        "<img src=\"https://res.cloudinary.com/dltf2/image/upload/v1564223537/workshops/dl_tf2_2019_07_21/LSTM3-focus-C_dsmozo.png\" width=450>\n",
        "    </p>\n",
        "Finally, we need to decide what we’re going to output. This output will be based on our cell state, but will be a filtered version. First, we run a sigmoid layer which decides what parts of the cell state we’re going to output. Then, we put the cell state through tanh (to push the values to be between −1 and 1) and multiply it by the output of the sigmoid gate, so that we only output the parts we decided to.\n",
        "\n",
        "For the language model example, since it just saw a subject, it might want to output information relevant to a verb, in case that’s what is coming next. For example, it might output whether the subject is singular or plural, so that we know what form a verb should be conjugated into if that’s what follows next.\n",
        "<p align=\"center\">\n",
        "<img src=\"https://res.cloudinary.com/dltf2/image/upload/v1564223630/workshops/dl_tf2_2019_07_21/LSTM3-focus-o_svljzu.png\" width=450>\n",
        "    </p>\n"
      ]
    },
    {
      "cell_type": "markdown",
      "metadata": {
        "colab_type": "text",
        "id": "99tGhTKyXCDk"
      },
      "source": [
        "\n",
        "# Implementing The Model"
      ]
    },
    {
      "cell_type": "markdown",
      "metadata": {
        "colab_type": "text",
        "id": "2wp3gHEvXZeF"
      },
      "source": [
        "## Initialization"
      ]
    },
    {
      "cell_type": "markdown",
      "metadata": {
        "colab_type": "text",
        "id": "LsfhyUBEkrWv"
      },
      "source": [
        "### Mounting"
      ]
    },
    {
      "cell_type": "code",
      "metadata": {
        "colab_type": "code",
        "id": "1BxPwj27YIUb",
        "outputId": "00339bad-3e04-4195-b8d9-d9dbb67a5c45",
        "colab": {
          "base_uri": "https://localhost:8080/",
          "height": 122
        }
      },
      "source": [
        "# Mounting Gdrive\n",
        "\n",
        "USE_G_COLAB = True\n",
        "\n",
        "if USE_G_COLAB:\n",
        "    from google.colab import drive\n",
        "\n",
        "    \n",
        "    drive.mount('/content/drive', force_remount=True)"
      ],
      "execution_count": 0,
      "outputs": [
        {
          "output_type": "stream",
          "text": [
            "Go to this URL in a browser: https://accounts.google.com/o/oauth2/auth?client_id=947318989803-6bn6qk8qdgf4n4g3pfee6491hc0brc4i.apps.googleusercontent.com&redirect_uri=urn%3Aietf%3Awg%3Aoauth%3A2.0%3Aoob&scope=email%20https%3A%2F%2Fwww.googleapis.com%2Fauth%2Fdocs.test%20https%3A%2F%2Fwww.googleapis.com%2Fauth%2Fdrive%20https%3A%2F%2Fwww.googleapis.com%2Fauth%2Fdrive.photos.readonly%20https%3A%2F%2Fwww.googleapis.com%2Fauth%2Fpeopleapi.readonly&response_type=code\n",
            "\n",
            "Enter your authorization code:\n",
            "··········\n",
            "Mounted at /content/drive\n"
          ],
          "name": "stdout"
        }
      ]
    },
    {
      "cell_type": "code",
      "metadata": {
        "colab_type": "code",
        "id": "-YLgGJSWq7JV",
        "colab": {}
      },
      "source": [
        "# Project Root\n",
        "\n",
        "root_dir = ''\n",
        "\n",
        "if USE_G_COLAB:\n",
        "    root_dir = '/content/drive/My Drive/workshops/2019_07_21/sessions_01/'"
      ],
      "execution_count": 0,
      "outputs": []
    },
    {
      "cell_type": "markdown",
      "metadata": {
        "colab_type": "text",
        "id": "OlHs0uZjktKv"
      },
      "source": [
        "### Install Requirement"
      ]
    },
    {
      "cell_type": "code",
      "metadata": {
        "colab_type": "code",
        "id": "eK7oq9t5q9jR",
        "outputId": "27084203-93cb-4b02-f2c1-ce0802b95919",
        "colab": {
          "base_uri": "https://localhost:8080/",
          "height": 34
        }
      },
      "source": [
        "!pip install -q tensorflow-gpu==2.0.0-beta1\n",
        "!pip install -qU watermark"
      ],
      "execution_count": 0,
      "outputs": [
        {
          "output_type": "stream",
          "text": [
            "\u001b[?25l\r\u001b[K     |▍                               | 10kB 17.7MB/s eta 0:00:01\r\u001b[K     |▊                               | 20kB 1.7MB/s eta 0:00:01\r\u001b[K     |█▏                              | 30kB 2.6MB/s eta 0:00:01\r\u001b[K     |█▌                              | 40kB 1.7MB/s eta 0:00:01\r\u001b[K     |█▉                              | 51kB 2.1MB/s eta 0:00:01\r\u001b[K     |██▎                             | 61kB 2.5MB/s eta 0:00:01\r\u001b[K     |██▋                             | 71kB 2.9MB/s eta 0:00:01\r\u001b[K     |███                             | 81kB 3.2MB/s eta 0:00:01\r\u001b[K     |███▍                            | 92kB 3.6MB/s eta 0:00:01\r\u001b[K     |███▊                            | 102kB 2.8MB/s eta 0:00:01\r\u001b[K     |████                            | 112kB 2.8MB/s eta 0:00:01\r\u001b[K     |████▌                           | 122kB 2.8MB/s eta 0:00:01\r\u001b[K     |████▉                           | 133kB 2.8MB/s eta 0:00:01\r\u001b[K     |█████▎                          | 143kB 2.8MB/s eta 0:00:01\r\u001b[K     |█████▋                          | 153kB 2.8MB/s eta 0:00:01\r\u001b[K     |██████                          | 163kB 2.8MB/s eta 0:00:01\r\u001b[K     |██████▍                         | 174kB 2.8MB/s eta 0:00:01\r\u001b[K     |██████▊                         | 184kB 2.8MB/s eta 0:00:01\r\u001b[K     |███████                         | 194kB 2.8MB/s eta 0:00:01\r\u001b[K     |███████▌                        | 204kB 2.8MB/s eta 0:00:01\r\u001b[K     |███████▉                        | 215kB 2.8MB/s eta 0:00:01\r\u001b[K     |████████▏                       | 225kB 2.8MB/s eta 0:00:01\r\u001b[K     |████████▋                       | 235kB 2.8MB/s eta 0:00:01\r\u001b[K     |█████████                       | 245kB 2.8MB/s eta 0:00:01\r\u001b[K     |█████████▍                      | 256kB 2.8MB/s eta 0:00:01\r\u001b[K     |█████████▊                      | 266kB 2.8MB/s eta 0:00:01\r\u001b[K     |██████████                      | 276kB 2.8MB/s eta 0:00:01\r\u001b[K     |██████████▌                     | 286kB 2.8MB/s eta 0:00:01\r\u001b[K     |██████████▉                     | 296kB 2.8MB/s eta 0:00:01\r\u001b[K     |███████████▏                    | 307kB 2.8MB/s eta 0:00:01\r\u001b[K     |███████████▋                    | 317kB 2.8MB/s eta 0:00:01\r\u001b[K     |████████████                    | 327kB 2.8MB/s eta 0:00:01\r\u001b[K     |████████████▎                   | 337kB 2.8MB/s eta 0:00:01\r\u001b[K     |████████████▊                   | 348kB 2.8MB/s eta 0:00:01\r\u001b[K     |█████████████                   | 358kB 2.8MB/s eta 0:00:01\r\u001b[K     |█████████████▌                  | 368kB 2.8MB/s eta 0:00:01\r\u001b[K     |█████████████▉                  | 378kB 2.8MB/s eta 0:00:01\r\u001b[K     |██████████████▏                 | 389kB 2.8MB/s eta 0:00:01\r\u001b[K     |██████████████▋                 | 399kB 2.8MB/s eta 0:00:01\r\u001b[K     |███████████████                 | 409kB 2.8MB/s eta 0:00:01\r\u001b[K     |███████████████▎                | 419kB 2.8MB/s eta 0:00:01\r\u001b[K     |███████████████▊                | 430kB 2.8MB/s eta 0:00:01\r\u001b[K     |████████████████                | 440kB 2.8MB/s eta 0:00:01\r\u001b[K     |████████████████▍               | 450kB 2.8MB/s eta 0:00:01\r\u001b[K     |████████████████▉               | 460kB 2.8MB/s eta 0:00:01\r\u001b[K     |█████████████████▏              | 471kB 2.8MB/s eta 0:00:01\r\u001b[K     |█████████████████▋              | 481kB 2.8MB/s eta 0:00:01\r\u001b[K     |██████████████████              | 491kB 2.8MB/s eta 0:00:01\r\u001b[K     |██████████████████▎             | 501kB 2.8MB/s eta 0:00:01\r\u001b[K     |██████████████████▊             | 512kB 2.8MB/s eta 0:00:01\r\u001b[K     |███████████████████             | 522kB 2.8MB/s eta 0:00:01\r\u001b[K     |███████████████████▍            | 532kB 2.8MB/s eta 0:00:01\r\u001b[K     |███████████████████▉            | 542kB 2.8MB/s eta 0:00:01\r\u001b[K     |████████████████████▏           | 552kB 2.8MB/s eta 0:00:01\r\u001b[K     |████████████████████▌           | 563kB 2.8MB/s eta 0:00:01\r\u001b[K     |█████████████████████           | 573kB 2.8MB/s eta 0:00:01\r\u001b[K     |█████████████████████▎          | 583kB 2.8MB/s eta 0:00:01\r\u001b[K     |█████████████████████▋          | 593kB 2.8MB/s eta 0:00:01\r\u001b[K     |██████████████████████          | 604kB 2.8MB/s eta 0:00:01\r\u001b[K     |██████████████████████▍         | 614kB 2.8MB/s eta 0:00:01\r\u001b[K     |██████████████████████▉         | 624kB 2.8MB/s eta 0:00:01\r\u001b[K     |███████████████████████▏        | 634kB 2.8MB/s eta 0:00:01\r\u001b[K     |███████████████████████▌        | 645kB 2.8MB/s eta 0:00:01\r\u001b[K     |████████████████████████        | 655kB 2.8MB/s eta 0:00:01\r\u001b[K     |████████████████████████▎       | 665kB 2.8MB/s eta 0:00:01\r\u001b[K     |████████████████████████▋       | 675kB 2.8MB/s eta 0:00:01\r\u001b[K     |█████████████████████████       | 686kB 2.8MB/s eta 0:00:01\r\u001b[K     |█████████████████████████▍      | 696kB 2.8MB/s eta 0:00:01\r\u001b[K     |█████████████████████████▊      | 706kB 2.8MB/s eta 0:00:01\r\u001b[K     |██████████████████████████▏     | 716kB 2.8MB/s eta 0:00:01\r\u001b[K     |██████████████████████████▌     | 727kB 2.8MB/s eta 0:00:01\r\u001b[K     |███████████████████████████     | 737kB 2.8MB/s eta 0:00:01\r\u001b[K     |███████████████████████████▎    | 747kB 2.8MB/s eta 0:00:01\r\u001b[K     |███████████████████████████▋    | 757kB 2.8MB/s eta 0:00:01\r\u001b[K     |████████████████████████████    | 768kB 2.8MB/s eta 0:00:01\r\u001b[K     |████████████████████████████▍   | 778kB 2.8MB/s eta 0:00:01\r\u001b[K     |████████████████████████████▊   | 788kB 2.8MB/s eta 0:00:01\r\u001b[K     |█████████████████████████████▏  | 798kB 2.8MB/s eta 0:00:01\r\u001b[K     |█████████████████████████████▌  | 808kB 2.8MB/s eta 0:00:01\r\u001b[K     |█████████████████████████████▉  | 819kB 2.8MB/s eta 0:00:01\r\u001b[K     |██████████████████████████████▎ | 829kB 2.8MB/s eta 0:00:01\r\u001b[K     |██████████████████████████████▋ | 839kB 2.8MB/s eta 0:00:01\r\u001b[K     |███████████████████████████████ | 849kB 2.8MB/s eta 0:00:01\r\u001b[K     |███████████████████████████████▍| 860kB 2.8MB/s eta 0:00:01\r\u001b[K     |███████████████████████████████▊| 870kB 2.8MB/s eta 0:00:01\r\u001b[K     |████████████████████████████████| 880kB 2.8MB/s \n",
            "\u001b[?25h"
          ],
          "name": "stdout"
        }
      ]
    },
    {
      "cell_type": "markdown",
      "metadata": {
        "colab_type": "text",
        "id": "V9ux4CYMk0Ay"
      },
      "source": [
        "### Custom Matplotlib Style"
      ]
    },
    {
      "cell_type": "code",
      "metadata": {
        "colab_type": "code",
        "id": "rh4MSwC6toZD",
        "colab": {}
      },
      "source": [
        "mpl_style = \"https://gist.githubusercontent.com/m3hrdadfi/af8aca01094afb7d3e5b46de9ad8d509/raw/871ec5d721a3b438c3c896718ea4aafc91ea9744/gadfly.mplstyle\"\n",
        "\n",
        "!wget -q $mpl_style -O /root/.config/matplotlib/matplotlibrc"
      ],
      "execution_count": 0,
      "outputs": []
    },
    {
      "cell_type": "markdown",
      "metadata": {
        "colab_type": "text",
        "id": "3sfTb8Vfk4zU"
      },
      "source": [
        "### General Paramas\n",
        "\n",
        "A random seed is a number used to initialize a pseudorandom number generator. For a seed to be used in a pseudorandom number generator, it does not need to be random"
      ]
    },
    {
      "cell_type": "code",
      "metadata": {
        "colab_type": "code",
        "id": "_yM29O0kuLHd",
        "colab": {}
      },
      "source": [
        "RANDOM_SEED = 141"
      ],
      "execution_count": 0,
      "outputs": []
    },
    {
      "cell_type": "markdown",
      "metadata": {
        "colab_type": "text",
        "id": "2VMjya4XlEEc"
      },
      "source": [
        "### Import requried packages"
      ]
    },
    {
      "cell_type": "code",
      "metadata": {
        "colab_type": "code",
        "id": "YsoYus6YlFBQ",
        "colab": {}
      },
      "source": [
        "import tensorflow as tf\n",
        "\n",
        "import requests\n",
        "import numpy as np\n",
        "import pandas as pd\n",
        "\n",
        "from sklearn.model_selection import train_test_split\n",
        "from sklearn.preprocessing import StandardScaler\n",
        "from sklearn.metrics import classification_report, confusion_matrix\n",
        "from sklearn.utils import shuffle\n",
        "\n",
        "import matplotlib as mpl\n",
        "import matplotlib.pyplot as plt\n",
        "\n",
        "import cv2\n",
        "\n",
        "import random\n",
        "import sys\n",
        "import io\n",
        "import re\n",
        "import time\n",
        "from datetime import date, datetime, time\n",
        "import os\n",
        "import struct\n",
        "import itertools\n",
        "from tqdm import tqdm\n",
        "\n",
        "from pprint import pprint\n",
        "\n",
        "\n",
        "%matplotlib inline\n",
        "mpl.rc_file(mpl.matplotlib_fname())"
      ],
      "execution_count": 0,
      "outputs": []
    },
    {
      "cell_type": "markdown",
      "metadata": {
        "colab_type": "text",
        "id": "SN1S_EEGXbj8"
      },
      "source": [
        "# Load the data"
      ]
    },
    {
      "cell_type": "code",
      "metadata": {
        "colab_type": "code",
        "id": "uIbpGWtDXgje",
        "outputId": "b2752605-61a1-4afa-efd8-13ea22c2e410",
        "colab": {
          "base_uri": "https://localhost:8080/",
          "height": 530
        }
      },
      "source": [
        "!wget https://www.dropbox.com/s/o8qcunpgw88of4r/Sentiment.zip\n",
        "!unzip Sentiment.zip\n",
        "!ls"
      ],
      "execution_count": 0,
      "outputs": [
        {
          "output_type": "stream",
          "text": [
            "--2019-07-28 05:28:44--  https://www.dropbox.com/s/o8qcunpgw88of4r/Sentiment.zip\n",
            "Resolving www.dropbox.com (www.dropbox.com)... 162.125.82.1, 2620:100:6032:1::a27d:5201\n",
            "Connecting to www.dropbox.com (www.dropbox.com)|162.125.82.1|:443... connected.\n",
            "HTTP request sent, awaiting response... 301 Moved Permanently\n",
            "Location: /s/raw/o8qcunpgw88of4r/Sentiment.zip [following]\n",
            "--2019-07-28 05:28:45--  https://www.dropbox.com/s/raw/o8qcunpgw88of4r/Sentiment.zip\n",
            "Reusing existing connection to www.dropbox.com:443.\n",
            "HTTP request sent, awaiting response... 302 Found\n",
            "Location: https://uc4549fe2d649d3d15a7daea9812.dl.dropboxusercontent.com/cd/0/inline/AliKrJi2ynPJvYsYRpWN0LwHpid0d6NC-CcJoUMI81OVdMVEEYW-adGXhuq5EDVBqKbTLDo63G5-CQswlUcgnsdtYLxSW-jCw5WAFf05b2sKuw/file# [following]\n",
            "--2019-07-28 05:28:45--  https://uc4549fe2d649d3d15a7daea9812.dl.dropboxusercontent.com/cd/0/inline/AliKrJi2ynPJvYsYRpWN0LwHpid0d6NC-CcJoUMI81OVdMVEEYW-adGXhuq5EDVBqKbTLDo63G5-CQswlUcgnsdtYLxSW-jCw5WAFf05b2sKuw/file\n",
            "Resolving uc4549fe2d649d3d15a7daea9812.dl.dropboxusercontent.com (uc4549fe2d649d3d15a7daea9812.dl.dropboxusercontent.com)... 162.125.82.6, 2620:100:6032:6::a27d:5206\n",
            "Connecting to uc4549fe2d649d3d15a7daea9812.dl.dropboxusercontent.com (uc4549fe2d649d3d15a7daea9812.dl.dropboxusercontent.com)|162.125.82.6|:443... connected.\n",
            "HTTP request sent, awaiting response... 302 FOUND\n",
            "Location: /cd/0/inline2/AlhnXMq9Ti1dmugudYnLg2i6BcVJxXJFBJfkn2vhmGc2YeZ67r3TdNRQOaS_29I2WYDgwGkLJ6FBAo78rJoGMyFmeNfrC7az46sop3TbwhGrQYL7fI7CokhxRSF671XbnToMQ_sFTRv02ViKP4ISFmbnIbGdES3ypsPovoZvD5jXycnYA_qU16O0s7Pi9FILvrW2-Y6en4R9y112W7wX5siJki2Rd9y3qLRo-u6NYMifeGzkiPbWpKu-4gs-jDOceX_S82g-AYIMCe3KtS9d0d2b-K6yqknRGIPJI60v-dYONLuwG2dvzwQjCOmPDF3ckT3gyfT1iyjLtnCsgavIb9IS/file [following]\n",
            "--2019-07-28 05:28:46--  https://uc4549fe2d649d3d15a7daea9812.dl.dropboxusercontent.com/cd/0/inline2/AlhnXMq9Ti1dmugudYnLg2i6BcVJxXJFBJfkn2vhmGc2YeZ67r3TdNRQOaS_29I2WYDgwGkLJ6FBAo78rJoGMyFmeNfrC7az46sop3TbwhGrQYL7fI7CokhxRSF671XbnToMQ_sFTRv02ViKP4ISFmbnIbGdES3ypsPovoZvD5jXycnYA_qU16O0s7Pi9FILvrW2-Y6en4R9y112W7wX5siJki2Rd9y3qLRo-u6NYMifeGzkiPbWpKu-4gs-jDOceX_S82g-AYIMCe3KtS9d0d2b-K6yqknRGIPJI60v-dYONLuwG2dvzwQjCOmPDF3ckT3gyfT1iyjLtnCsgavIb9IS/file\n",
            "Reusing existing connection to uc4549fe2d649d3d15a7daea9812.dl.dropboxusercontent.com:443.\n",
            "HTTP request sent, awaiting response... 200 OK\n",
            "Length: 1136822 (1.1M) [application/zip]\n",
            "Saving to: ‘Sentiment.zip’\n",
            "\n",
            "Sentiment.zip       100%[===================>]   1.08M  --.-KB/s    in 0.08s   \n",
            "\n",
            "2019-07-28 05:28:46 (13.7 MB/s) - ‘Sentiment.zip’ saved [1136822/1136822]\n",
            "\n",
            "Archive:  Sentiment.zip\n",
            "  inflating: sentiment.csv           \n",
            "   creating: __MACOSX/\n",
            "  inflating: __MACOSX/._sentiment.csv  \n",
            "drive  __MACOSX  sample_data  sentiment.csv  Sentiment.zip\n"
          ],
          "name": "stdout"
        }
      ]
    },
    {
      "cell_type": "markdown",
      "metadata": {
        "id": "CcIgvICGDsyv",
        "colab_type": "text"
      },
      "source": [
        "# Preprocessing"
      ]
    },
    {
      "cell_type": "markdown",
      "metadata": {
        "id": "7fvXsu4jEOpJ",
        "colab_type": "text"
      },
      "source": [
        "# Preparing"
      ]
    },
    {
      "cell_type": "markdown",
      "metadata": {
        "id": "ak7R2KCiEj93",
        "colab_type": "text"
      },
      "source": [
        "# Model"
      ]
    },
    {
      "cell_type": "markdown",
      "metadata": {
        "id": "S7vsgDcMIUpN",
        "colab_type": "text"
      },
      "source": [
        "# Resources\n",
        "\n",
        "- [LSTM Official Paper](https://www.bioinf.jku.at/publications/older/2604.pdf)\n",
        "- [Understanding LSTMs](http://colah.github.io/posts/2015-08-Understanding-LSTMs/)\n",
        "\n",
        "- [Sequence Modeling](https://www.deeplearningbook.org/slides/10_rnn.pdf)\n",
        "- [RNN Effectiveness](http://karpathy.github.io/2015/05/21/rnn-effectiveness/)"
      ]
    },
    {
      "cell_type": "code",
      "metadata": {
        "id": "w9JzEgEXHYmh",
        "colab_type": "code",
        "colab": {}
      },
      "source": [
        ""
      ],
      "execution_count": 0,
      "outputs": []
    }
  ]
}