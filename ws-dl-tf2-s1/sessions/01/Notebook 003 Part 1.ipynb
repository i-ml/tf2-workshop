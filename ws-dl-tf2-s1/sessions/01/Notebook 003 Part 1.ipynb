{
 "cells": [
  {
   "cell_type": "markdown",
   "metadata": {
    "colab_type": "text",
    "id": "8JwRonilYEbP"
   },
   "source": [
    "<img alt=\"Platforms\" height=\"45px\" src=\"https://res.cloudinary.com/dltf2/image/upload/v1563482460/workshops/dl_tf2_2019_07_21/logo_chi03g.png\" align=\"left\" hspace=\"10px\" vspace=\"0px\">\n",
    "\n",
    "\n",
    "# Welcome to Session 01"
   ]
  },
  {
   "cell_type": "markdown",
   "metadata": {
    "colab_type": "text",
    "id": "PGQl8RPmoYRA"
   },
   "source": [
    "This is a [Google Colaboratory](https://colab.research.google.com/notebooks/welcome.ipynb) notebook file. Python programs are run directly in the browser—a great way to learn and use TensorFlow. To follow this tutorial, run the notebook in Google Colab by clicking the button at the top of this page.\n",
    "\n",
    "1. In Colab, connect to a Python runtime: At the top-right of the menu bar, select *CONNECT*.\n",
    "2. Run all the notebook code cells: Select *Runtime* > *Run all*."
   ]
  },
  {
   "cell_type": "code",
   "execution_count": 0,
   "metadata": {
    "colab": {
     "base_uri": "https://localhost:8080/",
     "height": 34
    },
    "colab_type": "code",
    "id": "1BxPwj27YIUb",
    "outputId": "2fc67200-ce44-4d27-81ce-7b8d62d779e0"
   },
   "outputs": [
    {
     "name": "stdout",
     "output_type": "stream",
     "text": [
      "Mounted at /content/drive\n"
     ]
    }
   ],
   "source": [
    "#@title ## Mounting Gdrive\n",
    "\n",
    "USE_G_COLAB = True #@param {type:\"boolean\"}\n",
    "\n",
    "if USE_G_COLAB:\n",
    "    from google.colab import drive\n",
    "\n",
    "    \n",
    "    drive.mount('/content/drive', force_remount=True)"
   ]
  },
  {
   "cell_type": "code",
   "execution_count": 0,
   "metadata": {
    "colab": {},
    "colab_type": "code",
    "id": "-YLgGJSWq7JV"
   },
   "outputs": [],
   "source": [
    "#@title ## Project Root\n",
    "\n",
    "root_dir = ''\n",
    "\n",
    "if USE_G_COLAB:\n",
    "    root_dir = '/content/drive/My Drive/dl_app/' #@param {type:\"string\"}"
   ]
  },
  {
   "cell_type": "code",
   "execution_count": 0,
   "metadata": {
    "colab": {
     "base_uri": "https://localhost:8080/",
     "height": 71
    },
    "colab_type": "code",
    "id": "P-D7AXfwry1U",
    "outputId": "3d597752-9a9a-4d12-bede-df207ce78f7e"
   },
   "outputs": [
    {
     "name": "stdout",
     "output_type": "stream",
     "text": [
      "ls: cannot access '/content/drive/My': No such file or directory\n",
      "ls: cannot access 'Drive/workshops/2019_07_21/sessions_01/': No such file or directory\n"
     ]
    }
   ],
   "source": [
    "!ls $root_dir"
   ]
  },
  {
   "cell_type": "code",
   "execution_count": 0,
   "metadata": {
    "colab": {},
    "colab_type": "code",
    "id": "eK7oq9t5q9jR"
   },
   "outputs": [],
   "source": [
    "#@title ## Installing requried packages\n",
    "\n",
    "#@markdown ---\n",
    "#@markdown - [TensorFlow 2.0-beta](https://www.tensorflow.org/install/gpu)\n",
    "#@markdown - [Watermark](https://github.com/rasbt/watermark)\n",
    "!pip install -q tensorflow-gpu==2.0.0-beta1\n",
    "!pip install -qU watermark"
   ]
  },
  {
   "cell_type": "code",
   "execution_count": 0,
   "metadata": {
    "colab": {},
    "colab_type": "code",
    "id": "rh4MSwC6toZD"
   },
   "outputs": [],
   "source": [
    "#@title ## Custom Matplotlib Style\n",
    "mpl_style = \"https://gist.githubusercontent.com/m3hrdadfi/af8aca01094afb7d3e5b46de9ad8d509/raw/871ec5d721a3b438c3c896718ea4aafc91ea9744/gadfly.mplstyle\" #@param {type:\"string\"}\n",
    "\n",
    "!wget -q $mpl_style -O /root/.config/matplotlib/matplotlibrc"
   ]
  },
  {
   "cell_type": "code",
   "execution_count": 0,
   "metadata": {
    "colab": {},
    "colab_type": "code",
    "id": "_yM29O0kuLHd"
   },
   "outputs": [],
   "source": [
    "#@title ## General Paramas\n",
    "\n",
    "#@markdown > A random seed is a number used to initialize a pseudorandom number generator. For a seed to be used in a pseudorandom number generator, it does not need to be random\n",
    "RANDOM_SEED = 141 #@param {type:\"integer\"}"
   ]
  },
  {
   "cell_type": "markdown",
   "metadata": {
    "colab_type": "text",
    "id": "X5c4YMEgYIzr"
   },
   "source": [
    "# Overview"
   ]
  },
  {
   "cell_type": "markdown",
   "metadata": {
    "colab_type": "text",
    "id": "yyBX3DmPcfU3"
   },
   "source": [
    "<img src=\"https://raw.githubusercontent.com/GokuMohandas/practicalAI/master/images/mlp.png\" width=450>\n",
    "\n",
    "$z_2 = XW_1$\n",
    "\n",
    "$a_2 = f(z_2)$\n",
    "\n",
    "$z_3 = a_2W_2$\n",
    "\n",
    "$\\hat{y} = softmax(z_3)$ # classification\n",
    "\n",
    "*where*:\n",
    "* $X$ = inputs | $\\in \\mathbb{R}^{NXD}$ ($D$ is the number of features)\n",
    "* $W_1$ = 1st layer weights | $\\in \\mathbb{R}^{DXH}$ ($H$ is the number of hidden units in layer 1)\n",
    "* $z_2$ = outputs from first layer's weights  $\\in \\mathbb{R}^{NXH}$\n",
    "* $f$ = non-linear activation function\n",
    "* $a_2$ = activation applied first layer's outputs | $\\in \\mathbb{R}^{NXH}$\n",
    "* $W_2$ = 2nd layer weights | $\\in \\mathbb{R}^{HXC}$ ($C$ is the number of classes)\n",
    "* $\\hat{y}$ = prediction | $\\in \\mathbb{R}^{NXC}$ ($N$ is the number of samples)\n",
    "\n",
    "This is a simple two-layer MLP. \n",
    "\n",
    "* **Objective:**  Predict the probability of class $y$ given the inputs $X$. Non-linearity is introduced to model the complex, non-linear data.\n",
    "* **Advantages:**\n",
    "  * Can model non-linear patterns in the data really well.\n",
    "* **Disadvantages:**\n",
    "  * Overfits easily.\n",
    "  * Computationally intensive as network increases in size.\n",
    "  * Not easily interpretable.\n",
    "* **Miscellaneous:** Future neural network architectures that we'll see use the MLP as a modular unit for feed forward operations (affine transformation (XW) followed by a non-linear operation).\n",
    "\n",
    "## 7 Common Nonlinear Activation Functions  and How to Choose an Activation Function\n",
    "\n",
    "#### SIGMOID / LOGISTIC\n",
    "\n",
    "*ADVANTAGES*\n",
    "- Smooth gradient, preventing “jumps” in output values.\n",
    "- Output values bound between 0 and 1, normalizing the output of each neuron.\n",
    "- Clear predictions—For X above 2 or below -2, tends to bring the Y value (the prediction) to the edge of the curve, very close to 1 or 0. This enables clear predictions.\n",
    "\n",
    "*DISADVANTAGES*\n",
    "- Vanishing gradient—for very high or very low values of X, there is almost no change to the prediction, causing a vanishing gradient problem. This can result in the network refusing to learn further, or being too slow to reach an accurate prediction.\n",
    "- Outputs not zero centered.\n",
    "- Computationally expensive\n",
    "<p align=\"center\">\n",
    "<img src=\"https://res.cloudinary.com/dltf2/image/upload/v1563629033/workshops/dl_tf2_2019_07_21/sigmoidlogisticgraph_kxb3p0.png\" width=450>\n",
    "    </p>\n",
    "\n",
    "#### TANH / HYPERBOLIC TANGENT\n",
    "\n",
    "*ADVANTAGES*\n",
    "- Zero centered—making it easier to model inputs that have strongly negative, neutral, and strongly positive values.\n",
    "- Otherwise like the Sigmoid function.\n",
    "\n",
    "*DISADVANTAGES*\n",
    "- Like the Sigmoid function\n",
    "<p align=\"center\">\n",
    "<img src=\"https://res.cloudinary.com/dltf2/image/upload/v1563629444/workshops/dl_tf2_2019_07_21/tanhhyperbolic_hur6j6.png\" width=450>\n",
    "    </p>\n",
    "\n",
    "#### RELU (RECTIFIED LINEAR UNIT)\n",
    "\n",
    "*ADVANTAGES*\n",
    "- Computationally efficient—allows the network to converge very quickly\n",
    "- Non-linear—although it looks like a linear function, ReLU has a derivative function and allows for backpropagation.\n",
    "\n",
    "*DISADVANTAGES*\n",
    "- The Dying ReLU problem—when inputs approach zero, or are negative, the gradient of the function becomes zero, the network cannot perform backpropagation and cannot learn.\n",
    "- Like the Sigmoid function\n",
    "<p align=\"center\">\n",
    "<img src=\"https://res.cloudinary.com/dltf2/image/upload/v1563649988/workshops/dl_tf2_2019_07_21/relu_hqhcw5.png\" width=450>\n",
    "    </p>\n",
    "    \n",
    "#### LEAKY RELU\n",
    "\n",
    "*ADVANTAGES*\n",
    "- Prevents dying ReLU problem—this variation of ReLU has a small positive slope in the negative area, so it does enable backpropagation, even for negative input values\n",
    "Otherwise like ReLU\n",
    "\n",
    "*DISADVANTAGES*\n",
    "Results not consistent—leaky ReLU does not provide consistent predictions for negative input values.\n",
    "<p align=\"center\">\n",
    "<img src=\"https://res.cloudinary.com/dltf2/image/upload/v1563650740/workshops/dl_tf2_2019_07_21/leakyrelu_qvzsgx.png\" width=450>\n",
    "    </p>\n",
    "\n",
    "#### PARAMETRIC RELU\n",
    "\n",
    "*ADVANTAGES*\n",
    "- Allows the negative slope to be learned—unlike leaky ReLU, this function provides the slope of the negative part of the function as an argument. It is, therefore, possible to perform backpropagation and learn the most appropriate value of α.\n",
    "Otherwise like ReLU\n",
    "\n",
    "*DISADVANTAGES*\n",
    "May perform differently for different problems.\n",
    "\n",
    "<p align=\"center\">\n",
    "$ f(x) = max( \\alpha x,x)$\n",
    "    </p>\n",
    "  \n",
    "#### SOFTMAX\n",
    "\n",
    "*ADVANTAGES*\n",
    "- Able to handle multiple classes only one class in other activation functions—normalizes the outputs for each class between 0 and 1, and divides by their sum, giving the probability of the input value being in a specific class.\n",
    "- Useful for output neurons—typically Softmax is used only for the output layer, for neural networks that need to classify inputs into multiple categories.\n",
    "\n",
    "<p align=\"center\">\n",
    "$ \\frac{ e^{ z_{j} } }{   \\sum_{k=1}^c e^{ z_{k} } } $\n",
    "    </p>\n",
    "    \n",
    "#### SWISH\n",
    "\n",
    "Swish is a new, self-gated activation function discovered by researchers at Google. According to their paper, it performs better than ReLU with a similar level of computational efficiency. In experiments on ImageNet with identical models running ReLU and Swish, the new function achieved top -1 classification accuracy 0.6-0.9% higher.\n",
    "<p align=\"center\">\n",
    "<img src=\"https://res.cloudinary.com/dltf2/image/upload/v1563651859/workshops/dl_tf2_2019_07_21/swish_a7tjrd.png\" width=450>\n",
    "    </p>"
   ]
  },
  {
   "cell_type": "markdown",
   "metadata": {
    "colab_type": "text",
    "id": "8-EgdUMaYNbe"
   },
   "source": [
    "# Training"
   ]
  },
  {
   "cell_type": "markdown",
   "metadata": {
    "colab_type": "text",
    "id": "HbwJHUyPdyiE"
   },
   "source": [
    "*Steps*:\n",
    "\n",
    "1. Randomly initialize the model's weights $W$ (we'll cover more effective initalization strategies in future lessons).\n",
    "2. Feed inputs $X$ into the model to do the forward pass and receive the probabilities.\n",
    "3. Compare the predictions $\\hat{y}$ (ex.  [0.3, 0.3, 0.4]]) with the actual target values $y$ (ex. class 2 would look like [0, 0, 1]) with the objective (cost) function to determine loss $J$. A common objective function for classification tasks is cross-entropy loss. \n",
    "  * $z_2 = XW_1$\n",
    "  * $a_2 = max(0, z_2)$ # ReLU activation\n",
    "  * $z_3 = a_2W_2$\n",
    "  * $\\hat{y} = softmax(z_3)$\n",
    "  * $J(\\theta) = - \\sum_i y_i ln (\\hat{y_i}) $\n",
    "4. Calculate the gradient of loss $J(\\theta)$ w.r.t to the model weights. \n",
    "   * $ \\frac{\\partial{J}}{\\partial{W_{2j}}} = a_2\\hat{y}, \\frac{\\partial{J}}{\\partial{W_{2y}}} = a_2(\\hat{y}-1) $\n",
    "   * $ \\frac{\\partial{J}}{\\partial{W_1}} = \\frac{\\partial{J}}{\\partial{\\hat{y}}} \\frac{\\partial{\\hat{y}}}{\\partial{a_2}}  \\frac{\\partial{a_2}}{\\partial{z_2}}  \\frac{\\partial{z_2}}{\\partial{W_1}}  = W_2(\\partial{scores})(\\partial{ReLU})X $\n",
    "   \n",
    "5. Apply backpropagation to update the weights $W$ using gradient descent. The updates will penalize the probabiltiy for the incorrect classes (j) and encourage a higher probability for the correct class (y).\n",
    "  * $W_i = W_i - \\alpha\\frac{\\partial{J}}{\\partial{W_i}}$\n",
    "6. Repeat steps 2 - 4 until model performs well."
   ]
  },
  {
   "cell_type": "markdown",
   "metadata": {
    "colab_type": "text",
    "id": "_Rn8c8-ZYy8a"
   },
   "source": [
    "# Terminologies"
   ]
  },
  {
   "cell_type": "markdown",
   "metadata": {
    "colab_type": "text",
    "id": "ZpxOv3Gyfnve"
   },
   "source": [
    "## Neural Network Learning as Optimization\n",
    "A deep learning neural network learns to map a set of inputs to a set of outputs from training data.\n",
    "\n",
    "We cannot calculate the perfect weights for a neural network; there are too many unknowns. Instead, the problem of learning is cast as a search or optimization problem and an algorithm is used to navigate the space of possible sets of weights the model may use in order to make good or good enough predictions.\n",
    "\n",
    "Typically, a neural network model is trained using the stochastic gradient descent optimization algorithm and weights are updated using the backpropagation of error algorithm.\n",
    "\n",
    "The “gradient” in gradient descent refers to an error gradient. The model with a given set of weights is used to make predictions and the error for those predictions is calculated.\n",
    "\n",
    "The gradient descent algorithm seeks to change the weights so that the next evaluation reduces the error, meaning the optimization algorithm is navigating down the gradient (or slope) of error.\n",
    "\n",
    "Now that we know that training neural nets solves an optimization problem, we can look at how the error of a given set of weights is calculated.\n",
    "\n",
    "## What Is a Loss Function and Loss?\n",
    "\n",
    "In the context of an optimization algorithm, the function used to evaluate a candidate solution (i.e. a set of weights) is referred to as the objective function.\n",
    "\n",
    "We may seek to maximize or minimize the objective function, meaning that we are searching for a candidate solution that has the highest or lowest score respectively.\n",
    "\n",
    "Typically, with neural networks, we seek to minimize the error. As such, the objective function is often referred to as a cost function or a loss function and the value calculated by the loss function is referred to as simply “loss.”\n",
    "The cost or loss function has an important job in that it must faithfully distill all aspects of the model down into a single number in such a way that improvements in that number are a sign of a better model.\n",
    "We will review best practice or default values for each problem type with regard to the output layer and loss function.\n",
    "\n",
    "## Regression Problem\n",
    "\n",
    "A problem where you predict a real-value quantity.\n",
    "\n",
    "Output Layer Configuration: One node with a linear activation unit.\n",
    "Loss Function: Mean Squared Error (MSE).\n",
    "\n",
    "## Binary Classification Problem\n",
    "\n",
    "A problem where you classify an example as belonging to one of two classes.\n",
    "\n",
    "The problem is framed as predicting the likelihood of an example belonging to class one, e.g. the class that you assign the integer value 1, whereas the other class is assigned the value 0.\n",
    "\n",
    "Output Layer Configuration: One node with a sigmoid activation unit.\n",
    "Loss Function: Cross-Entropy, also referred to as Logarithmic loss.\n",
    "\n",
    "## Multi-Class Classification Problem\n",
    "\n",
    "A problem where you classify an example as belonging to one of more than two classes.\n",
    "\n",
    "The problem is framed as predicting the likelihood of an example belonging to each class.\n",
    "\n",
    "Output Layer Configuration: One node for each class using the softmax activation function.\n",
    "Loss Function: Cross-Entropy, also referred to as Logarithmic loss.\n",
    "\n",
    "## How to Implement Loss Functions\n",
    "\n",
    "In order to make the loss functions concrete, this section explains how each of the main types of loss function works.\n",
    "\n",
    "## Mean Squared Error Loss\n",
    "\n",
    "Mean Squared Error loss, or MSE for short, is calculated as the average of the squared differences between the predicted and actual values.\n",
    "\n",
    "The result is always positive regardless of the sign of the predicted and actual values and a perfect value is 0.0. The loss value is minimized, although it can be used in a maximization optimization process by making the score negative.\n",
    "\n",
    "## Cross-Entropy Loss (or Log Loss)\n",
    "\n",
    "Cross-entropy loss is often simply referred to as “cross-entropy,” “logarithmic loss,” “logistic loss,” or “log loss” for short.\n",
    "\n",
    "Each predicted probability is compared to the actual class output value (0 or 1) and a score is calculated that penalizes the probability based on the distance from the expected value. The penalty is logarithmic, offering a small score for small differences (0.1 or 0.2) and enormous score for a large difference (0.9 or 1.0).\n",
    "\n",
    "Cross-entropy loss is minimized, where smaller values represent a better model than larger values. A model that predicts perfect probabilities has a cross entropy or log loss of 0.0.\n",
    "\n",
    "Cross-entropy for a binary or two class prediction problem is actually calculated as the average cross entropy across all examples.\n",
    "\n",
    "## An overview of gradient descent optimization algorithms\n",
    "\n",
    "Gradient descent is one of the most popular algorithms to perform optimization and by far the most common way to optimize neural networks. At the same time, every state-of-the-art Deep Learning library contains implementations of various algorithms to optimize gradient descent. These algorithms, however, are often used as black-box optimizers, as practical explanations of their strengths and weaknesses are hard to come by.\n",
    "\n",
    "## Gradient descent variants\n",
    "\n",
    "There are three variants of gradient descent, which differ in how much data we use to compute the gradient of the objective function. Depending on the amount of data, we make a trade-off between the accuracy of the parameter update and the time it takes to perform an update.\n",
    "\n",
    "## Batch gradient descent\n",
    "\n",
    "Vanilla gradient descent, aka batch gradient descent, computes the gradient of the cost function w.r.t. to the parameters θ for the entire training dataset:\n",
    "<p align=\"center\">\n",
    "$ \\theta =  \\theta - \\eta    \\nabla _{ \\theta } J( \\theta )$\n",
    "    </p>\n",
    "    We then update our parameters in the opposite direction of the gradients with the learning rate determining how big of an update we perform. Batch gradient descent is guaranteed to converge to the global minimum for convex error surfaces and to a local minimum for non-convex surfaces.\n",
    "     As we need to calculate the gradients for the whole dataset to perform just one update, batch gradient descent can be very slow and is intractable for datasets that don't fit in memory. Batch gradient descent also doesn't allow us to update our model online, i.e. with new examples on-the-fly.\n",
    "     \n",
    "## Stochastic gradient descent\n",
    "\n",
    "Stochastic gradient descent (SGD) in contrast performs a parameter update for each training example x(i) and label y(i):\n",
    "<p align=\"center\">\n",
    "$\\theta =  \\theta - \\eta    \\nabla _{ \\theta } J( \\theta;  x^{i};  y^{i})$\n",
    " </p>\n",
    " Batch gradient descent performs redundant computations for large datasets, as it recomputes gradients for similar examples before each parameter update. SGD does away with this redundancy by performing one update at a time. It is therefore usually much faster and can also be used to learn online.\n",
    " While batch gradient descent converges to the minimum of the basin the parameters are placed in, SGD's fluctuation, on the one hand, enables it to jump to new and potentially better local minima. On the other hand, this ultimately complicates convergence to the exact minimum, as SGD will keep overshooting. However, it has been shown that when we slowly decrease the learning rate, SGD shows the same convergence behaviour as batch gradient descent, almost certainly converging to a local or the global minimum for non-convex and convex optimization respectively.\n",
    " \n",
    "## Mini-batch gradient descent\n",
    "\n",
    "Mini-batch gradient descent finally takes the best of both worlds and performs an update for every mini-batch of n training examples:\n",
    "<p align=\"center\">\n",
    "$\\theta =  \\theta - \\eta    \\nabla _{ \\theta } J( \\theta;  x^{i:i+n};  y^{i:i+n})$\n",
    "    </p>\n",
    "    \n",
    "This way, it a) reduces the variance of the parameter updates, which can lead to more stable convergence; and b) can make use of highly optimized matrix optimizations common to state-of-the-art deep learning libraries that make computing the gradient w.r.t. a mini-batch very efficient. Common mini-batch sizes range between 50 and 256, but can vary for different applications. Mini-batch gradient descent is typically the algorithm of choice when training a neural network and the term SGD usually is employed also when mini-batches are used. \n",
    "\n",
    "## Gradient descent optimization algorithms\n",
    "- Momentum\n",
    "- Nesterov accelerated gradient (NAG)\n",
    "- Adagrad\n",
    "- Adadelta\n",
    "- RMSprop\n",
    "- Adam\n",
    "- AdaMax\n",
    "- Nadam\n",
    "- AMSGrad\n",
    "\n",
    "<p align=\"center\">\n",
    "<img src=\"https://res.cloudinary.com/dltf2/image/upload/v1563667392/workshops/dl_tf2_2019_07_21/contours_evaluation_optimizers_mygk9z.gif\" width=450>\n",
    "    <br/>\n",
    "  \n",
    "<img src=\"https://res.cloudinary.com/dltf2/image/upload/v1563667512/workshops/dl_tf2_2019_07_21/saddle_point_evaluation_optimizers_hs7bgj.gif\" width=450>\n",
    "    </p>\n",
    "\n",
    "## Which optimizer to use?\n",
    "\n",
    "So, which optimizer should you now use? If your input data is sparse, then you likely achieve the best results using one of the adaptive learning-rate methods. An additional benefit is that you won't need to tune the learning rate but likely achieve the best results with the default value.\n",
    "\n",
    "In summary, RMSprop is an extension of Adagrad that deals with its radically diminishing learning rates. It is identical to Adadelta, except that Adadelta uses the RMS of parameter updates in the numinator update rule. Adam, finally, adds bias-correction and momentum to RMSprop. Insofar, RMSprop, Adadelta, and Adam are very similar algorithms that do well in similar circumstances. It is shown that its bias-correction helps Adam slightly outperform RMSprop towards the end of optimization as gradients become sparser. Insofar, Adam might be the best overall choice.\n",
    "\n",
    "## Hyperparameters\n",
    "\n",
    "Model optimization is one of the toughest challenges in the implementation of machine learning solutions. Entire branches of machine learning and deep learning theory have been dedicated to the optimization of models. Typically, we think about model optimization as a process of regularly modifying the code of the model in order to minimize the testing error. However, deep learning optimization often entails fine tuning elements that live outside the model but that can heavily influence its behavior. Deep learning often refers to those hidden elements as hyperparameters as they are one of the most critical components of any machine learning application.\n",
    "\n",
    "#### Some Examples of Hyperparameters\n",
    "\n",
    "The number and diversity of hyperparameters in machine learning algorithms is very specific to each model. However, there some classic hyperparameters that we should always keep our eyes on and that should help you think about this aspect of machine learning solutions:\n",
    "· Learning Rate: The mother of all hyperparameters, the learning rate quantifies the learning progress of a model in a way that can be used to optimize its capacity.\n",
    "· Number of Hidden Units: A classic hyperparameter in deep learning algorithms, the number of hidden units is key to regulate the representational capacity of a model.\n",
    "· Convolution Kernel Width: In convolutional Neural Networks(CNNs), the Kernel Width influences the number of parameters in a model which, in turns, influences its capacity.\n",
    "\n",
    "## Metrics to Evaluate your Machine Learning Algorithm\n",
    "\n",
    "Evaluating your machine learning algorithm is an essential part of any project. Your model may give you satisfying results when evaluated using a metric say accuracy_score but may give poor results when evaluated against other metrics such as logarithmic_loss or any other such metric. Most of the times we use classification accuracy to measure the performance of our model, however it is not enough to truly judge our model. In this post, we will cover different types of evaluation metrics available.\n",
    "\n",
    "## Classification Accuracy\n",
    "\n",
    "Classification Accuracy is what we usually mean, when we use the term accuracy. It is the ratio of number of correct predictions to the total number of input samples.\n",
    "\n",
    "<p align=\"center\">\n",
    "$Accuracy = \\frac{Number of Correct predictions}{Total Number of Predictions made}$\n",
    "</p>\n",
    "\n",
    "It works well only if there are equal number of samples belonging to each class.\n",
    "For example, consider that there are 98% samples of class A and 2% samples of class B in our training set. Then our model can easily get 98% training accuracy by simply predicting every training sample belonging to class A.\n",
    "When the same model is tested on a test set with 60% samples of class A and 40% samples of class B, then the test accuracy would drop down to 60%. Classification Accuracy is great, but gives us the false sense of achieving high accuracy.\n",
    "The real problem arises, when the cost of misclassification of the minor class samples are very high. If we deal with a rare but fatal disease, the cost of failing to diagnose the disease of a sick person is much higher than the cost of sending a healthy person to more tests.\n",
    "\n",
    "## Confusion Matrix\n",
    "\n",
    "Confusion Matrix as the name suggests gives us a matrix as output and describes the complete performance of the model.\n",
    "Lets assume we have a binary classification problem. We have some samples belonging to two classes : YES or NO. Also, we have our own classifier which predicts a class for a given input sample. On testing our model on 165 samples ,we get the following result.\n",
    "\n",
    "\n",
    "<p align=\"center\">\n",
    "  $LogLoss = - \\frac{1}{n} \\sum\\limits_{i=1}^n [y_i \\cdot log_e(\\hat{y_i}) + (1-y_i) \\cdot log_e(1-\\hat{y_i}) ]$\n",
    "  </p>\n",
    "\n",
    "where,\n",
    "y_ij, indicates whether sample i belongs to class j or not\n",
    "p_ij, indicates the probability of sample i belonging to class j\n",
    "Log Loss has no upper bound and it exists on the range Log Loss nearer to 0 indicates higher accuracy, whereas if the Log Loss is away from 0 then it indicates lower accuracy.\n",
    "In general, minimising Log Loss gives greater accuracy for the classifier.\n",
    "\n",
    "| n=165 | Predicted: NO | Predicted: YES |\n",
    "|---|---|---|\n",
    "| Actual: NO | 50 | 10 |\n",
    "| Actual: YES | 5 | 100 |\n",
    "\n",
    "There are 4 important terms :\n",
    "- True Positives : The cases in which we predicted YES and the actual output was also YES.\n",
    "- True Negatives : The cases in which we predicted NO and the actual output was NO.\n",
    "- False Positives : The cases in which we predicted YES and the actual output was NO.\n",
    "- False Negatives : The cases in which we predicted NO and the actual output was YES.\n",
    "Accuracy for the matrix can be calculated by taking average of the values lying across the “main diagonal” i.e\n",
    "<p align=\"center\">\n",
    "$Accuracy = \\frac{TruePositive+ TrueNegative}{Total Number of Samples}$\n",
    "  <br />\n",
    " $Accuracy = \\frac{100+50}{165} = 0.91$\n",
    "</p>\n",
    "\n",
    "Confusion Matrix forms the basis for the other types of metrics.\n",
    "\n",
    "## Area Under Curve\n",
    "\n",
    "Area Under Curve(AUC) is one of the most widely used metrics for evaluation. It is used for binary classification problem. AUC of a classifier is equal to the probability that the classifier will rank a randomly chosen positive example higher than a randomly chosen negative example. Before defining AUC, let us understand two basic terms :\n",
    "- True Positive Rate (Sensitivity) : True Positive Rate is defined as TP/ (FN+TP). True Positive Rate corresponds to the proportion of positive data points that are correctly considered as positive, with respect to all positive data points.\n",
    "<p align=\"center\">\n",
    "$TruePositiveRate = \\frac{TruePositive}{FalseNegative+TruePositive}$\n",
    "  </p>\n",
    "- False Positive Rate (Specificity) : False Positive Rate is defined as FP / (FP+TN). False Positive Rate corresponds to the proportion of negative data points that are mistakenly considered as positive, with respect to all negative data points.\n",
    "<p align=\"center\">\n",
    "$FalsePositiveRate = \\frac{FalsePositive}{TrueNegative+FalsePositive}$\n",
    "  </p>\n",
    "  False Positive Rate and True Positive Rate both have values in the range [0, 1]. FPR and TPR bot hare computed at threshold values such as (0.00, 0.02, 0.04, …., 1.00) and a graph is drawn. AUC is the area under the curve of plot False Positive Rate vs True Positive Rate at different points in [0, 1].\n",
    "<p align=\"center\">\n",
    "<img src=\"https://res.cloudinary.com/dltf2/image/upload/v1563607687/workshops/dl_tf2_2019_07_21/1_zFW1Kj3e2X_mmluTW3rVeA_hciv5t.png\" width=450>\n",
    "</p>\n",
    "As evident, AUC has a range of [0, 1]. The greater the value, the better is the performance of our model.\n",
    "\n",
    "## F1 Score\n",
    "\n",
    "F1 Score is used to measure a test’s accuracy\n",
    "F1 Score is the Harmonic Mean between precision and recall. The range for F1 Score is [0, 1]. It tells you how precise your classifier is (how many instances it classifies correctly), as well as how robust it is (it does not miss a significant number of instances).\n",
    "High precision but lower recall, gives you an extremely accurate, but it then misses a large number of instances that are difficult to classify. The greater the F1 Score, the better is the performance of our model. Mathematically, it can be expressed as :\n",
    "\n",
    "<p align=\"center\">\n",
    "$F1 = 2*\\frac{1}{\\frac{1}{precision}+\\frac{1}{recall}}$\n",
    "</p>\n",
    "- Precision : It is the number of correct positive results divided by the number of positive results predicted by the classifier.\n",
    "\n",
    "<p align=\"center\">\n",
    "$Precision = 2*\\frac{TruePositive}{TruePositive+FalsePositive}$\n",
    "</p>\n",
    "\n",
    "Recall : It is the number of correct positive results divided by the number of all relevant samples (all samples that should have been identified as positive).\n",
    "\n",
    "<p align=\"center\">\n",
    "$Recall = 2*\\frac{TruePositive}{TruePositive+FalsePositive}$\n",
    "</p>\n",
    "\n"
   ]
  },
  {
   "cell_type": "markdown",
   "metadata": {
    "colab_type": "text",
    "id": "P1U7th973yTR"
   },
   "source": [
    "# Preparation"
   ]
  },
  {
   "cell_type": "code",
   "execution_count": 0,
   "metadata": {
    "colab": {},
    "colab_type": "code",
    "id": "C6wtyB0VYQQZ"
   },
   "outputs": [],
   "source": [
    "from __future__ import absolute_import, division, print_function, unicode_literals\n",
    "\n",
    "import tensorflow as tf\n",
    "\n",
    "import numpy as np\n",
    "\n",
    "from sklearn.model_selection import train_test_split\n",
    "from sklearn.metrics import classification_report, confusion_matrix\n",
    "\n",
    "import matplotlib as mpl\n",
    "import matplotlib.pyplot as plt\n",
    "\n",
    "import itertools\n",
    "from datetime import datetime\n",
    "from tqdm import tqdm\n",
    "import os\n",
    "\n",
    "%matplotlib inline\n",
    "mpl.rc_file(mpl.matplotlib_fname())"
   ]
  },
  {
   "cell_type": "code",
   "execution_count": 0,
   "metadata": {
    "colab": {
     "base_uri": "https://localhost:8080/",
     "height": 269
    },
    "colab_type": "code",
    "id": "FKvZ04xD318f",
    "outputId": "ec4d1d66-cfaa-489f-e0e7-280e300de4b5"
   },
   "outputs": [
    {
     "name": "stdout",
     "output_type": "stream",
     "text": [
      "Sun Jul 21 2019 \n",
      "\n",
      "tensorflow 2.0.0-beta1\n",
      "numpy 1.16.4\n",
      "matplotlib 3.0.3\n",
      "sklearn 0.21.2\n",
      "\n",
      "compiler   : GCC 8.0.1 20180414 (experimental) [trunk revision 259383\n",
      "system     : Linux\n",
      "release    : 4.14.79+\n",
      "machine    : x86_64\n",
      "processor  : x86_64\n",
      "CPU cores  : 2\n",
      "interpreter: 64bit\n",
      "Git hash   :\n"
     ]
    }
   ],
   "source": [
    "%reload_ext watermark\n",
    "%watermark -m -n -p tensorflow,numpy,matplotlib,sklearn -g"
   ]
  },
  {
   "cell_type": "code",
   "execution_count": 0,
   "metadata": {
    "colab": {},
    "colab_type": "code",
    "id": "1BUjcU5bul68"
   },
   "outputs": [],
   "source": [
    "#@title ## Random seed\n",
    "\n",
    "np.random.seed(RANDOM_SEED)"
   ]
  },
  {
   "cell_type": "markdown",
   "metadata": {
    "colab_type": "text",
    "id": "fJVSM_NKYPMf"
   },
   "source": [
    "# Data"
   ]
  },
  {
   "cell_type": "markdown",
   "metadata": {
    "colab_type": "text",
    "id": "PV0DwMB1tYsK"
   },
   "source": [
    "<img src=\"https://res.cloudinary.com/dltf2/image/upload/v1563516027/workshops/dl_tf2_2019_07_21/spiral-dataset_gn9w5y.png\" alt=\"Generated non-linear data\" width=\"200\"  align=\"left\" hspace=\"10px\" vspace=\"0px\"/>\n",
    "\n",
    "We're going to first generate some non-linear data for a classification task.\n",
    "\n",
    "**A spiral**: is a curve which emanates from a point, moving farther away as it revolves around the point.\n",
    "\n",
    "\\begin{align}\n",
    " Spiral =\\begin{cases} X_{1\\theta} = r_{\\theta} \\cos(\\theta) \\\\X_{2\\theta} = r_{\\theta} \\sin(\\theta)\\end{cases}\n",
    "\\end{align}\n",
    "\n"
   ]
  },
  {
   "cell_type": "code",
   "execution_count": 0,
   "metadata": {
    "colab": {},
    "colab_type": "code",
    "id": "TBHFzaQfusyP"
   },
   "outputs": [],
   "source": [
    "def generate_data(num_samples, dimensions, num_classes):\n",
    "    \"\"\" Generate non-linear dataset.\n",
    "    \n",
    "    Args:\n",
    "        num_samples (int): number of samples which we want to produce.\n",
    "        dimensions (int): the dimension of the data which we plan to produce ex. 2d.\n",
    "        num_classes (int): number of classes which the samples are going to generate ex. 2#.\n",
    "    \n",
    "    Examples:\n",
    "        >>> x, y = generate_data(2, 2, 2)\n",
    "        (array([[ 0.        ,  0.        ],\n",
    "        [-0.712528  , -0.70164368],\n",
    "        [-0.        , -0.        ],\n",
    "        [ 0.90006129, -0.43576333]]), array([0, 0, 1, 1], dtype=uint8))\n",
    "    \n",
    "    Returns:\n",
    "        x (ndarray): a numpy array in a shape like this (num_samples, dimensions).\n",
    "        y (ndarray): a numpy array in a shape like this (num_samples, num_classes).\n",
    "    \"\"\"\n",
    "    \n",
    "    x_origin = np.zeros((num_samples * num_classes, dimensions))\n",
    "    y = np.zeros(num_samples * num_classes, dtype='uint8')\n",
    "    \n",
    "    for i in tqdm(range(num_classes), position=0):\n",
    "        idx = range(num_samples * i, num_samples * (i + 1))\n",
    "        radius = np.linspace(0.0, 1, num_samples)\n",
    "        theta = np.linspace(i * 4, (i + 1) * 4, num_samples) + np.random.randn(num_samples) * 0.2\n",
    "        \n",
    "        x_origin[idx] = np.c_[radius * np.sin(theta), radius * np.cos(theta)]\n",
    "        y[idx] = i\n",
    "    \n",
    "    x = np.hstack([x_origin])\n",
    "    \n",
    "    return x, y"
   ]
  },
  {
   "cell_type": "code",
   "execution_count": 0,
   "metadata": {
    "colab": {
     "base_uri": "https://localhost:8080/",
     "height": 84
    },
    "colab_type": "code",
    "id": "gQHAhD-yx9Vz",
    "outputId": "84bfb49e-bf0d-495c-e8a5-09b55b4d5588"
   },
   "outputs": [
    {
     "name": "stderr",
     "output_type": "stream",
     "text": [
      "100%|██████████| 3/3 [00:00<00:00, 1237.62it/s]"
     ]
    },
    {
     "name": "stdout",
     "output_type": "stream",
     "text": [
      "\n",
      "x: (1500, 2)\n",
      "y: (1500,)\n"
     ]
    },
    {
     "name": "stderr",
     "output_type": "stream",
     "text": [
      "\n"
     ]
    }
   ],
   "source": [
    "num_samples = 500\n",
    "dimensions = 2\n",
    "num_classes = 3\n",
    "\n",
    "x, y = generate_data(num_samples, dimensions, num_classes)\n",
    "\n",
    "print()\n",
    "print('x: %s' % str(x.shape))\n",
    "print('y: %s' % str(y.shape))"
   ]
  },
  {
   "cell_type": "code",
   "execution_count": 0,
   "metadata": {
    "colab": {
     "base_uri": "https://localhost:8080/",
     "height": 477
    },
    "colab_type": "code",
    "id": "guj9iySty_cO",
    "outputId": "49650490-1b91-424d-edd3-a6dca5f259b4"
   },
   "outputs": [
    {
     "data": {
      "image/png": "[encoded data removed]",
      "text/plain": [
       "<Figure size 500x500 with 1 Axes>"
      ]
     },
     "metadata": {
      "tags": []
     },
     "output_type": "display_data"
    }
   ],
   "source": [
    "xfig = 5.0\n",
    "yfig = 5.0\n",
    "\n",
    "plt.figure(figsize=(xfig, yfig))\n",
    "plt.title('Generated non-linear data')\n",
    "plt.scatter(x[:, 0], x[:, 1], c=y)\n",
    "plt.show()"
   ]
  },
  {
   "cell_type": "markdown",
   "metadata": {
    "colab_type": "text",
    "id": "VZo9d-aC_tcq"
   },
   "source": [
    "## One-hot Encoding\n",
    "\n",
    "Consider an array of 5 labels out of a set of 3 classes {0, 1, 2}:\n",
    "\n",
    "```python\n",
    "> labels\n",
    "array([0, 2, 1, 2, 0])\n",
    "```\n",
    "\n",
    "**`to_categorical`** converts this into a matrix with as many\n",
    "columns as there are classes. The number of rows\n",
    "stays the same.\n",
    "\n",
    "```python\n",
    "> to_categorical(labels)\n",
    "array([[ 1.,  0.,  0.],\n",
    "       [ 0.,  0.,  1.],\n",
    "       [ 0.,  1.,  0.],\n",
    "       [ 0.,  0.,  1.],\n",
    "       [ 1.,  0.,  0.]], dtype=float32)\n",
    "```\n",
    "\n",
    "\n",
    "\n",
    "---\n",
    "\n",
    "\n",
    "\n",
    "**to_categorical**\n",
    "\n",
    "```\n",
    "tf.keras.utils.to_categorical(y, num_classes=None, dtype='float32')\n",
    "```\n",
    "Converts a class vector (integers) to binary class matrix.\n",
    "\n",
    "**Arguments:**\n",
    "\n",
    "- **`y`**: class vector to be converted into a matrix (integers from 0 to num_classes).\n",
    "- **`num_classes`**: total number of classes.\n",
    "- **`dtype`**: The data type expected by the input, as a string (float32, float64, int32...)\n"
   ]
  },
  {
   "cell_type": "code",
   "execution_count": 0,
   "metadata": {
    "colab": {
     "base_uri": "https://localhost:8080/",
     "height": 50
    },
    "colab_type": "code",
    "id": "em2_TxKL4Mgk",
    "outputId": "108f7853-d7de-4199-c643-1b27d72b98bd"
   },
   "outputs": [
    {
     "name": "stdout",
     "output_type": "stream",
     "text": [
      "(1050, 2) (1050,)\n",
      "(1050, 3)\n"
     ]
    }
   ],
   "source": [
    "x_train, x_test, y_train, y_test = train_test_split(x, y, test_size=0.3, random_state=RANDOM_SEED)\n",
    "\n",
    "print(x_train.shape, y_train.shape)\n",
    "\n",
    "y_train_c = tf.keras.utils.to_categorical(y_train, num_classes)\n",
    "y_test_c = tf.keras.utils.to_categorical(y_test, num_classes)\n",
    "\n",
    "print(y_train_c.shape)"
   ]
  },
  {
   "cell_type": "markdown",
   "metadata": {
    "colab_type": "text",
    "id": "FPBMPV8iYQp6"
   },
   "source": [
    "# Linear Model"
   ]
  },
  {
   "cell_type": "markdown",
   "metadata": {
    "colab_type": "text",
    "id": "5LZwQ9fe6CNK"
   },
   "source": [
    "Before we get to our neural network, we're going to implement a linear model (logistic regression). We want to see why linear models won't suffice for our dataset."
   ]
  },
  {
   "cell_type": "code",
   "execution_count": 0,
   "metadata": {
    "colab": {},
    "colab_type": "code",
    "id": "AKVGM6SLYTDT"
   },
   "outputs": [],
   "source": [
    "def build_linear(n_units, n_features):    \n",
    "    model = tf.keras.Sequential([\n",
    "        tf.keras.layers.Input(shape=[n_features]),\n",
    "        tf.keras.layers.Dense(n_units, activation='softmax')\n",
    "    ])\n",
    "    \n",
    "    opt = tf.keras.optimizers.Adam(lr=0.0001)\n",
    "    model.compile(optimizer=opt, \n",
    "                  loss='categorical_crossentropy', \n",
    "                  metrics=['accuracy'])\n",
    "    \n",
    "    return model"
   ]
  },
  {
   "cell_type": "code",
   "execution_count": 0,
   "metadata": {
    "colab": {
     "base_uri": "https://localhost:8080/",
     "height": 185
    },
    "colab_type": "code",
    "id": "3dffdlZU7dLH",
    "outputId": "b858c013-d00d-4c4f-bc55-77a2f55ac8b8"
   },
   "outputs": [
    {
     "name": "stdout",
     "output_type": "stream",
     "text": [
      "Model: \"sequential_3\"\n",
      "_________________________________________________________________\n",
      "Layer (type)                 Output Shape              Param #   \n",
      "=================================================================\n",
      "dense_3 (Dense)              (None, 3)                 9         \n",
      "=================================================================\n",
      "Total params: 9\n",
      "Trainable params: 9\n",
      "Non-trainable params: 0\n",
      "_________________________________________________________________\n"
     ]
    }
   ],
   "source": [
    "linear_model = build_linear(n_units=3, n_features=2)\n",
    "linear_model.summary()"
   ]
  },
  {
   "cell_type": "code",
   "execution_count": 0,
   "metadata": {
    "colab": {
     "base_uri": "https://localhost:8080/",
     "height": 1000
    },
    "colab_type": "code",
    "id": "h8-0GjJO91wq",
    "outputId": "e082f336-15dd-480f-d0e6-06777a3dc3c7"
   },
   "outputs": [
    {
     "name": "stdout",
     "output_type": "stream",
     "text": [
      "Train on 945 samples, validate on 105 samples\n",
      "Epoch 1/100\n",
      "945/945 [==============================] - 0s 227us/sample - loss: 0.9801 - accuracy: 0.4381 - val_loss: 0.9817 - val_accuracy: 0.4381\n",
      "Epoch 2/100\n",
      "945/945 [==============================] - 0s 81us/sample - loss: 0.9793 - accuracy: 0.4392 - val_loss: 0.9810 - val_accuracy: 0.4381\n",
      "Epoch 3/100\n",
      "945/945 [==============================] - 0s 75us/sample - loss: 0.9785 - accuracy: 0.4402 - val_loss: 0.9803 - val_accuracy: 0.4381\n",
      "Epoch 4/100\n",
      "945/945 [==============================] - 0s 76us/sample - loss: 0.9776 - accuracy: 0.4413 - val_loss: 0.9796 - val_accuracy: 0.4381\n",
      "Epoch 5/100\n",
      "945/945 [==============================] - 0s 76us/sample - loss: 0.9768 - accuracy: 0.4413 - val_loss: 0.9790 - val_accuracy: 0.4381\n",
      "Epoch 6/100\n",
      "945/945 [==============================] - 0s 75us/sample - loss: 0.9760 - accuracy: 0.4423 - val_loss: 0.9783 - val_accuracy: 0.4381\n",
      "Epoch 7/100\n",
      "945/945 [==============================] - 0s 91us/sample - loss: 0.9752 - accuracy: 0.4444 - val_loss: 0.9777 - val_accuracy: 0.4381\n",
      "Epoch 8/100\n",
      "945/945 [==============================] - 0s 78us/sample - loss: 0.9744 - accuracy: 0.4476 - val_loss: 0.9770 - val_accuracy: 0.4381\n",
      "Epoch 9/100\n",
      "945/945 [==============================] - 0s 74us/sample - loss: 0.9735 - accuracy: 0.4476 - val_loss: 0.9764 - val_accuracy: 0.4381\n",
      "Epoch 10/100\n",
      "945/945 [==============================] - 0s 72us/sample - loss: 0.9728 - accuracy: 0.4508 - val_loss: 0.9757 - val_accuracy: 0.4381\n",
      "Epoch 11/100\n",
      "945/945 [==============================] - 0s 75us/sample - loss: 0.9720 - accuracy: 0.4519 - val_loss: 0.9751 - val_accuracy: 0.4381\n",
      "Epoch 12/100\n",
      "945/945 [==============================] - 0s 71us/sample - loss: 0.9711 - accuracy: 0.4561 - val_loss: 0.9744 - val_accuracy: 0.4381\n",
      "Epoch 13/100\n",
      "945/945 [==============================] - 0s 75us/sample - loss: 0.9703 - accuracy: 0.4571 - val_loss: 0.9738 - val_accuracy: 0.4476\n",
      "Epoch 14/100\n",
      "945/945 [==============================] - 0s 73us/sample - loss: 0.9696 - accuracy: 0.4593 - val_loss: 0.9731 - val_accuracy: 0.4476\n",
      "Epoch 15/100\n",
      "945/945 [==============================] - 0s 75us/sample - loss: 0.9688 - accuracy: 0.4603 - val_loss: 0.9725 - val_accuracy: 0.4476\n",
      "Epoch 16/100\n",
      "945/945 [==============================] - 0s 71us/sample - loss: 0.9680 - accuracy: 0.4614 - val_loss: 0.9719 - val_accuracy: 0.4476\n",
      "Epoch 17/100\n",
      "945/945 [==============================] - 0s 72us/sample - loss: 0.9672 - accuracy: 0.4603 - val_loss: 0.9712 - val_accuracy: 0.4476\n",
      "Epoch 18/100\n",
      "945/945 [==============================] - 0s 77us/sample - loss: 0.9664 - accuracy: 0.4603 - val_loss: 0.9706 - val_accuracy: 0.4476\n",
      "Epoch 19/100\n",
      "945/945 [==============================] - 0s 80us/sample - loss: 0.9656 - accuracy: 0.4603 - val_loss: 0.9700 - val_accuracy: 0.4476\n",
      "Epoch 20/100\n",
      "945/945 [==============================] - 0s 77us/sample - loss: 0.9649 - accuracy: 0.4614 - val_loss: 0.9693 - val_accuracy: 0.4476\n",
      "Epoch 21/100\n",
      "945/945 [==============================] - 0s 88us/sample - loss: 0.9641 - accuracy: 0.4614 - val_loss: 0.9687 - val_accuracy: 0.4571\n",
      "Epoch 22/100\n",
      "945/945 [==============================] - 0s 71us/sample - loss: 0.9633 - accuracy: 0.4635 - val_loss: 0.9681 - val_accuracy: 0.4571\n",
      "Epoch 23/100\n",
      "945/945 [==============================] - 0s 71us/sample - loss: 0.9626 - accuracy: 0.4667 - val_loss: 0.9675 - val_accuracy: 0.4571\n",
      "Epoch 24/100\n",
      "945/945 [==============================] - 0s 77us/sample - loss: 0.9618 - accuracy: 0.4667 - val_loss: 0.9669 - val_accuracy: 0.4571\n",
      "Epoch 25/100\n",
      "945/945 [==============================] - 0s 78us/sample - loss: 0.9610 - accuracy: 0.4677 - val_loss: 0.9663 - val_accuracy: 0.4571\n",
      "Epoch 26/100\n",
      "945/945 [==============================] - 0s 76us/sample - loss: 0.9603 - accuracy: 0.4698 - val_loss: 0.9657 - val_accuracy: 0.4571\n",
      "Epoch 27/100\n",
      "945/945 [==============================] - 0s 75us/sample - loss: 0.9595 - accuracy: 0.4709 - val_loss: 0.9650 - val_accuracy: 0.4571\n",
      "Epoch 28/100\n",
      "945/945 [==============================] - 0s 76us/sample - loss: 0.9588 - accuracy: 0.4709 - val_loss: 0.9645 - val_accuracy: 0.4667\n",
      "Epoch 29/100\n",
      "945/945 [==============================] - 0s 71us/sample - loss: 0.9580 - accuracy: 0.4698 - val_loss: 0.9639 - val_accuracy: 0.4667\n",
      "Epoch 30/100\n",
      "945/945 [==============================] - 0s 64us/sample - loss: 0.9573 - accuracy: 0.4709 - val_loss: 0.9632 - val_accuracy: 0.4571\n",
      "Epoch 31/100\n",
      "945/945 [==============================] - 0s 72us/sample - loss: 0.9565 - accuracy: 0.4720 - val_loss: 0.9626 - val_accuracy: 0.4571\n",
      "Epoch 32/100\n",
      "945/945 [==============================] - 0s 63us/sample - loss: 0.9558 - accuracy: 0.4741 - val_loss: 0.9620 - val_accuracy: 0.4571\n",
      "Epoch 33/100\n",
      "945/945 [==============================] - 0s 69us/sample - loss: 0.9550 - accuracy: 0.4741 - val_loss: 0.9614 - val_accuracy: 0.4571\n",
      "Epoch 34/100\n",
      "945/945 [==============================] - 0s 64us/sample - loss: 0.9543 - accuracy: 0.4772 - val_loss: 0.9608 - val_accuracy: 0.4571\n",
      "Epoch 35/100\n",
      "945/945 [==============================] - 0s 69us/sample - loss: 0.9535 - accuracy: 0.4783 - val_loss: 0.9602 - val_accuracy: 0.4571\n",
      "Epoch 36/100\n",
      "945/945 [==============================] - 0s 85us/sample - loss: 0.9528 - accuracy: 0.4783 - val_loss: 0.9596 - val_accuracy: 0.4571\n",
      "Epoch 37/100\n",
      "945/945 [==============================] - 0s 68us/sample - loss: 0.9521 - accuracy: 0.4783 - val_loss: 0.9591 - val_accuracy: 0.4667\n",
      "Epoch 38/100\n",
      "945/945 [==============================] - 0s 67us/sample - loss: 0.9513 - accuracy: 0.4783 - val_loss: 0.9585 - val_accuracy: 0.4667\n",
      "Epoch 39/100\n",
      "945/945 [==============================] - 0s 62us/sample - loss: 0.9506 - accuracy: 0.4804 - val_loss: 0.9579 - val_accuracy: 0.4667\n",
      "Epoch 40/100\n",
      "945/945 [==============================] - 0s 70us/sample - loss: 0.9499 - accuracy: 0.4804 - val_loss: 0.9573 - val_accuracy: 0.4667\n",
      "Epoch 41/100\n",
      "945/945 [==============================] - 0s 67us/sample - loss: 0.9492 - accuracy: 0.4804 - val_loss: 0.9567 - val_accuracy: 0.4667\n",
      "Epoch 42/100\n",
      "945/945 [==============================] - 0s 72us/sample - loss: 0.9484 - accuracy: 0.4794 - val_loss: 0.9561 - val_accuracy: 0.4762\n",
      "Epoch 43/100\n",
      "945/945 [==============================] - 0s 68us/sample - loss: 0.9477 - accuracy: 0.4794 - val_loss: 0.9556 - val_accuracy: 0.4667\n",
      "Epoch 44/100\n",
      "945/945 [==============================] - 0s 65us/sample - loss: 0.9470 - accuracy: 0.4794 - val_loss: 0.9550 - val_accuracy: 0.4667\n",
      "Epoch 45/100\n",
      "945/945 [==============================] - 0s 70us/sample - loss: 0.9463 - accuracy: 0.4794 - val_loss: 0.9544 - val_accuracy: 0.4762\n",
      "Epoch 46/100\n",
      "945/945 [==============================] - 0s 66us/sample - loss: 0.9456 - accuracy: 0.4794 - val_loss: 0.9538 - val_accuracy: 0.4667\n",
      "Epoch 47/100\n",
      "945/945 [==============================] - 0s 65us/sample - loss: 0.9449 - accuracy: 0.4804 - val_loss: 0.9533 - val_accuracy: 0.4667\n",
      "Epoch 48/100\n",
      "945/945 [==============================] - 0s 70us/sample - loss: 0.9442 - accuracy: 0.4836 - val_loss: 0.9527 - val_accuracy: 0.4667\n",
      "Epoch 49/100\n",
      "945/945 [==============================] - 0s 68us/sample - loss: 0.9435 - accuracy: 0.4847 - val_loss: 0.9521 - val_accuracy: 0.4667\n",
      "Epoch 50/100\n",
      "945/945 [==============================] - 0s 70us/sample - loss: 0.9427 - accuracy: 0.4857 - val_loss: 0.9516 - val_accuracy: 0.4667\n",
      "Epoch 51/100\n",
      "945/945 [==============================] - 0s 86us/sample - loss: 0.9420 - accuracy: 0.4857 - val_loss: 0.9510 - val_accuracy: 0.4762\n",
      "Epoch 52/100\n",
      "945/945 [==============================] - 0s 68us/sample - loss: 0.9413 - accuracy: 0.4857 - val_loss: 0.9504 - val_accuracy: 0.4762\n",
      "Epoch 53/100\n",
      "945/945 [==============================] - 0s 63us/sample - loss: 0.9406 - accuracy: 0.4899 - val_loss: 0.9499 - val_accuracy: 0.4762\n",
      "Epoch 54/100\n",
      "945/945 [==============================] - 0s 70us/sample - loss: 0.9399 - accuracy: 0.4921 - val_loss: 0.9493 - val_accuracy: 0.4857\n",
      "Epoch 55/100\n",
      "945/945 [==============================] - 0s 70us/sample - loss: 0.9392 - accuracy: 0.4931 - val_loss: 0.9487 - val_accuracy: 0.4857\n",
      "Epoch 56/100\n",
      "945/945 [==============================] - 0s 68us/sample - loss: 0.9386 - accuracy: 0.4931 - val_loss: 0.9482 - val_accuracy: 0.4857\n",
      "Epoch 57/100\n",
      "945/945 [==============================] - 0s 73us/sample - loss: 0.9379 - accuracy: 0.4963 - val_loss: 0.9476 - val_accuracy: 0.4857\n",
      "Epoch 58/100\n",
      "945/945 [==============================] - 0s 67us/sample - loss: 0.9372 - accuracy: 0.4952 - val_loss: 0.9471 - val_accuracy: 0.4857\n",
      "Epoch 59/100\n",
      "945/945 [==============================] - 0s 63us/sample - loss: 0.9365 - accuracy: 0.4974 - val_loss: 0.9465 - val_accuracy: 0.4857\n",
      "Epoch 60/100\n",
      "945/945 [==============================] - 0s 69us/sample - loss: 0.9358 - accuracy: 0.4995 - val_loss: 0.9460 - val_accuracy: 0.4857\n",
      "Epoch 61/100\n",
      "945/945 [==============================] - 0s 72us/sample - loss: 0.9351 - accuracy: 0.4995 - val_loss: 0.9454 - val_accuracy: 0.4857\n",
      "Epoch 62/100\n",
      "945/945 [==============================] - 0s 64us/sample - loss: 0.9344 - accuracy: 0.4995 - val_loss: 0.9448 - val_accuracy: 0.4952\n",
      "Epoch 63/100\n",
      "945/945 [==============================] - 0s 71us/sample - loss: 0.9338 - accuracy: 0.5026 - val_loss: 0.9443 - val_accuracy: 0.4952\n",
      "Epoch 64/100\n",
      "945/945 [==============================] - 0s 63us/sample - loss: 0.9331 - accuracy: 0.5037 - val_loss: 0.9437 - val_accuracy: 0.4952\n",
      "Epoch 65/100\n",
      "945/945 [==============================] - 0s 68us/sample - loss: 0.9324 - accuracy: 0.5037 - val_loss: 0.9432 - val_accuracy: 0.4952\n",
      "Epoch 66/100\n",
      "945/945 [==============================] - 0s 82us/sample - loss: 0.9318 - accuracy: 0.5058 - val_loss: 0.9427 - val_accuracy: 0.4952\n",
      "Epoch 67/100\n",
      "945/945 [==============================] - 0s 70us/sample - loss: 0.9311 - accuracy: 0.5037 - val_loss: 0.9421 - val_accuracy: 0.4952\n",
      "Epoch 68/100\n",
      "945/945 [==============================] - 0s 75us/sample - loss: 0.9304 - accuracy: 0.5058 - val_loss: 0.9416 - val_accuracy: 0.4952\n",
      "Epoch 69/100\n",
      "945/945 [==============================] - 0s 68us/sample - loss: 0.9298 - accuracy: 0.5058 - val_loss: 0.9411 - val_accuracy: 0.4952\n",
      "Epoch 70/100\n",
      "945/945 [==============================] - 0s 63us/sample - loss: 0.9291 - accuracy: 0.5058 - val_loss: 0.9405 - val_accuracy: 0.4952\n",
      "Epoch 71/100\n",
      "945/945 [==============================] - 0s 68us/sample - loss: 0.9284 - accuracy: 0.5048 - val_loss: 0.9400 - val_accuracy: 0.4952\n",
      "Epoch 72/100\n",
      "945/945 [==============================] - 0s 64us/sample - loss: 0.9278 - accuracy: 0.5058 - val_loss: 0.9394 - val_accuracy: 0.4952\n",
      "Epoch 73/100\n",
      "945/945 [==============================] - 0s 73us/sample - loss: 0.9271 - accuracy: 0.5048 - val_loss: 0.9389 - val_accuracy: 0.4952\n",
      "Epoch 74/100\n",
      "945/945 [==============================] - 0s 70us/sample - loss: 0.9264 - accuracy: 0.5058 - val_loss: 0.9384 - val_accuracy: 0.4952\n",
      "Epoch 75/100\n",
      "945/945 [==============================] - 0s 68us/sample - loss: 0.9258 - accuracy: 0.5058 - val_loss: 0.9379 - val_accuracy: 0.4952\n",
      "Epoch 76/100\n",
      "945/945 [==============================] - 0s 70us/sample - loss: 0.9251 - accuracy: 0.5069 - val_loss: 0.9373 - val_accuracy: 0.4952\n",
      "Epoch 77/100\n",
      "945/945 [==============================] - 0s 68us/sample - loss: 0.9245 - accuracy: 0.5079 - val_loss: 0.9368 - val_accuracy: 0.4952\n",
      "Epoch 78/100\n",
      "945/945 [==============================] - 0s 63us/sample - loss: 0.9239 - accuracy: 0.5101 - val_loss: 0.9363 - val_accuracy: 0.4952\n",
      "Epoch 79/100\n",
      "945/945 [==============================] - 0s 73us/sample - loss: 0.9232 - accuracy: 0.5111 - val_loss: 0.9358 - val_accuracy: 0.4952\n",
      "Epoch 80/100\n",
      "945/945 [==============================] - 0s 62us/sample - loss: 0.9225 - accuracy: 0.5111 - val_loss: 0.9352 - val_accuracy: 0.4952\n",
      "Epoch 81/100\n",
      "945/945 [==============================] - 0s 86us/sample - loss: 0.9219 - accuracy: 0.5090 - val_loss: 0.9347 - val_accuracy: 0.4952\n",
      "Epoch 82/100\n",
      "945/945 [==============================] - 0s 72us/sample - loss: 0.9213 - accuracy: 0.5101 - val_loss: 0.9342 - val_accuracy: 0.4952\n",
      "Epoch 83/100\n",
      "945/945 [==============================] - 0s 69us/sample - loss: 0.9206 - accuracy: 0.5101 - val_loss: 0.9337 - val_accuracy: 0.4857\n",
      "Epoch 84/100\n",
      "945/945 [==============================] - 0s 64us/sample - loss: 0.9200 - accuracy: 0.5111 - val_loss: 0.9332 - val_accuracy: 0.4857\n",
      "Epoch 85/100\n",
      "945/945 [==============================] - 0s 69us/sample - loss: 0.9193 - accuracy: 0.5111 - val_loss: 0.9327 - val_accuracy: 0.4857\n",
      "Epoch 86/100\n",
      "945/945 [==============================] - 0s 69us/sample - loss: 0.9187 - accuracy: 0.5122 - val_loss: 0.9321 - val_accuracy: 0.4857\n",
      "Epoch 87/100\n",
      "945/945 [==============================] - 0s 69us/sample - loss: 0.9181 - accuracy: 0.5122 - val_loss: 0.9316 - val_accuracy: 0.4857\n",
      "Epoch 88/100\n",
      "945/945 [==============================] - 0s 66us/sample - loss: 0.9174 - accuracy: 0.5122 - val_loss: 0.9312 - val_accuracy: 0.4857\n",
      "Epoch 89/100\n",
      "945/945 [==============================] - 0s 70us/sample - loss: 0.9168 - accuracy: 0.5143 - val_loss: 0.9306 - val_accuracy: 0.4857\n",
      "Epoch 90/100\n",
      "945/945 [==============================] - 0s 68us/sample - loss: 0.9162 - accuracy: 0.5143 - val_loss: 0.9302 - val_accuracy: 0.4857\n",
      "Epoch 91/100\n",
      "945/945 [==============================] - 0s 63us/sample - loss: 0.9156 - accuracy: 0.5143 - val_loss: 0.9297 - val_accuracy: 0.4857\n",
      "Epoch 92/100\n",
      "945/945 [==============================] - 0s 67us/sample - loss: 0.9150 - accuracy: 0.5153 - val_loss: 0.9292 - val_accuracy: 0.4857\n",
      "Epoch 93/100\n",
      "945/945 [==============================] - 0s 72us/sample - loss: 0.9143 - accuracy: 0.5153 - val_loss: 0.9287 - val_accuracy: 0.4857\n",
      "Epoch 94/100\n",
      "945/945 [==============================] - 0s 62us/sample - loss: 0.9137 - accuracy: 0.5153 - val_loss: 0.9282 - val_accuracy: 0.4857\n",
      "Epoch 95/100\n",
      "945/945 [==============================] - 0s 76us/sample - loss: 0.9131 - accuracy: 0.5175 - val_loss: 0.9277 - val_accuracy: 0.4762\n",
      "Epoch 96/100\n",
      "945/945 [==============================] - 0s 89us/sample - loss: 0.9125 - accuracy: 0.5164 - val_loss: 0.9272 - val_accuracy: 0.4762\n",
      "Epoch 97/100\n",
      "945/945 [==============================] - 0s 68us/sample - loss: 0.9119 - accuracy: 0.5175 - val_loss: 0.9267 - val_accuracy: 0.4762\n",
      "Epoch 98/100\n",
      "945/945 [==============================] - 0s 69us/sample - loss: 0.9113 - accuracy: 0.5175 - val_loss: 0.9262 - val_accuracy: 0.4762\n",
      "Epoch 99/100\n",
      "945/945 [==============================] - 0s 65us/sample - loss: 0.9106 - accuracy: 0.5153 - val_loss: 0.9257 - val_accuracy: 0.4762\n",
      "Epoch 100/100\n",
      "945/945 [==============================] - 0s 68us/sample - loss: 0.9100 - accuracy: 0.5175 - val_loss: 0.9252 - val_accuracy: 0.4762\n",
      "['loss', 'accuracy', 'val_loss', 'val_accuracy']\n"
     ]
    }
   ],
   "source": [
    "r = linear_model.fit(x_train, y_train_c, \n",
    "                 validation_split=0.1, \n",
    "                 epochs=100, \n",
    "                 verbose=1)\n",
    "\n",
    "\n",
    "history_dict = r.history\n",
    "history_list = list(history_dict.keys())\n",
    "print(history_list)"
   ]
  },
  {
   "cell_type": "code",
   "execution_count": 0,
   "metadata": {
    "colab": {
     "base_uri": "https://localhost:8080/",
     "height": 34
    },
    "colab_type": "code",
    "id": "T7EkuRk3_HFh",
    "outputId": "bebdbbdf-e8c8-4377-e0cd-ee763be3f781"
   },
   "outputs": [
    {
     "name": "stdout",
     "output_type": "stream",
     "text": [
      "[0.9198821216159396, 0.5311111]\n"
     ]
    }
   ],
   "source": [
    "evaluation = linear_model.evaluate(x_test, y_test_c, verbose=0)\n",
    "print(evaluation)"
   ]
  },
  {
   "cell_type": "code",
   "execution_count": 0,
   "metadata": {
    "colab": {
     "base_uri": "https://localhost:8080/",
     "height": 437
    },
    "colab_type": "code",
    "id": "8YrDtbRg-Eij",
    "outputId": "e38fbf3c-0375-434a-96b1-e2e3f5e56aa3"
   },
   "outputs": [
    {
     "data": {
      "image/png": "[encoded data removed]",
      "text/plain": [
       "<Figure size 640x480 with 1 Axes>"
      ]
     },
     "metadata": {
      "tags": []
     },
     "output_type": "display_data"
    }
   ],
   "source": [
    "loss = history_dict['loss']\n",
    "val_loss = history_dict['val_loss']\n",
    "epochs = range(1, len(loss) + 1)\n",
    "\n",
    "plt.plot(epochs, loss, label='Train Loss')\n",
    "plt.plot(epochs, val_loss, label='Valid Loss')\n",
    "plt.legend()\n",
    "plt.show()"
   ]
  },
  {
   "cell_type": "code",
   "execution_count": 0,
   "metadata": {
    "colab": {
     "base_uri": "https://localhost:8080/",
     "height": 437
    },
    "colab_type": "code",
    "id": "lO_8glDS-6J4",
    "outputId": "7029aef7-75f9-4d1a-91fd-ca21a05dd7e9"
   },
   "outputs": [
    {
     "data": {
      "image/png": "[encoded data removed]",
      "text/plain": [
       "<Figure size 640x480 with 1 Axes>"
      ]
     },
     "metadata": {
      "tags": []
     },
     "output_type": "display_data"
    }
   ],
   "source": [
    "accuracy = history_dict['accuracy']\n",
    "val_accuracy = history_dict['val_accuracy']\n",
    "epochs = range(1, len(accuracy) + 1)\n",
    "\n",
    "plt.plot(epochs, accuracy, label='Train Accuracy')\n",
    "plt.plot(epochs, val_accuracy, label='Valid Accuracy')\n",
    "plt.legend()\n",
    "plt.show()"
   ]
  },
  {
   "cell_type": "code",
   "execution_count": 0,
   "metadata": {
    "colab": {},
    "colab_type": "code",
    "id": "RZMZ1zXbD0bi"
   },
   "outputs": [],
   "source": [
    "#@title ## Multiclass decision boundary\n",
    "\n",
    "def plot_mc_decision_boundary(model, x, y, steps=1000):\n",
    "    \"\"\" Plot multiclass decision boundary,\n",
    "    \n",
    "    Args:\n",
    "        model (keras.Model): a keras model.\n",
    "        x (ndarray): a numpy array.\n",
    "        y (ndarray): a numpy array.\n",
    "        steps (integer): number of linear spaces.\n",
    "    \n",
    "    Returns:\n",
    "        None\n",
    "    \"\"\"\n",
    "    x_min, x_max = x[:, 0].min() - 0.1, x[:, 0].max() + 0.1\n",
    "    y_min, y_max = x[:, 1].min() - 0.1, x[:, 1].max() + 0.1\n",
    "    \n",
    "    x_span = np.linspace(x_min, x_max, steps)\n",
    "    y_span = np.linspace(y_min, y_max, steps)\n",
    "    xx, yy = np.meshgrid(x_span, y_span)\n",
    "    \n",
    "    y_pred = model.predict(np.c_[xx.ravel(), yy.ravel()])\n",
    "    y_pred = np.argmax(y_pred, axis=1)\n",
    "    y_pred = y_pred.reshape(xx.shape)\n",
    "    \n",
    "    plt.contourf(xx, yy, y_pred, alpha=0.5)\n",
    "    plt.scatter(x[:, 0], x[:, 1], c=y)\n",
    "    plt.xlim(xx.min(), xx.max())\n",
    "    plt.ylim(yy.min(), yy.max())\n",
    "    \n",
    "    return None"
   ]
  },
  {
   "cell_type": "code",
   "execution_count": 0,
   "metadata": {
    "colab": {},
    "colab_type": "code",
    "id": "tTGH7DWfEnWu"
   },
   "outputs": [],
   "source": [
    "#@title ## Visualize the decision boundary"
   ]
  },
  {
   "cell_type": "code",
   "execution_count": 0,
   "metadata": {
    "colab": {},
    "colab_type": "code",
    "id": "xLUSp-udJAVU"
   },
   "outputs": [],
   "source": [
    "#@title ## Plot confusion matrix\n",
    "\n",
    "def plot_confusion_matrix(cm, classes):\n",
    "    \"\"\" Plot confusion matrix\n",
    "    \n",
    "    Args:\n",
    "        cm (ndarray): the input of confusion matrix.\n",
    "        classes (integer): number of classes.\n",
    "        \n",
    "    Returns:\n",
    "        None\n",
    "    \"\"\"\n",
    "    cmap=plt.cm.Blues\n",
    "    plt.imshow(cm, interpolation='nearest', cmap=cmap)\n",
    "    plt.title(\"Confusion Matrix\")\n",
    "    plt.colorbar()\n",
    "    tick_marks = np.arange(len(classes))\n",
    "    plt.xticks(tick_marks, classes, rotation=45)\n",
    "    plt.yticks(tick_marks, classes)\n",
    "    plt.grid(False)\n",
    "\n",
    "    fmt = 'd'\n",
    "    thresh = cm.max() / 2.\n",
    "    for i, j in itertools.product(range(cm.shape[0]), range(cm.shape[1])):\n",
    "        plt.text(j, i, format(cm[i, j], fmt), horizontalalignment=\"center\", \n",
    "                 color=\"white\" if cm[i, j] > thresh else \"black\")\n",
    "\n",
    "    plt.ylabel('True label')\n",
    "    plt.xlabel('Predicted label')\n",
    "    plt.tight_layout()\n",
    "    \n",
    "    return None"
   ]
  },
  {
   "cell_type": "markdown",
   "metadata": {
    "colab_type": "text",
    "id": "BTfKC4ciJ2yK"
   },
   "source": [
    "## Classification Report\n",
    "\n",
    "`sklearn.metrics.classification_report`\n",
    "\n",
    "Build a text report showing the main classification metrics\n",
    "\n",
    "**Params:**\n",
    "- `y_true` : 1d array-like, or label indicator array / sparse matrix\n",
    "- `y_pred` : 1d array-like, or label indicator array / sparse matrix\n",
    "\n",
    "\n",
    "**Output:**\n",
    "```bash\n",
    "              precision    recall  f1-score   support\n",
    "\n",
    "           1       1.00      0.67      0.80         3\n",
    "           2       0.00      0.00      0.00         0\n",
    "           3       0.00      0.00      0.00         0\n",
    "\n",
    "   micro avg       1.00      0.67      0.80         3\n",
    "   macro avg       0.33      0.22      0.27         3\n",
    "weighted avg       1.00      0.67      0.80         3\n",
    "```"
   ]
  },
  {
   "cell_type": "code",
   "execution_count": 0,
   "metadata": {
    "colab": {},
    "colab_type": "code",
    "id": "USSP4YrIJZe7"
   },
   "outputs": [],
   "source": [
    "#@title ## Confusion matrix"
   ]
  },
  {
   "cell_type": "markdown",
   "metadata": {
    "colab_type": "text",
    "id": "804BK4BWYUY9"
   },
   "source": [
    "# Non-linear Model"
   ]
  },
  {
   "cell_type": "markdown",
   "metadata": {
    "colab_type": "text",
    "id": "AQ7g-z8bKxm9"
   },
   "source": [
    "Now let's see how the MLP performs on the data. Note that the only difference is the addition of the non-linear activation function (we use $ReLU$ which is just $max(0, z))$. "
   ]
  },
  {
   "cell_type": "code",
   "execution_count": 0,
   "metadata": {
    "colab": {},
    "colab_type": "code",
    "id": "X6kdVvneKyGR"
   },
   "outputs": [],
   "source": [
    "#@title ## Build non-linear model [MLP Model](https://en.wikipedia.org/wiki/Multilayer_perceptron)\n",
    "\n",
    "def build_non_linear(n_classes, n_units, n_features):\n",
    "    model = None\n",
    "    \n",
    "    return model"
   ]
  },
  {
   "cell_type": "code",
   "execution_count": 0,
   "metadata": {
    "colab": {},
    "colab_type": "code",
    "id": "ZVNOfVcAL2hb"
   },
   "outputs": [],
   "source": [
    "#@title ## Create non-linear model"
   ]
  },
  {
   "cell_type": "code",
   "execution_count": 0,
   "metadata": {
    "colab": {},
    "colab_type": "code",
    "id": "xaq9UoZSMG6m"
   },
   "outputs": [],
   "source": [
    "#@title ## Fit non-linear model."
   ]
  },
  {
   "cell_type": "code",
   "execution_count": 0,
   "metadata": {
    "colab": {},
    "colab_type": "code",
    "id": "KhuI2LdvMOyt"
   },
   "outputs": [],
   "source": [
    "#@title ## Evaluating"
   ]
  },
  {
   "cell_type": "code",
   "execution_count": 0,
   "metadata": {
    "colab": {},
    "colab_type": "code",
    "id": "F0XxwtHyMVtz"
   },
   "outputs": [],
   "source": [
    "#@title ## Plotting"
   ]
  },
  {
   "cell_type": "code",
   "execution_count": 0,
   "metadata": {
    "colab": {},
    "colab_type": "code",
    "id": "lViwehIkMcE_"
   },
   "outputs": [],
   "source": [
    "#@title ## Visualize the decision boundary"
   ]
  },
  {
   "cell_type": "code",
   "execution_count": 0,
   "metadata": {
    "colab": {},
    "colab_type": "code",
    "id": "1vvOT_PnMhzC"
   },
   "outputs": [],
   "source": [
    "#@title ## Confusion matrix"
   ]
  },
  {
   "cell_type": "markdown",
   "metadata": {
    "colab_type": "text",
    "id": "ChABUUobfHZe"
   },
   "source": [
    "# Overfitting"
   ]
  },
  {
   "cell_type": "markdown",
   "metadata": {
    "colab_type": "text",
    "id": "OYIQyPJKNT3M"
   },
   "source": [
    "Though neural networks are great at capturing non-linear relationships they are highly susceptible to overfitting to the training data and failing to generalize on test data. Just take a look at the example below where we generate completely random data and are able to fit a model with [$2*N*C + D$](https://arxiv.org/abs/1611.03530) hidden units. The training performance is great but the overfitting leads to very poor test performance. We'll be covering strategies to tackle overfitting in future lessons.\n",
    "\n",
    "Let me define overfitting more formally. Overfitting refers to a model that models the “training data” too well. Overfitting happens when a model learns the detail and noise in the training data to the extent that it negatively impacts the performance of the model on new data.\n",
    "\n",
    "# How do you know your NN is overfitting?\n",
    "In practice, detecting that our model is overfitting is difficult. It’s not uncommon that our trained model is already in production and then we start to realize that something is wrong. In fact, it is only by confronting new data that you can make sure that everything is working properly. However, during the training we should try to reproduce the real conditions as much as possible. For this reason, it is good practice to divide our dataset into three parts - training set, dev set (also known as cross-validation or hold-out) and test set. Our model learns by seeing only the first of these parts. Hold-out is used to track our progress and draw conclusions to optimise the model. While, we use a test set at the end of the training process to evaluate the performance of our model. Using completely new data allows us to get an unbiased opinion on how well our algorithm works.\n",
    "\n",
    "It is very important to make sure that your cross-validation and test set come from the same distribution as well as that they accurately reflect data that we expect to receive in the future. Only then we can be sure that the decisions we make during the learning process bring us closer to a better solution. I know what you are thinking about… “How should I divide my dataset?” Until recently, one of the most frequently recommended splits was 60/20/20, but in the era of big data, when our dataset can count millions of entries, those fixed proportions are no longer appropriate. In short, everything depends on the size of the dataset we work with. If we have millions of entries at our disposal, perhaps it would be better idea to divide them in 98/1/1 ratio. Our dev and test sets should be simply large enough to give us high confidence in the performance of our model. \n",
    "\n",
    "<p align=\"center\">\n",
    "<img src=\"https://res.cloudinary.com/dltf2/image/upload/v1563669330/workshops/dl_tf2_2019_07_21/1_AmR4i-5ODVGg6eNms1dtiA_wjbyfq.png\" width=450>\n",
    "</p>\n",
    "\n",
    "# Bias and Variance\n",
    "To give us a better understanding of this some how complex issue, we will use a simple example, that hopefully allow us to develop a valuable intuition. Our dataset consisting of two classes of points, located in a two-dimensional space.\n",
    "\n",
    "<p align=\"center\">\n",
    "<img src=\"https://res.cloudinary.com/dltf2/image/upload/v1563669902/workshops/dl_tf2_2019_07_21/1_uoDKRGY0OzNSO0rV-R5uAw_sv7dwg.png\" width=450>\n",
    "</p>\n",
    "\n",
    "The first model in the top right corner is very simple and therefore has a high bias, i.e. it is not able to find all significant links between features and result. This is understandable - our dataset has a lot of noise in it, and therefore simple linear regression, is not able to deal with it effectively. Neural networks performed much better, but the first one (shown in the lower left corner) fitted into the data too closely, which made it work significantly worse on the hold-out set. This means that it has a high variance - it fits into the noise and not into the intended output. This undesirable effect was mitigated, in the last model, by the use of regularisation.\n",
    "\n",
    "<p align=\"center\">\n",
    "<img src=\"https://res.cloudinary.com/dltf2/image/upload/v1563670257/workshops/dl_tf2_2019_07_21/1_qHqft4c0A7Kg1TPqpVpPDg_tsturf.gif\" width=450>\n",
    "</p>\n",
    "\n",
    "# Ways to prevent overfitting\n",
    "\n",
    "### L1 and L2 Regularizations\n",
    "\n",
    "One of the first methods we should try when we need to reduce overfitting is regularisation. It involves adding an extra element to the loss function, which punishes our model for being too complex or, in simple words, for using too high values in the weight matrix. This way we try to limit its flexibility, but also encourage it to build solutions based on multiple features. Two popular versions of this method are L1 - Least Absolute Deviations (LAD) and L2 - Least Square Errors (LS). Equations describing these regularisations are given below.\n",
    "In most cases the use of L1 is preferable, because it reduces the weight values of less important features to zero, very often eliminating them completely from the calculations. In a way, it is a built-in mechanism for automatic featur selection. Moreover, L2 does not perform very well on datasets with a large number of outliers. The use of value squares results in the model minimizing the impact of outliers at the expense of more popular examples.\n",
    "\n",
    "<p align=\"center\">\n",
    "$$\n",
    "\\begin{array}{rlrl}{J_{L 1}(W, b)} & {=\\frac{1}{m} \\sum_{i=1}^{m} L\\left(\\hat{y}^{(i)}, y^{(i)}\\right)+\\lambda\\|w\\|_{1}} & {\\|w\\|_{1}} & {=\\sum_{j=1}^{n_{x}}\\left|w_{j}\\right|} \\\\ {J_{L 2}(W, b)} & {=\\frac{1}{m} \\sum_{i=1}^{m} L\\left(\\hat{y}^{(i)}, y^{(i)}\\right)+\\lambda\\|w\\|_{2}} & {\\|w\\|_{2}} & {=\\sum_{j=1}^{n_{x}} w_{j}^{2}}\\end{array}\n",
    "$$\n",
    "</p>\n",
    "\n",
    "Increasing the λ value also increases the regularisation effect. Models with a very low λ coefficient value are very “turbulent”.\n",
    "\n",
    "# Dropout\n",
    "Another very popular method of regularization of neural networks is dropout. This idea is actually very simple - every unit of our neural network (except those belonging to the output layer) is given the probability p of being temporarily ignored in calculations. Hyper parameter p is called dropout rate and very often its default value is set to 0.5. Then, in each iteration, we randomly select the neurons that we drop according to the assigned probability. As a result, each time we work with a smaller neural network. The visualization below shows an example of a neural network subjected to a dropout. We can see how in each iteration random neurons from second and fourth layer are deactivated.\n",
    "\n",
    "<p align=\"center\">\n",
    "<img src=\"https://res.cloudinary.com/dltf2/image/upload/v1563671042/workshops/dl_tf2_2019_07_21/1_064lT1SXq_6F7uoc00V1fw_pcrcys.gif\" width=450>\n",
    "</p>\n",
    "\n",
    "# Early Stopping\n",
    "The graph below shows the change in accuracy values calculated on the test and cross-validation sets during subsequent iterations of learning process. We see right away that the model we get at the end is not the best we could have possibly create. To be honest, it is much worse than what we have had after 150 epochs. Why not interrupt the learning process before the model starts overfitting? This observation inspired one of the popular overfitting reduction method, namely early stopping.\n",
    "<p align=\"center\">\n",
    "<img src=\"https://res.cloudinary.com/dltf2/image/upload/v1563671264/workshops/dl_tf2_2019_07_21/1_iANsamYbzkuUwIBWDP21GQ_wd0lzg.gif\" width=450>\n",
    "</p>"
   ]
  },
  {
   "cell_type": "code",
   "execution_count": 0,
   "metadata": {
    "colab": {
     "base_uri": "https://localhost:8080/",
     "height": 68
    },
    "colab_type": "code",
    "id": "PGfuwt8DO0hE",
    "outputId": "e28efe4d-cd0f-4eb5-9f42-0a95821eeca7"
   },
   "outputs": [
    {
     "name": "stdout",
     "output_type": "stream",
     "text": [
      "\n",
      "x: (120, 2)\n",
      "y: (120,)\n"
     ]
    }
   ],
   "source": [
    "#@title ## Generate random x, y\n",
    "\n",
    "ov_num_samples = 40 #@param {type:\"integer\"}\n",
    "ov_dimensions = 2 #@param {type:\"integer\"}\n",
    "ov_num_classes = 3 #@param {type:\"integer\"}\n",
    "\n",
    "ov_x = np.random.randn(ov_num_samples * ov_num_classes, ov_dimensions)\n",
    "ov_y = np.array([[i] * ov_num_samples for i in range(ov_num_classes)])\n",
    "ov_y = ov_y.flatten()\n",
    "\n",
    "\n",
    "print()\n",
    "print('x: %s' % str(ov_x.shape))\n",
    "print('y: %s' % str(ov_y.shape))"
   ]
  },
  {
   "cell_type": "code",
   "execution_count": 0,
   "metadata": {
    "colab": {},
    "colab_type": "code",
    "id": "PawL7TOuQe_u"
   },
   "outputs": [],
   "source": [
    "#@title ## Preprocessing"
   ]
  },
  {
   "cell_type": "code",
   "execution_count": 0,
   "metadata": {
    "colab": {},
    "colab_type": "code",
    "id": "jqeCnWZHYZAZ"
   },
   "outputs": [],
   "source": [
    "#@title ## Create non-linear model"
   ]
  },
  {
   "cell_type": "code",
   "execution_count": 0,
   "metadata": {
    "colab": {},
    "colab_type": "code",
    "id": "abFE0s4DNuN2"
   },
   "outputs": [],
   "source": [
    "#@title ## Fit overfie model."
   ]
  },
  {
   "cell_type": "code",
   "execution_count": 0,
   "metadata": {
    "colab": {},
    "colab_type": "code",
    "id": "BNUZK8-xOCG-"
   },
   "outputs": [],
   "source": [
    "#@title ## Evaluating"
   ]
  },
  {
   "cell_type": "code",
   "execution_count": 0,
   "metadata": {
    "colab": {},
    "colab_type": "code",
    "id": "zkJRlc6XOIJX"
   },
   "outputs": [],
   "source": [
    "#@title ## Plotting"
   ]
  },
  {
   "cell_type": "code",
   "execution_count": 0,
   "metadata": {
    "colab": {},
    "colab_type": "code",
    "id": "00Z2FtHnOERI"
   },
   "outputs": [],
   "source": [
    "#@title ## Visualize the decision boundary"
   ]
  },
  {
   "cell_type": "code",
   "execution_count": 0,
   "metadata": {
    "colab": {},
    "colab_type": "code",
    "id": "RmFO4KO7OEaz"
   },
   "outputs": [],
   "source": [
    "#@title ## Confusion matrix"
   ]
  },
  {
   "cell_type": "markdown",
   "metadata": {
    "colab_type": "text",
    "id": "PvzMlkPWW5l7"
   },
   "source": [
    "# Regularization"
   ]
  },
  {
   "cell_type": "code",
   "execution_count": 0,
   "metadata": {
    "colab": {},
    "colab_type": "code",
    "id": "pGd8kRlDXDf_"
   },
   "outputs": [],
   "source": [
    "#@title ## Build non-linear model [MLP Model](https://en.wikipedia.org/wiki/Multilayer_perceptron)\n",
    "\n",
    "def build_non_linear_with_regularization(n_classes, n_units, n_features):\n",
    "    model = None\n",
    "    \n",
    "    return model"
   ]
  },
  {
   "cell_type": "code",
   "execution_count": 0,
   "metadata": {
    "colab": {},
    "colab_type": "code",
    "id": "MumF3mjsX-bi"
   },
   "outputs": [],
   "source": [
    "#@title ## Create non-linear model"
   ]
  },
  {
   "cell_type": "code",
   "execution_count": 0,
   "metadata": {
    "colab": {},
    "colab_type": "code",
    "id": "2ApWqGjDYgBv"
   },
   "outputs": [],
   "source": [
    "#@title ## Fit non-linear model with regularization."
   ]
  },
  {
   "cell_type": "code",
   "execution_count": 0,
   "metadata": {
    "colab": {},
    "colab_type": "code",
    "id": "QRxsKZoRYz-C"
   },
   "outputs": [],
   "source": [
    "#@title ## Evaluating"
   ]
  },
  {
   "cell_type": "code",
   "execution_count": 0,
   "metadata": {
    "colab": {},
    "colab_type": "code",
    "id": "BCJNDGB4Y3Xd"
   },
   "outputs": [],
   "source": [
    "#@title ## Plotting"
   ]
  },
  {
   "cell_type": "code",
   "execution_count": 0,
   "metadata": {
    "colab": {},
    "colab_type": "code",
    "id": "aiGopX79Y7Zl"
   },
   "outputs": [],
   "source": [
    "#@title ## Visualize the decision boundary"
   ]
  },
  {
   "cell_type": "code",
   "execution_count": 0,
   "metadata": {
    "colab": {},
    "colab_type": "code",
    "id": "UovSWQxKYusl"
   },
   "outputs": [],
   "source": [
    "#@title ## Confusion matrix"
   ]
  },
  {
   "cell_type": "markdown",
   "metadata": {
    "colab_type": "text",
    "id": "Bp4xAOELfJ9e"
   },
   "source": [
    "# Dropout"
   ]
  },
  {
   "cell_type": "markdown",
   "metadata": {
    "colab_type": "text",
    "id": "T0S7CbP8WkIl"
   },
   "source": [
    "A great technique to overcome overfitting is to increase the size of your data but this isn't always an option. Fortuntely, there are methods like regularization and dropout that can help create a more robust model. We've already seen regularization and we can easily add it in our optimizer to use it in PyTorch. \n",
    "\n",
    "Dropout is a technique (used only during training) that allows us to zero the outputs of neurons. We do this for p% of the total neurons in each layer and it changes every batch. Dropout prevents units from co-adapting too much to the data and acts as a sampling strategy since we drop a different set of neurons each time.\n",
    "\n",
    "<img src=\"https://res.cloudinary.com/dltf2/image/upload/v1563525054/workshops/dl_tf2_2019_07_21/dropout_wnnfju.png\" width=400>"
   ]
  },
  {
   "cell_type": "code",
   "execution_count": 0,
   "metadata": {
    "colab": {},
    "colab_type": "code",
    "id": "nI5ekqNGfMxB"
   },
   "outputs": [],
   "source": [
    "#@title ## Build non-linear model [MLP Model](https://en.wikipedia.org/wiki/Multilayer_perceptron)\n",
    "\n",
    "def build_non_linear_with_dropout(n_classes, n_units, n_features):\n",
    "    model = None\n",
    "    \n",
    "    return model"
   ]
  },
  {
   "cell_type": "code",
   "execution_count": 0,
   "metadata": {
    "colab": {},
    "colab_type": "code",
    "id": "Dx2NRjONZoWo"
   },
   "outputs": [],
   "source": [
    "#@title ## Create non-linear model"
   ]
  },
  {
   "cell_type": "code",
   "execution_count": 0,
   "metadata": {
    "colab": {},
    "colab_type": "code",
    "id": "ItHoFBr8Zybn"
   },
   "outputs": [],
   "source": [
    "#@title ## Fit non-linear model with dropout."
   ]
  },
  {
   "cell_type": "code",
   "execution_count": 0,
   "metadata": {
    "colab": {},
    "colab_type": "code",
    "id": "DowiVzKjZ40G"
   },
   "outputs": [],
   "source": [
    "#@title ## Evaluating"
   ]
  },
  {
   "cell_type": "code",
   "execution_count": 0,
   "metadata": {
    "colab": {},
    "colab_type": "code",
    "id": "hp2jDV0SZ-h2"
   },
   "outputs": [],
   "source": [
    "#@title ## Plotting"
   ]
  },
  {
   "cell_type": "code",
   "execution_count": 0,
   "metadata": {
    "colab": {},
    "colab_type": "code",
    "id": "CW2Eidm2aHau"
   },
   "outputs": [],
   "source": [
    "#@title ## Visualize the decision boundary"
   ]
  },
  {
   "cell_type": "code",
   "execution_count": 0,
   "metadata": {
    "colab": {},
    "colab_type": "code",
    "id": "VrM6te96aMAs"
   },
   "outputs": [],
   "source": [
    "#@title ## Confusion matrix"
   ]
  },
  {
   "cell_type": "markdown",
   "metadata": {
    "colab_type": "text",
    "id": "ZlLthq8cfNsS"
   },
   "source": [
    "# Visualization"
   ]
  },
  {
   "cell_type": "code",
   "execution_count": 0,
   "metadata": {
    "colab": {},
    "colab_type": "code",
    "id": "4OPdZttyfQeI"
   },
   "outputs": [],
   "source": [
    "#@title ## Build non-linear model [MLP Model](https://en.wikipedia.org/wiki/Multilayer_perceptron)\n",
    "\n",
    "def build_non_linear_v2(n_classes, n_units, n_features):\n",
    "    model = None\n",
    "    \n",
    "    return model"
   ]
  },
  {
   "cell_type": "code",
   "execution_count": 0,
   "metadata": {
    "colab": {},
    "colab_type": "code",
    "id": "qzZUKe0JbKYt"
   },
   "outputs": [],
   "source": [
    "#@title ## Create non-linear model"
   ]
  },
  {
   "cell_type": "code",
   "execution_count": 0,
   "metadata": {
    "colab": {},
    "colab_type": "code",
    "id": "0e3KF37Xcxct"
   },
   "outputs": [],
   "source": [
    "#@title # Summary of the model"
   ]
  },
  {
   "cell_type": "code",
   "execution_count": 0,
   "metadata": {
    "colab": {},
    "colab_type": "code",
    "id": "2V6N8haKdQTs"
   },
   "outputs": [],
   "source": [
    "#@title ## Model Arch"
   ]
  },
  {
   "cell_type": "code",
   "execution_count": 0,
   "metadata": {
    "colab": {},
    "colab_type": "code",
    "id": "4WY-B6fTdJSv"
   },
   "outputs": [],
   "source": [
    "#@title ## Tensorboard callbacks"
   ]
  },
  {
   "cell_type": "code",
   "execution_count": 0,
   "metadata": {
    "colab": {},
    "colab_type": "code",
    "id": "_Uj-pZOac9Bi"
   },
   "outputs": [],
   "source": [
    "#@title ## Fit non-linear model."
   ]
  },
  {
   "cell_type": "code",
   "execution_count": 0,
   "metadata": {
    "colab": {},
    "colab_type": "code",
    "id": "zbqsTvnserDO"
   },
   "outputs": [],
   "source": [
    "#@title ## Plotting"
   ]
  },
  {
   "cell_type": "code",
   "execution_count": 0,
   "metadata": {
    "colab": {},
    "colab_type": "code",
    "id": "lksslsofgRLR"
   },
   "outputs": [],
   "source": [
    "#@title ## Visualize the decision boundary"
   ]
  },
  {
   "cell_type": "code",
   "execution_count": 0,
   "metadata": {
    "colab": {},
    "colab_type": "code",
    "id": "ILFn9Ck_gTOt"
   },
   "outputs": [],
   "source": [
    "#@title ## Confusion matrix"
   ]
  },
  {
   "cell_type": "markdown",
   "metadata": {
    "colab_type": "text",
    "id": "sAImu-bRfRkN"
   },
   "source": [
    "# Tensorboard"
   ]
  },
  {
   "cell_type": "code",
   "execution_count": 0,
   "metadata": {
    "colab": {},
    "colab_type": "code",
    "id": "lWLgzp_KfZG2"
   },
   "outputs": [],
   "source": [
    "# %load_ext tensorboard"
   ]
  },
  {
   "cell_type": "code",
   "execution_count": 0,
   "metadata": {
    "colab": {},
    "colab_type": "code",
    "id": "O5O-PLn0e_I-"
   },
   "outputs": [],
   "source": [
    "# %tensorboard --logdir logs/scalars"
   ]
  },
  {
   "cell_type": "code",
   "execution_count": 0,
   "metadata": {
    "colab": {},
    "colab_type": "code",
    "id": "gB0acKsZfMSA"
   },
   "outputs": [],
   "source": []
  }
 ],
 "metadata": {
  "accelerator": "GPU",
  "colab": {
   "collapsed_sections": [
    "804BK4BWYUY9"
   ],
   "name": "Notebook 003 - Students.ipynb",
   "provenance": [],
   "version": "0.3.2"
  },
  "kernelspec": {
   "display_name": "Python 3",
   "language": "python",
   "name": "python3"
  },
  "language_info": {
   "codemirror_mode": {
    "name": "ipython",
    "version": 3
   },
   "file_extension": ".py",
   "mimetype": "text/x-python",
   "name": "python",
   "nbconvert_exporter": "python",
   "pygments_lexer": "ipython3",
   "version": "3.7.3"
  }
 },
 "nbformat": 4,
 "nbformat_minor": 1
}
