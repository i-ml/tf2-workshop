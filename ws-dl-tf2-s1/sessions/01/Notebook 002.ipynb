{
 "cells": [
  {
   "cell_type": "markdown",
   "metadata": {
    "colab_type": "text",
    "id": "HZb4kHVxjw7h"
   },
   "source": [
    "<p align=\"center\">\n",
    "  <img src=\"https://res.cloudinary.com/dltf2/image/upload/v1563562296/workshops/dl_tf2_2019_07_21/tf-1-vs-2_ecqnsu.png\">\n",
    "</p>\n",
    "\n",
    "\n",
    "# Overview\n",
    "\n",
    "TensorFlow began its life in 2011 as DisBelief, an internal, closed source project at Google. DisBelief was a machine learning system that employed deep learning neural networks. This system morphed into TensorFlow, which was released to the developer community under an Apache 2.0 open source license, on November 9, 2015. Version 1.0.0 made its appearance on February 11, 2017. There have been a number of point releases since then that have incorporated a wealth of new features.\n",
    "\n",
    "TensorFlow quickly rose to become the most widely used machine learning library today. And not without reason.\n",
    "\n",
    "<p align=\"center\">\n",
    "  <img src=\"https://res.cloudinary.com/dltf2/image/upload/v1563613077/workshops/dl_tf2_2019_07_21/tf-popularity-2_p7ie0q.jpg\" align=\"middle\" width=\"800\">\n",
    "</p>\n",
    "\n",
    "Google released the TensorFlow 2.0 alpha version in March 2019. The official 2.0 release is expected in Q2 2019. TensorFlow 2.0 promises simplicity and ease of execution while maintaining TensorFlow’s flexibility and scalability. "
   ]
  },
  {
   "cell_type": "markdown",
   "metadata": {
    "colab_type": "text",
    "id": "bzj3m0adzUFf"
   },
   "source": [
    "# TensorFlow Ecosystem\n",
    "\n",
    "- Language Support\n",
    "- Computation Graph\n",
    "- Gradients\n",
    "- CUDA\n",
    "- Multi-GPU Support\n",
    "- Eager Execution (> 1.5, > 1.7)\n",
    "- Debugger\n",
    "- TensorBoard\n",
    "- TPU Support\n",
    "- TensorRT\n",
    "- `tf.contrib`\n",
    "- TensorFlow Hub"
   ]
  },
  {
   "cell_type": "markdown",
   "metadata": {
    "colab_type": "text",
    "id": "3whpRUZlzlAS"
   },
   "source": [
    "# TensorFlow 1.x [`tf.contrib`]\n",
    "\n",
    "<p align=\"center\">\n",
    "    <img src=\"https://res.cloudinary.com/dltf2/image/upload/v1563616515/workshops/dl_tf2_2019_07_21/tf-contrib_eqqet2.png\" align=\"middle\" />\n",
    "</p>"
   ]
  },
  {
   "cell_type": "markdown",
   "metadata": {
    "colab_type": "text",
    "id": "iJILzB_6v3X5"
   },
   "source": [
    "# TensorFlow 1.x [Computation Graph]\n",
    "\n",
    "<p align=\"center\">\n",
    "    <img src=\"https://res.cloudinary.com/dltf2/image/upload/v1563614038/workshops/dl_tf2_2019_07_21/tensors_flowing_fxo4m7.gif\" align=\"middle\" />\n",
    "</p>"
   ]
  },
  {
   "cell_type": "markdown",
   "metadata": {
    "colab_type": "text",
    "id": "Lve-I0_Dr7qd"
   },
   "source": [
    "# TensorFlow 1.x Vs. 2.0 [Eager Mode]\n",
    "\n",
    "\n",
    "<p align=\"center\">\n",
    "    <img src=\"https://res.cloudinary.com/dltf2/image/upload/v1563615390/workshops/dl_tf2_2019_07_21/tf-1-2-eager_ix9hil.jpg\" align=\"middle\" />\n",
    "</p>\n",
    "\n"
   ]
  },
  {
   "cell_type": "markdown",
   "metadata": {
    "colab_type": "text",
    "id": "UEvgiblYwUji"
   },
   "source": [
    "# TensorFlow 1.x Vs. 2.0 [Graph]\n",
    "\n",
    "\n",
    "<p align=\"center\">\n",
    "    <img src=\"https://res.cloudinary.com/dltf2/image/upload/v1563616009/workshops/dl_tf2_2019_07_21/tf-1-2-graph_h7noeb.jpg\" align=\"middle\" />\n",
    "</p>\n",
    "\n"
   ]
  },
  {
   "cell_type": "markdown",
   "metadata": {
    "colab_type": "text",
    "id": "fvmydgwPx5Sn"
   },
   "source": [
    "# TensorFlow 1.x Vs. 2.0 [Architecture Layer]\n",
    "\n",
    "\n",
    "<p align=\"center\">\n",
    "    <img src=\"https://res.cloudinary.com/dltf2/image/upload/v1563616214/workshops/dl_tf2_2019_07_21/tf-1-2-layer_gwci0e.jpg\" align=\"middle\" />\n",
    "</p>\n",
    "\n"
   ]
  },
  {
   "cell_type": "markdown",
   "metadata": {
    "colab_type": "text",
    "id": "tjJZPjNZzBlM"
   },
   "source": [
    "# TensorFlow 2.0 [Defining Model v1]\n",
    "\n",
    "<p align=\"center\">\n",
    "    <img src=\"https://res.cloudinary.com/dltf2/image/upload/v1563616414/workshops/dl_tf2_2019_07_21/tf-2-demo-1_gtsxzk.jpg\" align=\"middle\" />\n",
    "</p>"
   ]
  },
  {
   "cell_type": "markdown",
   "metadata": {
    "colab_type": "text",
    "id": "AWnW6djQzWag"
   },
   "source": [
    "# TensorFlow 2.0 [Defining Model v2]\n",
    "\n",
    "<p align=\"center\">\n",
    "    <img src=\"https://res.cloudinary.com/dltf2/image/upload/v1563616415/workshops/dl_tf2_2019_07_21/tf-2-demo-2_xdxln8.jpg\" align=\"middle\" />\n",
    "</p>"
   ]
  },
  {
   "cell_type": "markdown",
   "metadata": {
    "colab_type": "text",
    "id": "uL99EbKczalp"
   },
   "source": [
    "# TensorFlow 2.0 [Defining Model v3]\n",
    "\n",
    "<p align=\"center\">\n",
    "    <img src=\"https://res.cloudinary.com/dltf2/image/upload/v1563616415/workshops/dl_tf2_2019_07_21/tf-2-demo-3_bdigmm.png\" align=\"middle\" />\n",
    "</p>"
   ]
  }
 ],
 "metadata": {
  "colab": {
   "collapsed_sections": [],
   "name": "Notebook 002.ipynb",
   "provenance": [],
   "version": "0.3.2"
  },
  "kernelspec": {
   "display_name": "Python 3",
   "language": "python",
   "name": "python3"
  },
  "language_info": {
   "codemirror_mode": {
    "name": "ipython",
    "version": 3
   },
   "file_extension": ".py",
   "mimetype": "text/x-python",
   "name": "python",
   "nbconvert_exporter": "python",
   "pygments_lexer": "ipython3",
   "version": "3.7.3"
  }
 },
 "nbformat": 4,
 "nbformat_minor": 1
}
