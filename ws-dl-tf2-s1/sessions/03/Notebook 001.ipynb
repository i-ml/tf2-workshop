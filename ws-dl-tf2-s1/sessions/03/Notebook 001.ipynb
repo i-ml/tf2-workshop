{
  "nbformat": 4,
  "nbformat_minor": 0,
  "metadata": {
    "accelerator": "GPU",
    "colab": {
      "name": "Notebook 001 Student.ipynb",
      "version": "0.3.2",
      "provenance": [],
      "collapsed_sections": [
        "wpEV8bd7xK-8",
        "1Bv7E-EpfMF1",
        "s589KauT7gNc",
        "Mz1zPcxrrbbm"
      ]
    },
    "kernelspec": {
      "display_name": "Python 3",
      "language": "python",
      "name": "python3"
    },
    "language_info": {
      "codemirror_mode": {
        "name": "ipython",
        "version": 3
      },
      "file_extension": ".py",
      "mimetype": "text/x-python",
      "name": "python",
      "nbconvert_exporter": "python",
      "pygments_lexer": "ipython3",
      "version": "3.7.3"
    }
  },
  "cells": [
    {
      "cell_type": "markdown",
      "metadata": {
        "colab_type": "text",
        "id": "8JwRonilYEbP"
      },
      "source": [
        "<img alt=\"Platforms\" height=\"45px\" src=\"https://res.cloudinary.com/dltf2/image/upload/v1563482460/workshops/dl_tf2_2019_07_21/logo_chi03g.png\" align=\"left\" hspace=\"10px\" vspace=\"0px\">\n",
        "\n",
        "\n",
        "# Welcome to Session 02 [Convolutional Neural Network (CNN)]"
      ]
    },
    {
      "cell_type": "markdown",
      "metadata": {
        "colab_type": "text",
        "id": "riDGLISqXW5b"
      },
      "source": [
        "This is a [Google Colaboratory](https://colab.research.google.com/notebooks/welcome.ipynb) notebook file. Python programs are run directly in the browser—a great way to learn and use TensorFlow. To follow this tutorial, run the notebook in Google Colab by clicking the button at the top of this page.\n",
        "\n",
        "1. In Colab, connect to a Python runtime: At the top-right of the menu bar, select *CONNECT*.\n",
        "2. Run all the notebook code cells: Select *Runtime* > *Run all*."
      ]
    },
    {
      "cell_type": "markdown",
      "metadata": {
        "colab_type": "text",
        "id": "X5c4YMEgYIzr"
      },
      "source": [
        "# Overview"
      ]
    },
    {
      "cell_type": "markdown",
      "metadata": {
        "colab_type": "text",
        "id": "yyBX3DmPcfU3"
      },
      "source": [
        "Architecture of a traditional CNN ― Convolutional neural networks, also known as CNNs, are a specific type of neural networks that are generally composed of the following layers:\n",
        "<p align=\"center\">\n",
        "<img src=\"https://res.cloudinary.com/dltf2/image/upload/v1563953370/workshops/dl_tf2_2019_07_21/architecture-cnn_zaidol.png\" width=450>\n",
        "    </p>\n"
      ]
    },
    {
      "cell_type": "markdown",
      "metadata": {
        "id": "cEzJ9F-Ib3l1",
        "colab_type": "text"
      },
      "source": [
        "# Types of Layer"
      ]
    },
    {
      "cell_type": "markdown",
      "metadata": {
        "colab_type": "text",
        "id": "NWxbC-z368u_"
      },
      "source": [
        "**Convolution layer (CONV)**  ― The convolution layer (CONV) uses filters that perform convolution operations as it is scanning the input I with respect to its dimensions. Its hyperparameters include the filter size F and stride S. The resulting output O is called feature map or activation map.\n",
        "\n",
        "<p align=\"center\">\n",
        "<img src=\"https://res.cloudinary.com/dltf2/image/upload/v1563954096/workshops/dl_tf2_2019_07_21/convolution-layer-a_rhlkan.png\" width=\"450\">\n",
        "</p>\n",
        "\n",
        "\n",
        "<p align=\"center\">\n",
        "<img src=\"https://res.cloudinary.com/dltf2/image/upload/v1563996009/workshops/dl_tf2_2019_07_21/cnn_1_bvkdb9.gif\">\n",
        "</p>\n",
        "\n",
        "    \n",
        "Remark: the convolution step can be generalized to the 1D and 3D cases as well.\n",
        "\n",
        "**Pooling (POOL)**  ―  The pooling layer (POOL) is a downsampling operation, typically applied after a convolution layer, which does some spatial invariance. In particular, max and average pooling are special kinds of pooling where the maximum and average value is taken, respectively.\n",
        "\n",
        "\n",
        "<center>\n",
        "    <table align=\"center\">\n",
        "        <tbody>\n",
        "            <tr>\n",
        "                <td align=\"center\"><strong>Type</strong></td>\n",
        "                <td align=\"center\"><strong>Max pooling</strong></td>\n",
        "                <td align=\"center\"><strong>Average pooling</strong></td>\n",
        "            </tr>\n",
        "            <tr>\n",
        "                <td align=\"center\"><strong>Purpose</strong></td>\n",
        "                <td align=\"left\">Each pooling operation selects the maximum value of the current view</td>\n",
        "                <td align=\"left\">Each pooling operation averages the values of the current view</td>\n",
        "            </tr>\n",
        "            <tr>\n",
        "                <td align=\"center\"><strong>Illustration</strong></td>\n",
        "                <td align=\"center\"><img src=\"https://res.cloudinary.com/dltf2/image/upload/v1563955643/workshops/dl_tf2_2019_07_21/max-pooling-a_d6qosg.png\" align=\"middle\" width=\"400\"></td>\n",
        "                <td align=\"center\"><img src=\"https://res.cloudinary.com/dltf2/image/upload/v1563955642/workshops/dl_tf2_2019_07_21/average-pooling-a_bzgb0i.png\" align=\"middle\" width=\"400\"></td>\n",
        "            </tr>\n",
        "            <tr>\n",
        "                <td align=\"center\"><strong>Comments</strong></td>\n",
        "                <td align=\"left\">\n",
        "                    <ul>\n",
        "                        <li>Preserves detected features</li>\n",
        "                        <li>Most commonly used</li>\n",
        "                    </ul>\n",
        "                </td>\n",
        "                <td align=\"left\">\n",
        "                    <ul>\n",
        "                        <li>Downsamples feature map</li>\n",
        "                        <li>Used in LeNet</li>\n",
        "                    </ul>\n",
        "            </tr>\n",
        "        </tbody>\n",
        "    </table>\n",
        "</center>\n",
        "\n",
        "**Fully Connected (FC)** ― The fully connected layer (FC) operates on a flattened input where each input is connected to all neurons. If present, FC layers are usually found towards the end of CNN architectures and can be used to optimize objectives such as class scores.\n",
        "\n",
        "<p align=\"center\">\n",
        "<img src=\"https://res.cloudinary.com/dltf2/image/upload/v1563957712/workshops/dl_tf2_2019_07_21/fully-connected_jk2kmb.png\" width=450>\n",
        "    </p>\n",
        "\n",
        "\n",
        "## Filter hyperparameters\n",
        "The convolution layer contains filters for which it is important to know the meaning behind its hyperparameters.\n",
        "\n",
        "**Dimensions of a filter** ― A filter of size F×F applied to an input containing C channels is a \n",
        "F×F×C volume that performs convolutions on an input of size I×I×C and produces an output feature map (also called activation map) of size O×O×1.\n",
        "\n",
        "<p align=\"center\">\n",
        "<img src=\"https://res.cloudinary.com/dltf2/image/upload/v1563958042/workshops/dl_tf2_2019_07_21/dimensions-filter_cbxnum.png\" width=450>\n",
        "    </p>\n",
        "\n",
        "Remark: the application of K filters of size F×F results in an output feature map of size O×O×K.\n",
        "\n",
        "**Stride** ― For a convolutional or a pooling operation, the stride S denotes the number of pixels by which the window moves after each operation.\n",
        "<p align=\"center\">\n",
        "<img src=\"https://res.cloudinary.com/dltf2/image/upload/v1563958229/workshops/dl_tf2_2019_07_21/stride_qcl0vx.png\" width=450>\n",
        "    </p>\n",
        "    \n",
        "**Zero-padding** ― Zero-padding denotes the process of adding P zeroes to each side of the boundaries of the input. This value can either be manually specified or automatically set through one of the three modes detailed below:   \n",
        "\n",
        "\n",
        "<center>\n",
        "    <table style=\"table-layout:fixed; width:100%; min-width:700px;\">\n",
        "        <colgroup>\n",
        "            <col style=\"width:115px;\">\n",
        "                <col style=\"width:33%\">\n",
        "                    <col style=\"width:33%\">\n",
        "                        <col style=\"width:33%\">\n",
        "        </colgroup>\n",
        "        <tbody>\n",
        "            <tr>\n",
        "                <td align=\"center\"><b>Mode</b></td>\n",
        "                <td align=\"center\">Valid</td>\n",
        "                <td align=\"center\">Same</td>\n",
        "                <td align=\"center\">Full</td>\n",
        "            </tr>\n",
        "            <tr>\n",
        "                <td align=\"center\"><b>Illustration</b></td>\n",
        "                <td align=\"center\"><img class=\"img-responsive\" src=\"https://res.cloudinary.com/dltf2/image/upload/v1563992382/workshops/dl_tf2_2019_07_21/padding-valid-a_hwebcq.png\" alt=\"Padding valid\" width=\"200\"></td>\n",
        "                <td align=\"center\"><img class=\"img-responsive\" src=\"https://res.cloudinary.com/dltf2/image/upload/v1563992386/workshops/dl_tf2_2019_07_21/padding-same-a_h52ace.png\" alt=\"Padding same\" width=\"200\"></td>\n",
        "                <td align=\"center\"><img class=\"img-responsive\" src=\"https://res.cloudinary.com/dltf2/image/upload/v1563992390/workshops/dl_tf2_2019_07_21/padding-full-a_dprvky.png\" alt=\"Padding full\" width=\"200\"></td>\n",
        "            </tr>\n",
        "            <tr>\n",
        "                <td align=\"center\"><b>Purpose</b></td>\n",
        "                <td align=\"left\">\n",
        "                \t<ul>\n",
        "                    \t<li>No padding</li>\n",
        "                      \t<li>Drops last convolution if dimensions do not match</li>\n",
        "                    </ul>\n",
        "                </td>\n",
        "                <td align=\"left\">\n",
        "                \t<ul>\n",
        "                      \t<li>Output size is mathematically convenient</li>\n",
        "                        <li>Also called 'half' padding</li>\n",
        "                    </ul>\n",
        "                </td>\n",
        "                <td align=\"left\">\n",
        "                \t<ul>\n",
        "                    \t<li>Maximum padding such that end convolutions are applied on the limits of the input</li>\n",
        "                      \t<li>Filter 'sees' the input end-to-end</li>\n",
        "                    </ul>\n",
        "                </td>\n",
        "            </tr>\n",
        "        </tbody>\n",
        "    </table>\n",
        "</center>\n",
        "\n",
        "\n",
        "\n",
        "## Commonly used activation functions\n",
        "\n",
        "**Rectified Linear Unit** ― The rectified linear unit layer (ReLU) is an activation function \n",
        "g that is used on all elements of the volume. It aims at introducing non-linearities to the network. Its variants are summarized in the table below:\n",
        "\n",
        "\n",
        "<center>\n",
        "    <table style=\"table-layout:fixed; width:100%; min-width:650px;\">\n",
        "        <colgroup>\n",
        "            <col style=\"width:33%\">\n",
        "                <col style=\"width:33%\">\n",
        "                    <col style=\"width:33%\">\n",
        "        </colgroup>\n",
        "        <tbody>\n",
        "            <tr>\n",
        "                <td align=\"center\"><b>ReLU</b></td>\n",
        "                <td align=\"center\"><b>Leaky ReLU</b></td>\n",
        "                <td align=\"center\"><b>ELU</b></td>\n",
        "            </tr>\n",
        "            <tr>\n",
        "                <td align=\"center\">$$g(z)=\\max(0,z)$$</td>\n",
        "                <td align=\"center\">$$g(z)=\\max(\\epsilon z,z) \\\\ with\\quad \\epsilon\\ll1$$</td>\n",
        "                <td align=\"center\">$$g(z)=\\max(\\alpha(e^z-1),z) \\\\ with\\quad \\alpha\\ll1$$</td>\n",
        "            </tr>\n",
        "            <tr>\n",
        "                <td align=\"center\"><img width=\"250\" src=\"https://res.cloudinary.com/dltf2/image/upload/v1563993894/workshops/dl_tf2_2019_07_21/relu_r2t71o.png\" alt=\"ReLU\"></td>\n",
        "                <td align=\"center\"><img width=\"250\" src=\"https://res.cloudinary.com/dltf2/image/upload/v1563993894/workshops/dl_tf2_2019_07_21/leaky-relu_xnfly6.png\" alt=\"Leaky ReLU\"></td>\n",
        "                <td align=\"center\"><img width=\"250\" src=\"https://res.cloudinary.com/dltf2/image/upload/v1563993890/workshops/dl_tf2_2019_07_21/elu_blcsph.png\" alt=\"ELU\"></td>\n",
        "            </tr>\n",
        "            <tr>\n",
        "                <td align=\"left\">• Non-linearity complexities biologically interpretable</td>\n",
        "                <td align=\"left\">• Addresses dying ReLU issue for negative values</td>\n",
        "                <td align=\"left\">• Differentiable everywhere</td>\n",
        "            </tr>\n",
        "        </tbody>\n",
        "    </table>\n",
        "</center>\n",
        "\n",
        "**Softmax** ― The softmax step can be seen as a generalized logistic function that takes as input a vector of scores x∈Rn and outputs a vector of output probability p∈Rn through a softmax function at the end of the architecture. It is defined as follows:\n",
        "\n",
        "\n",
        "<p align=\"center\">\n",
        "$$\\boxed{p=\\begin{pmatrix}p_1\\\\\\vdots\\\\p_n\\end{pmatrix}}\\quad\\textrm{where}\\quad\\boxed{p_i=\\frac{e^{x_i}}{\\displaystyle\\sum_{j=1}^ne^{x_j}}}$$\n",
        "</p>\n"
      ]
    },
    {
      "cell_type": "markdown",
      "metadata": {
        "colab_type": "text",
        "id": "99tGhTKyXCDk"
      },
      "source": [
        "# Implementing The Model"
      ]
    },
    {
      "cell_type": "markdown",
      "metadata": {
        "colab_type": "text",
        "id": "2wp3gHEvXZeF"
      },
      "source": [
        "## Initialization"
      ]
    },
    {
      "cell_type": "markdown",
      "metadata": {
        "colab_type": "text",
        "id": "LsfhyUBEkrWv"
      },
      "source": [
        "### Mounting"
      ]
    },
    {
      "cell_type": "code",
      "metadata": {
        "colab_type": "code",
        "id": "1BxPwj27YIUb",
        "outputId": "00baf156-195d-4303-b31e-31b0b40fc8bd",
        "colab": {
          "base_uri": "https://localhost:8080/",
          "height": 122
        }
      },
      "source": [
        "# Mounting Gdrive\n",
        "\n",
        "USE_G_COLAB = True\n",
        "\n",
        "if USE_G_COLAB:\n",
        "    from google.colab import drive\n",
        "\n",
        "    \n",
        "    drive.mount('/content/drive', force_remount=True)"
      ],
      "execution_count": 0,
      "outputs": [
        {
          "output_type": "stream",
          "text": [
            "Go to this URL in a browser: https://accounts.google.com/o/oauth2/auth?client_id=947318989803-6bn6qk8qdgf4n4g3pfee6491hc0brc4i.apps.googleusercontent.com&redirect_uri=urn%3Aietf%3Awg%3Aoauth%3A2.0%3Aoob&scope=email%20https%3A%2F%2Fwww.googleapis.com%2Fauth%2Fdocs.test%20https%3A%2F%2Fwww.googleapis.com%2Fauth%2Fdrive%20https%3A%2F%2Fwww.googleapis.com%2Fauth%2Fdrive.photos.readonly%20https%3A%2F%2Fwww.googleapis.com%2Fauth%2Fpeopleapi.readonly&response_type=code\n",
            "\n",
            "Enter your authorization code:\n",
            "··········\n",
            "Mounted at /content/drive\n"
          ],
          "name": "stdout"
        }
      ]
    },
    {
      "cell_type": "code",
      "metadata": {
        "colab_type": "code",
        "id": "-YLgGJSWq7JV",
        "colab": {}
      },
      "source": [
        "# Project Root\n",
        "\n",
        "root_dir = ''\n",
        "\n",
        "if USE_G_COLAB:\n",
        "    root_dir = '/content/drive/My Drive/workshops/2019_07_21/sessions_01/'"
      ],
      "execution_count": 0,
      "outputs": []
    },
    {
      "cell_type": "markdown",
      "metadata": {
        "colab_type": "text",
        "id": "OlHs0uZjktKv"
      },
      "source": [
        "### Install Requirement"
      ]
    },
    {
      "cell_type": "code",
      "metadata": {
        "colab_type": "code",
        "id": "eK7oq9t5q9jR",
        "outputId": "eb2a113e-e0c9-4c8d-8ea0-d3ead5d99d90",
        "colab": {
          "base_uri": "https://localhost:8080/",
          "height": 68
        }
      },
      "source": [
        "!pip install -q tensorflow-gpu==2.0.0-beta1\n",
        "!pip install -qU watermark"
      ],
      "execution_count": 0,
      "outputs": [
        {
          "output_type": "stream",
          "text": [
            "\u001b[K     |████████████████████████████████| 348.9MB 50kB/s \n",
            "\u001b[K     |████████████████████████████████| 3.1MB 48.6MB/s \n",
            "\u001b[K     |████████████████████████████████| 501kB 49.3MB/s \n",
            "\u001b[?25h"
          ],
          "name": "stdout"
        }
      ]
    },
    {
      "cell_type": "markdown",
      "metadata": {
        "colab_type": "text",
        "id": "V9ux4CYMk0Ay"
      },
      "source": [
        "### Custom Matplotlib Style"
      ]
    },
    {
      "cell_type": "code",
      "metadata": {
        "colab_type": "code",
        "id": "rh4MSwC6toZD",
        "colab": {}
      },
      "source": [
        "mpl_style = \"https://gist.githubusercontent.com/m3hrdadfi/af8aca01094afb7d3e5b46de9ad8d509/raw/871ec5d721a3b438c3c896718ea4aafc91ea9744/gadfly.mplstyle\"\n",
        "\n",
        "!wget -q $mpl_style -O /root/.config/matplotlib/matplotlibrc"
      ],
      "execution_count": 0,
      "outputs": []
    },
    {
      "cell_type": "markdown",
      "metadata": {
        "colab_type": "text",
        "id": "3sfTb8Vfk4zU"
      },
      "source": [
        "### General Paramas\n",
        "\n",
        "A random seed is a number used to initialize a pseudorandom number generator. For a seed to be used in a pseudorandom number generator, it does not need to be random"
      ]
    },
    {
      "cell_type": "code",
      "metadata": {
        "colab_type": "code",
        "id": "_yM29O0kuLHd",
        "colab": {}
      },
      "source": [
        "RANDOM_SEED = 141"
      ],
      "execution_count": 0,
      "outputs": []
    },
    {
      "cell_type": "markdown",
      "metadata": {
        "colab_type": "text",
        "id": "2VMjya4XlEEc"
      },
      "source": [
        "### Import requried packages"
      ]
    },
    {
      "cell_type": "code",
      "metadata": {
        "colab_type": "code",
        "id": "YsoYus6YlFBQ",
        "outputId": "5e76fdce-cc4f-49a9-83f0-32133e764c6b",
        "colab": {
          "base_uri": "https://localhost:8080/",
          "height": 51
        }
      },
      "source": [
        "import tensorflow as tf\n",
        "\n",
        "import requests\n",
        "import numpy as np\n",
        "import pandas as pd\n",
        "\n",
        "from sklearn.model_selection import train_test_split\n",
        "from sklearn.preprocessing import StandardScaler\n",
        "from sklearn.metrics import classification_report, confusion_matrix\n",
        "from sklearn.utils import shuffle\n",
        "\n",
        "import matplotlib as mpl\n",
        "import matplotlib.pyplot as plt\n",
        "\n",
        "import cv2\n",
        "\n",
        "import random\n",
        "import sys\n",
        "import io\n",
        "import re\n",
        "import time\n",
        "from datetime import datetime\n",
        "import os\n",
        "import struct\n",
        "import itertools\n",
        "from tqdm import tqdm\n",
        "\n",
        "from pprint import pprint\n",
        "\n",
        "\n",
        "%matplotlib inline\n",
        "mpl.rc_file(mpl.matplotlib_fname())\n",
        "\n",
        "%load_ext tensorboard"
      ],
      "execution_count": 0,
      "outputs": [
        {
          "output_type": "stream",
          "text": [
            "The tensorboard extension is already loaded. To reload it, use:\n",
            "  %reload_ext tensorboard\n"
          ],
          "name": "stdout"
        }
      ]
    },
    {
      "cell_type": "markdown",
      "metadata": {
        "colab_type": "text",
        "id": "4CHKob5-lJmP"
      },
      "source": [
        "## Persian MNIST\n",
        "\n",
        "Data Set Information:\n",
        "\n",
        "\n",
        "Attribute Information:\n",
        "1. pixels\n",
        "2. class: \n",
        "    - 0\n",
        "    - 1\n",
        "    - 2\n",
        "    - 3\n",
        "    - 4\n",
        "    - 5\n",
        "    - 6\n",
        "    - 7\n",
        "    - 8\n",
        "    - 9"
      ]
    },
    {
      "cell_type": "code",
      "metadata": {
        "colab_type": "code",
        "id": "wKYZh8xPlKH5",
        "outputId": "0e8b61aa-0fe8-4294-92c6-3fa9372542c0",
        "colab": {
          "base_uri": "https://localhost:8080/",
          "height": 547
        }
      },
      "source": [
        "!wget https://www.dropbox.com/s/op3ht07lfou9lbz/DigitDB.zip\n",
        "!unzip DigitDB.zip\n",
        "!ls "
      ],
      "execution_count": 0,
      "outputs": [
        {
          "output_type": "stream",
          "text": [
            "--2019-07-24 14:55:36--  https://www.dropbox.com/s/op3ht07lfou9lbz/DigitDB.zip\n",
            "Resolving www.dropbox.com (www.dropbox.com)... 162.125.80.1, 2620:100:6030:1::a27d:5001\n",
            "Connecting to www.dropbox.com (www.dropbox.com)|162.125.80.1|:443... connected.\n",
            "HTTP request sent, awaiting response... 301 Moved Permanently\n",
            "Location: /s/raw/op3ht07lfou9lbz/DigitDB.zip [following]\n",
            "--2019-07-24 14:55:36--  https://www.dropbox.com/s/raw/op3ht07lfou9lbz/DigitDB.zip\n",
            "Reusing existing connection to www.dropbox.com:443.\n",
            "HTTP request sent, awaiting response... 302 Found\n",
            "Location: https://uc3d495a9fee00a812ada14c6e90.dl.dropboxusercontent.com/cd/0/inline/AlQODTFM7hxehLsMn6A_Gfpe-u2kDrnLNR9rHkQsNMDjyJJEHNV6fVIXaAupr6mGYxF1ZIE-1Q_XYmYzLEzn8iVjM3iX1e1iaVOVBqHuNWtmMg/file# [following]\n",
            "--2019-07-24 14:55:37--  https://uc3d495a9fee00a812ada14c6e90.dl.dropboxusercontent.com/cd/0/inline/AlQODTFM7hxehLsMn6A_Gfpe-u2kDrnLNR9rHkQsNMDjyJJEHNV6fVIXaAupr6mGYxF1ZIE-1Q_XYmYzLEzn8iVjM3iX1e1iaVOVBqHuNWtmMg/file\n",
            "Resolving uc3d495a9fee00a812ada14c6e90.dl.dropboxusercontent.com (uc3d495a9fee00a812ada14c6e90.dl.dropboxusercontent.com)... 162.125.80.6, 2620:100:6030:6::a27d:5006\n",
            "Connecting to uc3d495a9fee00a812ada14c6e90.dl.dropboxusercontent.com (uc3d495a9fee00a812ada14c6e90.dl.dropboxusercontent.com)|162.125.80.6|:443... connected.\n",
            "HTTP request sent, awaiting response... 302 FOUND\n",
            "Location: /cd/0/inline2/AlQRAmjXIBvz5iF6PoNSmVOf6L4Sfjaqr2UhodiMoFvJTrYxB3WrHGuX2BQEsKTgEW13DMJRvh7GV1SY1VMmygdrqCEojaGFgIffy-_1O79P7RrdM7Vfil1jWpLMVrS-gEc1hh3FyRVhDVHfNf9Fv3yT5yiaH7NabIPUytkqb3Mr1YhSsU_NtWKp-hZKQAXCi7r6ZaT2NEWwoMYqVN1cN7b_8aSk8gy_iCVcOAVRVME4jnz0HAicTK6QHaYCfj1WKa0bUnx45J80n_-nnS4UNuAOBqCqnQlUn0nZPHfNebFo3Fj1h4xVz9jCKB6SeC3IsUbFN5cn97LDqTh21zSOtRb5/file [following]\n",
            "--2019-07-24 14:55:37--  https://uc3d495a9fee00a812ada14c6e90.dl.dropboxusercontent.com/cd/0/inline2/AlQRAmjXIBvz5iF6PoNSmVOf6L4Sfjaqr2UhodiMoFvJTrYxB3WrHGuX2BQEsKTgEW13DMJRvh7GV1SY1VMmygdrqCEojaGFgIffy-_1O79P7RrdM7Vfil1jWpLMVrS-gEc1hh3FyRVhDVHfNf9Fv3yT5yiaH7NabIPUytkqb3Mr1YhSsU_NtWKp-hZKQAXCi7r6ZaT2NEWwoMYqVN1cN7b_8aSk8gy_iCVcOAVRVME4jnz0HAicTK6QHaYCfj1WKa0bUnx45J80n_-nnS4UNuAOBqCqnQlUn0nZPHfNebFo3Fj1h4xVz9jCKB6SeC3IsUbFN5cn97LDqTh21zSOtRb5/file\n",
            "Reusing existing connection to uc3d495a9fee00a812ada14c6e90.dl.dropboxusercontent.com:443.\n",
            "HTTP request sent, awaiting response... 200 OK\n",
            "Length: 5290356 (5.0M) [application/zip]\n",
            "Saving to: ‘DigitDB.zip’\n",
            "\n",
            "DigitDB.zip         100%[===================>]   5.04M  8.54MB/s    in 0.6s    \n",
            "\n",
            "2019-07-24 14:55:38 (8.54 MB/s) - ‘DigitDB.zip’ saved [5290356/5290356]\n",
            "\n",
            "Archive:  DigitDB.zip\n",
            "  inflating: Train 60000.cdb         \n",
            "  inflating: RemainingSamples.cdb    \n",
            "  inflating: Test 20000.cdb          \n",
            " DigitDB.zip   RemainingSamples.cdb  'Test 20000.cdb'\n",
            " drive\t       sample_data\t     'Train 60000.cdb'\n"
          ],
          "name": "stdout"
        }
      ]
    },
    {
      "cell_type": "code",
      "metadata": {
        "colab_type": "code",
        "id": "FXB3UTpKlMfi",
        "colab": {}
      },
      "source": [
        "def resize_image(src_image, dst_image_height, dst_image_width):\n",
        "    src_image_height = src_image.shape[0]\n",
        "    src_image_width = src_image.shape[1]\n",
        "\n",
        "    if src_image_height > dst_image_height or src_image_width > dst_image_width:\n",
        "        height_scale = dst_image_height / src_image_height\n",
        "        width_scale = dst_image_width / src_image_width\n",
        "        scale = min(height_scale, width_scale)\n",
        "        img = cv2.resize(src=src_image, dsize=(0, 0), fx=scale, fy=scale, interpolation=cv2.INTER_CUBIC)\n",
        "    else:\n",
        "        img = src_image\n",
        "\n",
        "    img_height = img.shape[0]\n",
        "    img_width = img.shape[1]\n",
        "\n",
        "    dst_image = np.zeros(shape=[dst_image_height, dst_image_width], dtype=np.uint8)\n",
        "\n",
        "    y_offset = (dst_image_height - img_height) // 2\n",
        "    x_offset = (dst_image_width - img_width) // 2\n",
        "\n",
        "    dst_image[y_offset:y_offset + img_height, x_offset:x_offset + img_width] = img\n",
        "\n",
        "    return dst_image\n",
        "\n",
        "\n",
        "def read_cdb(filepath):\n",
        "    with open(filepath, 'rb') as f:\n",
        "        data = f.read()\n",
        "        offset = 0\n",
        "\n",
        "        # read private header\n",
        "        yy = struct.unpack_from('H', data, offset)[0]\n",
        "        offset += 2\n",
        "\n",
        "        m = struct.unpack_from('B', data, offset)[0]\n",
        "        offset += 1\n",
        "\n",
        "        d = struct.unpack_from('B', data, offset)[0]\n",
        "        offset += 1\n",
        "\n",
        "        h = struct.unpack_from('B', data, offset)[0]\n",
        "        offset += 1\n",
        "\n",
        "        w = struct.unpack_from('B', data, offset)[0]\n",
        "        offset += 1\n",
        "\n",
        "        total_rec = struct.unpack_from('I', data, offset)[0]\n",
        "        offset += 4\n",
        "\n",
        "        letter_count = struct.unpack_from('128I', data, offset)\n",
        "        offset += 128 * 4\n",
        "\n",
        "        img_type = struct.unpack_from('B', data, offset)[0]  # 0: binary, 1: gray\n",
        "        offset += 1\n",
        "\n",
        "        comments = struct.unpack_from('256c', data, offset)\n",
        "        offset += 256 * 1\n",
        "\n",
        "        reserved = struct.unpack_from('245c', data, offset)\n",
        "        offset += 245 * 1\n",
        "\n",
        "        if (w > 0) and (h > 0):\n",
        "            normal = True\n",
        "        else:\n",
        "            normal = False\n",
        "\n",
        "        images = []\n",
        "        labels = []\n",
        "\n",
        "        for i in tqdm(range(total_rec), position=0):\n",
        "\n",
        "            start_byte = struct.unpack_from('B', data, offset)[0]  # must be 0xff\n",
        "            offset += 1\n",
        "\n",
        "            label = struct.unpack_from('B', data, offset)[0]\n",
        "            offset += 1\n",
        "\n",
        "            if not normal:\n",
        "                w = struct.unpack_from('B', data, offset)[0]\n",
        "                offset += 1\n",
        "\n",
        "                h = struct.unpack_from('B', data, offset)[0]\n",
        "                offset += 1\n",
        "\n",
        "            byte_count = struct.unpack_from('H', data, offset)[0]\n",
        "            offset += 2\n",
        "\n",
        "            image = np.zeros(shape=[h, w], dtype=np.uint8)\n",
        "\n",
        "            if img_type == 0:\n",
        "                # Binary\n",
        "                for y in range(h):\n",
        "                    b_white = True\n",
        "                    counter = 0\n",
        "                    while counter < w:\n",
        "                        wb_count = struct.unpack_from('B', data, offset)[0]\n",
        "                        offset += 1\n",
        "                        \n",
        "                        if b_white:\n",
        "                            image[y, counter:counter + wb_count] = 0  # Background\n",
        "                        else:\n",
        "                            image[y, counter:counter + wb_count] = 255  # ForeGround\n",
        "                        b_white = not b_white  # black white black white ...\n",
        "                        counter += wb_count\n",
        "            else:\n",
        "                # GrayScale mode\n",
        "                data = struct.unpack_from('{}B'.format(w * h), data, offset)\n",
        "                offset += w * h\n",
        "                image = np.asarray(data, dtype=np.uint8).reshape([w, h]).T\n",
        "\n",
        "            images.append(image)\n",
        "            labels.append(label)\n",
        "\n",
        "        return images, labels\n",
        "    \n",
        "\n",
        "def load_data(datapath, img_height=32, img_width=32):\n",
        "    images, labels = read_cdb(datapath)\n",
        "    assert len(images) == len(labels)\n",
        "    \n",
        "    x = np.zeros(shape=[len(images), img_height, img_width], dtype=np.float32)\n",
        "    y = np.zeros(shape=[len(labels)], dtype=np.int)\n",
        "    \n",
        "    for i in tqdm(range(len(images)), position=0):\n",
        "        image = images[i]\n",
        "        image = resize_image(src_image=image, dst_image_height=img_height, dst_image_width=img_width)\n",
        "        image = image / 255\n",
        "        image = np.where(image >= 0.5, 1, 0)\n",
        "        \n",
        "        x[i] = image\n",
        "        y[i] = labels[i]\n",
        "    \n",
        "    x, y = shuffle(x, y, random_state=0)\n",
        "    \n",
        "    return x, y"
      ],
      "execution_count": 0,
      "outputs": []
    },
    {
      "cell_type": "markdown",
      "metadata": {
        "colab_type": "text",
        "id": "SN1S_EEGXbj8"
      },
      "source": [
        "# Load the data"
      ]
    },
    {
      "cell_type": "code",
      "metadata": {
        "colab_type": "code",
        "id": "uIbpGWtDXgje",
        "outputId": "8d86d828-5961-40aa-a448-05ba455c3d45",
        "colab": {
          "base_uri": "https://localhost:8080/",
          "height": 119
        }
      },
      "source": [
        "trainset_dir = 'Train 60000.cdb'\n",
        "testset_dir = 'Test 20000.cdb'\n",
        "\n",
        "x_train, y_train = load_data(trainset_dir)\n",
        "x_test, y_test = load_data(testset_dir)\n",
        "\n",
        "print('Train: %s, Labels: #%s' %(x_train.shape, len(y_train)))\n",
        "print('Test: %s, Labels: #%s' %(x_test.shape, len(y_test)))"
      ],
      "execution_count": 0,
      "outputs": [
        {
          "output_type": "stream",
          "text": [
            "100%|██████████| 60000/60000 [00:07<00:00, 8401.26it/s]\n",
            "100%|██████████| 60000/60000 [00:01<00:00, 58604.49it/s]\n",
            "100%|██████████| 20000/20000 [00:02<00:00, 7866.61it/s]\n",
            "100%|██████████| 20000/20000 [00:00<00:00, 55908.21it/s]"
          ],
          "name": "stderr"
        },
        {
          "output_type": "stream",
          "text": [
            "Train: (60000, 32, 32), Labels: #60000\n",
            "Test: (20000, 32, 32), Labels: #20000\n"
          ],
          "name": "stdout"
        },
        {
          "output_type": "stream",
          "text": [
            "\n"
          ],
          "name": "stderr"
        }
      ]
    },
    {
      "cell_type": "code",
      "metadata": {
        "colab_type": "code",
        "id": "bdTifnmTliIt",
        "outputId": "1bc4488c-ea44-49e1-b83b-b789894883d3",
        "colab": {
          "base_uri": "https://localhost:8080/",
          "height": 68
        }
      },
      "source": [
        "x_train, x_valid, y_train, y_valid = train_test_split(x_train, y_train, test_size=0.05, random_state=RANDOM_SEED)\n",
        "\n",
        "print('Train: %s, Labels: #%s' %(x_train.shape, len(y_train)))\n",
        "print('Valid: %s, Labels: #%s' %(x_valid.shape, len(y_valid)))\n",
        "print('Test: %s, Labels: #%s' %(x_test.shape, len(y_test)))"
      ],
      "execution_count": 0,
      "outputs": [
        {
          "output_type": "stream",
          "text": [
            "Train: (57000, 32, 32), Labels: #57000\n",
            "Valid: (3000, 32, 32), Labels: #3000\n",
            "Test: (20000, 32, 32), Labels: #20000\n"
          ],
          "name": "stdout"
        }
      ]
    },
    {
      "cell_type": "markdown",
      "metadata": {
        "colab_type": "text",
        "id": "TQvIbHwmlXZP"
      },
      "source": [
        "# Visualizing the data"
      ]
    },
    {
      "cell_type": "code",
      "metadata": {
        "colab_type": "code",
        "id": "xFEfXVajlZ7p",
        "outputId": "d392a52b-0ef2-4761-d296-a1c802389e69",
        "colab": {
          "base_uri": "https://localhost:8080/",
          "height": 681
        }
      },
      "source": [
        "plt.figure(figsize=(8, 8))\n",
        "for i in range(25):\n",
        "    plt.subplot(5, 5, i+1)\n",
        "    plt.xticks([])\n",
        "    plt.yticks([])\n",
        "    plt.grid(False)\n",
        "    plt.imshow(x_train[i], cmap=plt.cm.binary)\n",
        "    plt.xlabel(str(y_train[i]))\n",
        "plt.show()"
      ],
      "execution_count": 0,
      "outputs": [
        {
          "output_type": "display_data",
          "data": {
            "image/png": "[encoded data removed]",
            "text/plain": [
              "<Figure size 800x800 with 25 Axes>"
            ]
          },
          "metadata": {
            "tags": []
          }
        }
      ]
    },
    {
      "cell_type": "code",
      "metadata": {
        "colab_type": "code",
        "id": "DCS442JQlaWx",
        "outputId": "0ac2ee70-86cd-4a35-a7b1-6a966d317000",
        "colab": {
          "base_uri": "https://localhost:8080/",
          "height": 681
        }
      },
      "source": [
        "plt.figure(figsize=(8, 8))\n",
        "for i in range(25):\n",
        "    plt.subplot(5, 5, i+1)\n",
        "    plt.xticks([])\n",
        "    plt.yticks([])\n",
        "    plt.grid(False)\n",
        "    plt.imshow(x_test[i], cmap=plt.cm.binary)\n",
        "    plt.xlabel(str(y_test[i]))\n",
        "plt.show()"
      ],
      "execution_count": 0,
      "outputs": [
        {
          "output_type": "display_data",
          "data": {
            "image/png": "[encoded data removed]",
            "text/plain": [
              "<Figure size 800x800 with 25 Axes>"
            ]
          },
          "metadata": {
            "tags": []
          }
        }
      ]
    },
    {
      "cell_type": "markdown",
      "metadata": {
        "colab_type": "text",
        "id": "LbHWF190XhGb"
      },
      "source": [
        "# Preprocessing"
      ]
    },
    {
      "cell_type": "code",
      "metadata": {
        "colab_type": "code",
        "id": "5hauYJwcXjBe",
        "outputId": "48e5f079-4bdd-4625-9d85-1474478789a1",
        "colab": {
          "base_uri": "https://localhost:8080/",
          "height": 68
        }
      },
      "source": [
        ""
      ],
      "execution_count": 0,
      "outputs": [
        {
          "output_type": "stream",
          "text": [
            "Train: (57000, 32, 32, 1)\n",
            "Valid: (3000, 32, 32, 1)\n",
            "Test: (20000, 32, 32, 1)\n"
          ],
          "name": "stdout"
        }
      ]
    },
    {
      "cell_type": "markdown",
      "metadata": {
        "colab_type": "text",
        "id": "NR54aYN1Xjys"
      },
      "source": [
        "# Arch"
      ]
    },
    {
      "cell_type": "code",
      "metadata": {
        "colab_type": "code",
        "id": "JKQZFFrBXl_2",
        "colab": {}
      },
      "source": [
        "def build_model(dnn_units):\n",
        "    model, r, evaluate = None, None, None\n",
        "    \n",
        "    return model, r, evaluate"
      ],
      "execution_count": 0,
      "outputs": []
    },
    {
      "cell_type": "code",
      "metadata": {
        "colab_type": "code",
        "id": "Coma-A9NnRbV",
        "colab": {}
      },
      "source": [
        "model, r, evaluate = build_model(64)\n",
        "evaluate"
      ],
      "execution_count": 0,
      "outputs": []
    },
    {
      "cell_type": "markdown",
      "metadata": {
        "colab_type": "text",
        "id": "wpEV8bd7xK-8"
      },
      "source": [
        "# Tensorboard"
      ]
    },
    {
      "cell_type": "markdown",
      "metadata": {
        "id": "1Bv7E-EpfMF1",
        "colab_type": "text"
      },
      "source": [
        "## Hyperparams Tuning"
      ]
    },
    {
      "cell_type": "code",
      "metadata": {
        "colab_type": "code",
        "id": "09UbDXbYxUAc",
        "colab": {}
      },
      "source": [
        "def train_test_model(hparams):\n",
        "    model = None\n",
        "    accuracy = 0\n",
        "    \n",
        "    return accuracy"
      ],
      "execution_count": 0,
      "outputs": []
    },
    {
      "cell_type": "code",
      "metadata": {
        "colab_type": "code",
        "id": "trTZTrr3rOe9",
        "colab": {}
      },
      "source": [
        "from datetime import datetime\n",
        "\n",
        "!rm -rf ./logs/\n",
        "logdir = 'logs/scaler/' + datetime.now().strftime('%Y%m%d-%H%M%S')"
      ],
      "execution_count": 0,
      "outputs": []
    },
    {
      "cell_type": "code",
      "metadata": {
        "colab_type": "code",
        "id": "uWsA3vjNxnQd",
        "colab": {}
      },
      "source": [
        "from tensorboard.plugins.hparams import api as hp\n",
        "\n",
        "\n",
        "HP_DNN_UNITS = hp.HParam('dnn_units', hp.Discrete([16, 32, 64]))\n",
        "HP_DROPOUT = hp.HParam('dropout', hp.RealInterval(0.1, 0.4))\n",
        "HP_OPTIMIZER = hp.HParam('optimizer', hp.Discrete(['adam', 'rmsprop', 'sgd']))\n",
        "METRIC_ACCURACY = 'accuracy'\n",
        "\n",
        "with tf.summary.create_file_writer(logdir + '/hparam').as_default():\n",
        "    hp.hparams_config(\n",
        "        hparams=[HP_DNN_UNITS, HP_DROPOUT, HP_OPTIMIZER],\n",
        "        metrics=[hp.Metric(METRIC_ACCURACY, display_name='Accuracy')],\n",
        "    )"
      ],
      "execution_count": 0,
      "outputs": []
    },
    {
      "cell_type": "code",
      "metadata": {
        "colab_type": "code",
        "id": "tcUWDyN11ULA",
        "colab": {}
      },
      "source": [
        "def run(run_dir, hparams):\n",
        "    with tf.summary.create_file_writer(run_dir).as_default():\n",
        "        hp.hparams(hparams)  # record the values used in this trial\n",
        "        accuracy = train_test_model(hparams)\n",
        "        tf.summary.scalar(METRIC_ACCURACY, accuracy, step=1)"
      ],
      "execution_count": 0,
      "outputs": []
    },
    {
      "cell_type": "code",
      "metadata": {
        "colab_type": "code",
        "id": "6iiIFD_Z06w4",
        "colab": {}
      },
      "source": [
        "session_num = 0\n",
        "\n",
        "for num_units in HP_DNN_UNITS.domain.values:\n",
        "    for dropout_rate in (HP_DROPOUT.domain.min_value, HP_DROPOUT.domain.max_value):\n",
        "        for optimizer in HP_OPTIMIZER.domain.values:\n",
        "            hparams = {\n",
        "                HP_DNN_UNITS: num_units,\n",
        "                HP_DROPOUT: dropout_rate,\n",
        "                HP_OPTIMIZER: optimizer,\n",
        "            }\n",
        "            run_name = \"run-%d\" % session_num\n",
        "            print('--- Starting trial: %s' % run_name)\n",
        "            print({h.name: hparams[h] for h in hparams})\n",
        "            run(logdir + '/hparam/' + run_name, hparams)\n",
        "            session_num += 1\n"
      ],
      "execution_count": 0,
      "outputs": []
    },
    {
      "cell_type": "markdown",
      "metadata": {
        "colab_type": "text",
        "id": "s589KauT7gNc"
      },
      "source": [
        "## After Tuning"
      ]
    },
    {
      "cell_type": "code",
      "metadata": {
        "colab_type": "code",
        "id": "UmNIvD0k3A_E",
        "colab": {}
      },
      "source": [
        "def build_optimal_model():\n",
        "    model = None\n",
        "    \n",
        "    return model"
      ],
      "execution_count": 0,
      "outputs": []
    },
    {
      "cell_type": "code",
      "metadata": {
        "colab_type": "code",
        "id": "uw2uHEao5KzR",
        "colab": {}
      },
      "source": [
        "optimal_model = build_optimal_model()"
      ],
      "execution_count": 0,
      "outputs": []
    },
    {
      "cell_type": "code",
      "metadata": {
        "colab_type": "code",
        "id": "O2VRuISi5Ye1",
        "colab": {}
      },
      "source": [
        "from datetime import datetime\n",
        "\n",
        "!rm -rf ./logs/\n",
        "logdir = 'logs/scaler/' + datetime.now().strftime('%Y%m%d-%H%M%S')"
      ],
      "execution_count": 0,
      "outputs": []
    },
    {
      "cell_type": "code",
      "metadata": {
        "colab_type": "code",
        "id": "i8uPQJMjDA3y",
        "colab": {}
      },
      "source": [
        "class ImagePredictionCallBack(tf.keras.callbacks.Callback):\n",
        "    \n",
        "    def __init__(self, log_dir, model):\n",
        "        super(ImagePredictionCallBack, self).__init__()\n",
        "        "
      ],
      "execution_count": 0,
      "outputs": []
    },
    {
      "cell_type": "code",
      "metadata": {
        "colab_type": "code",
        "id": "MiT8nU6ZmhCn",
        "colab": {}
      },
      "source": [
        "ig_cb = ImagePredictionCallBack(log_dir=logdir, model=optimal_model)\n",
        "tb_cb = tf.keras.callbacks.TensorBoard(log_dir=logdir, histogram_freq=1)"
      ],
      "execution_count": 0,
      "outputs": []
    },
    {
      "cell_type": "code",
      "metadata": {
        "colab_type": "code",
        "id": "ywML_LgSnc0M",
        "colab": {}
      },
      "source": [
        "r = optimal_model.fit(x_train_ext, y_train, \n",
        "              validation_data=[x_valid_ext, y_valid],\n",
        "              epochs=2, \n",
        "              batch_size=128,\n",
        "              callbacks=[tb_cb, ig_cb],\n",
        "              verbose=1)"
      ],
      "execution_count": 0,
      "outputs": []
    },
    {
      "cell_type": "markdown",
      "metadata": {
        "colab_type": "text",
        "id": "Mz1zPcxrrbbm"
      },
      "source": [
        "## Tensorboard"
      ]
    },
    {
      "cell_type": "code",
      "metadata": {
        "colab_type": "code",
        "id": "eZh3RicQret7",
        "colab": {}
      },
      "source": [
        "# %tensorboard --logdir logs/scaler/"
      ],
      "execution_count": 0,
      "outputs": []
    },
    {
      "cell_type": "code",
      "metadata": {
        "colab_type": "code",
        "id": "ho0HOTrppjhi",
        "colab": {}
      },
      "source": [
        ""
      ],
      "execution_count": 0,
      "outputs": []
    }
  ]
}